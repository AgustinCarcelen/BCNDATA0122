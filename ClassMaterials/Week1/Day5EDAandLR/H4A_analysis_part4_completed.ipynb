{
 "cells": [
  {
   "cell_type": "code",
   "execution_count": 1,
   "id": "c2185620",
   "metadata": {},
   "outputs": [],
   "source": [
    "# importing the libraries \n",
    "\n",
    "import numpy as np \n",
    "import pandas as pd "
   ]
  },
  {
   "cell_type": "code",
   "execution_count": 2,
   "id": "1f82bbbb",
   "metadata": {},
   "outputs": [
    {
     "name": "stdout",
     "output_type": "stream",
     "text": [
      "Github-WorkFlow-Tips-Crunchify-Tips.png H4A_analysis_part3.ipynb\r\n",
      "H4A_analysis_1-inprogress.ipynb         \u001b[34mdata for class\u001b[m\u001b[m\r\n",
      "H4A_analysis_1-inprogress2.ipynb        data for class.zip\r\n",
      "H4A_analysis_1.ipynb                    merged_healthcare.csv\r\n",
      "H4A_analysis_2-inprogress.ipynb         my_notebook.ipynb\r\n",
      "H4A_analysis_2-inprogress2.ipynb        pandas intro with annotation.ipynb\r\n",
      "H4A_analysis_3.ipynb                    sians notebook demo.ipynb\r\n"
     ]
    }
   ],
   "source": [
    "# navigate to the data set we will use \n",
    "\n",
    "!ls"
   ]
  },
  {
   "cell_type": "code",
   "execution_count": 3,
   "id": "2a142c47",
   "metadata": {},
   "outputs": [
    {
     "name": "stdout",
     "output_type": "stream",
     "text": [
      "/Users/siandavies/Documents/working/Jan22/data for class\n"
     ]
    }
   ],
   "source": [
    "cd 'data for class'"
   ]
  },
  {
   "cell_type": "code",
   "execution_count": 4,
   "id": "526aa452",
   "metadata": {},
   "outputs": [
    {
     "name": "stdout",
     "output_type": "stream",
     "text": [
      "/Users/siandavies/Documents/working/Jan22/data for class\r\n"
     ]
    }
   ],
   "source": [
    "!pwd"
   ]
  },
  {
   "cell_type": "code",
   "execution_count": 5,
   "id": "092af6e1",
   "metadata": {},
   "outputs": [
    {
     "name": "stdout",
     "output_type": "stream",
     "text": [
      "/Users/siandavies/Documents/working/Jan22\n"
     ]
    }
   ],
   "source": [
    "cd .."
   ]
  },
  {
   "cell_type": "code",
   "execution_count": 6,
   "id": "e047010c",
   "metadata": {},
   "outputs": [
    {
     "name": "stdout",
     "output_type": "stream",
     "text": [
      "/Users/siandavies/Documents/working\n"
     ]
    }
   ],
   "source": [
    "cd .."
   ]
  },
  {
   "cell_type": "code",
   "execution_count": 7,
   "id": "7863f31c",
   "metadata": {},
   "outputs": [
    {
     "name": "stdout",
     "output_type": "stream",
     "text": [
      "/Users/siandavies/Documents\n"
     ]
    }
   ],
   "source": [
    "cd .."
   ]
  },
  {
   "cell_type": "code",
   "execution_count": 8,
   "id": "66205288",
   "metadata": {},
   "outputs": [
    {
     "name": "stdout",
     "output_type": "stream",
     "text": [
      "/Users/siandavies/Documents/working/Jan22/data for class\n"
     ]
    }
   ],
   "source": [
    "cd /Users/siandavies/Documents/working/Jan22/data for class"
   ]
  },
  {
   "cell_type": "code",
   "execution_count": 9,
   "id": "ac646f08",
   "metadata": {},
   "outputs": [
    {
     "name": "stdout",
     "output_type": "stream",
     "text": [
      "/Users/siandavies/Documents/working/Jan22/data for class\r\n"
     ]
    }
   ],
   "source": [
    "!pwd"
   ]
  },
  {
   "cell_type": "code",
   "execution_count": 10,
   "id": "079fefe8",
   "metadata": {},
   "outputs": [
    {
     "name": "stdout",
     "output_type": "stream",
     "text": [
      "/Users/siandavies/Documents/working/Jan22\n"
     ]
    }
   ],
   "source": [
    "cd .. "
   ]
  },
  {
   "cell_type": "markdown",
   "id": "a77bf532",
   "metadata": {},
   "source": [
    "## Import data "
   ]
  },
  {
   "cell_type": "code",
   "execution_count": 11,
   "id": "552436b2",
   "metadata": {},
   "outputs": [],
   "source": [
    "# import file1\n",
    "file1=pd.read_csv('data for class/file1.csv')"
   ]
  },
  {
   "cell_type": "code",
   "execution_count": 12,
   "id": "62f471f7",
   "metadata": {},
   "outputs": [
    {
     "data": {
      "text/html": [
       "<div>\n",
       "<style scoped>\n",
       "    .dataframe tbody tr th:only-of-type {\n",
       "        vertical-align: middle;\n",
       "    }\n",
       "\n",
       "    .dataframe tbody tr th {\n",
       "        vertical-align: top;\n",
       "    }\n",
       "\n",
       "    .dataframe thead th {\n",
       "        text-align: right;\n",
       "    }\n",
       "</style>\n",
       "<table border=\"1\" class=\"dataframe\">\n",
       "  <thead>\n",
       "    <tr style=\"text-align: right;\">\n",
       "      <th></th>\n",
       "      <th>CONTROLN</th>\n",
       "      <th>STATE</th>\n",
       "      <th>GENDER</th>\n",
       "      <th>HV1</th>\n",
       "      <th>IC1</th>\n",
       "      <th>IC4</th>\n",
       "      <th>HVP1</th>\n",
       "      <th>IC5</th>\n",
       "      <th>POBC1</th>\n",
       "      <th>POBC2</th>\n",
       "      <th>IC2</th>\n",
       "      <th>IC3</th>\n",
       "      <th>AVGGIFT</th>\n",
       "      <th>TCODE</th>\n",
       "      <th>DOB</th>\n",
       "      <th>DOMAIN</th>\n",
       "      <th>TARGET_D</th>\n",
       "    </tr>\n",
       "  </thead>\n",
       "  <tbody>\n",
       "    <tr>\n",
       "      <th>0</th>\n",
       "      <td>44060</td>\n",
       "      <td>FL</td>\n",
       "      <td>M</td>\n",
       "      <td>AAA896</td>\n",
       "      <td>392</td>\n",
       "      <td>520.0</td>\n",
       "      <td>7</td>\n",
       "      <td>21975</td>\n",
       "      <td>6</td>\n",
       "      <td>16</td>\n",
       "      <td>430.0</td>\n",
       "      <td>466</td>\n",
       "      <td>28.000000</td>\n",
       "      <td>1</td>\n",
       "      <td>1901</td>\n",
       "      <td>C2</td>\n",
       "      <td>100.0</td>\n",
       "    </tr>\n",
       "    <tr>\n",
       "      <th>1</th>\n",
       "      <td>96093</td>\n",
       "      <td>IL</td>\n",
       "      <td>M</td>\n",
       "      <td>537.00</td>\n",
       "      <td>365</td>\n",
       "      <td>473.0</td>\n",
       "      <td>0</td>\n",
       "      <td>19387</td>\n",
       "      <td>1</td>\n",
       "      <td>89</td>\n",
       "      <td>415.0</td>\n",
       "      <td>410</td>\n",
       "      <td>5.666667</td>\n",
       "      <td>0</td>\n",
       "      <td>0</td>\n",
       "      <td>T2</td>\n",
       "      <td>7.0</td>\n",
       "    </tr>\n",
       "    <tr>\n",
       "      <th>2</th>\n",
       "      <td>43333</td>\n",
       "      <td>FL</td>\n",
       "      <td>F</td>\n",
       "      <td>725.00</td>\n",
       "      <td>301</td>\n",
       "      <td>436.0</td>\n",
       "      <td>3</td>\n",
       "      <td>18837</td>\n",
       "      <td>11</td>\n",
       "      <td>17</td>\n",
       "      <td>340.0</td>\n",
       "      <td>361</td>\n",
       "      <td>4.111111</td>\n",
       "      <td>0</td>\n",
       "      <td>2501</td>\n",
       "      <td>C2</td>\n",
       "      <td>5.0</td>\n",
       "    </tr>\n",
       "    <tr>\n",
       "      <th>3</th>\n",
       "      <td>21885</td>\n",
       "      <td>NC</td>\n",
       "      <td>M</td>\n",
       "      <td>AAA1095</td>\n",
       "      <td>401</td>\n",
       "      <td>413.0</td>\n",
       "      <td>7</td>\n",
       "      <td>14014</td>\n",
       "      <td>1</td>\n",
       "      <td>74</td>\n",
       "      <td>407.0</td>\n",
       "      <td>399</td>\n",
       "      <td>27.277778</td>\n",
       "      <td>0</td>\n",
       "      <td>2208</td>\n",
       "      <td>T2</td>\n",
       "      <td>38.0</td>\n",
       "    </tr>\n",
       "    <tr>\n",
       "      <th>4</th>\n",
       "      <td>190108</td>\n",
       "      <td>FL</td>\n",
       "      <td>F</td>\n",
       "      <td>995.00</td>\n",
       "      <td>252</td>\n",
       "      <td>348.0</td>\n",
       "      <td>0</td>\n",
       "      <td>17991</td>\n",
       "      <td>5</td>\n",
       "      <td>6</td>\n",
       "      <td>280.0</td>\n",
       "      <td>316</td>\n",
       "      <td>6.000000</td>\n",
       "      <td>28</td>\n",
       "      <td>0</td>\n",
       "      <td>C2</td>\n",
       "      <td>5.0</td>\n",
       "    </tr>\n",
       "    <tr>\n",
       "      <th>...</th>\n",
       "      <td>...</td>\n",
       "      <td>...</td>\n",
       "      <td>...</td>\n",
       "      <td>...</td>\n",
       "      <td>...</td>\n",
       "      <td>...</td>\n",
       "      <td>...</td>\n",
       "      <td>...</td>\n",
       "      <td>...</td>\n",
       "      <td>...</td>\n",
       "      <td>...</td>\n",
       "      <td>...</td>\n",
       "      <td>...</td>\n",
       "      <td>...</td>\n",
       "      <td>...</td>\n",
       "      <td>...</td>\n",
       "      <td>...</td>\n",
       "    </tr>\n",
       "    <tr>\n",
       "      <th>1002</th>\n",
       "      <td>114721</td>\n",
       "      <td>OK</td>\n",
       "      <td>NaN</td>\n",
       "      <td>1040</td>\n",
       "      <td>472</td>\n",
       "      <td>656.0</td>\n",
       "      <td>0</td>\n",
       "      <td>26962</td>\n",
       "      <td>2</td>\n",
       "      <td>56</td>\n",
       "      <td>609.0</td>\n",
       "      <td>579</td>\n",
       "      <td>11.666667</td>\n",
       "      <td>0</td>\n",
       "      <td>0</td>\n",
       "      <td>C2</td>\n",
       "      <td>15.0</td>\n",
       "    </tr>\n",
       "    <tr>\n",
       "      <th>1003</th>\n",
       "      <td>149152</td>\n",
       "      <td>CA</td>\n",
       "      <td>M</td>\n",
       "      <td>4507</td>\n",
       "      <td>842</td>\n",
       "      <td>962.0</td>\n",
       "      <td>95</td>\n",
       "      <td>54642</td>\n",
       "      <td>17</td>\n",
       "      <td>50</td>\n",
       "      <td>1004.0</td>\n",
       "      <td>893</td>\n",
       "      <td>20.000000</td>\n",
       "      <td>1</td>\n",
       "      <td>4401</td>\n",
       "      <td>S1</td>\n",
       "      <td>20.0</td>\n",
       "    </tr>\n",
       "    <tr>\n",
       "      <th>1004</th>\n",
       "      <td>959</td>\n",
       "      <td>IA</td>\n",
       "      <td>F</td>\n",
       "      <td>586</td>\n",
       "      <td>349</td>\n",
       "      <td>465.0</td>\n",
       "      <td>1</td>\n",
       "      <td>15304</td>\n",
       "      <td>1</td>\n",
       "      <td>77</td>\n",
       "      <td>413.0</td>\n",
       "      <td>404</td>\n",
       "      <td>7.300000</td>\n",
       "      <td>0</td>\n",
       "      <td>4404</td>\n",
       "      <td>C2</td>\n",
       "      <td>10.0</td>\n",
       "    </tr>\n",
       "    <tr>\n",
       "      <th>1005</th>\n",
       "      <td>179563</td>\n",
       "      <td>WA</td>\n",
       "      <td>male</td>\n",
       "      <td>842</td>\n",
       "      <td>420</td>\n",
       "      <td>494.0</td>\n",
       "      <td>2</td>\n",
       "      <td>12894</td>\n",
       "      <td>41</td>\n",
       "      <td>24</td>\n",
       "      <td>419.0</td>\n",
       "      <td>476</td>\n",
       "      <td>16.400000</td>\n",
       "      <td>1</td>\n",
       "      <td>5001</td>\n",
       "      <td>S2</td>\n",
       "      <td>23.0</td>\n",
       "    </tr>\n",
       "    <tr>\n",
       "      <th>1006</th>\n",
       "      <td>41243</td>\n",
       "      <td>FL</td>\n",
       "      <td>F</td>\n",
       "      <td>556</td>\n",
       "      <td>246</td>\n",
       "      <td>330.0</td>\n",
       "      <td>0</td>\n",
       "      <td>10272</td>\n",
       "      <td>2</td>\n",
       "      <td>56</td>\n",
       "      <td>277.0</td>\n",
       "      <td>292</td>\n",
       "      <td>9.818182</td>\n",
       "      <td>2</td>\n",
       "      <td>2201</td>\n",
       "      <td>S2</td>\n",
       "      <td>12.0</td>\n",
       "    </tr>\n",
       "  </tbody>\n",
       "</table>\n",
       "<p>1007 rows × 17 columns</p>\n",
       "</div>"
      ],
      "text/plain": [
       "      CONTROLN STATE GENDER      HV1  IC1    IC4  HVP1    IC5  POBC1  POBC2  \\\n",
       "0        44060    FL      M   AAA896  392  520.0     7  21975      6     16   \n",
       "1        96093    IL      M   537.00  365  473.0     0  19387      1     89   \n",
       "2        43333    FL      F   725.00  301  436.0     3  18837     11     17   \n",
       "3        21885    NC      M  AAA1095  401  413.0     7  14014      1     74   \n",
       "4       190108    FL      F   995.00  252  348.0     0  17991      5      6   \n",
       "...        ...   ...    ...      ...  ...    ...   ...    ...    ...    ...   \n",
       "1002    114721    OK    NaN     1040  472  656.0     0  26962      2     56   \n",
       "1003    149152    CA      M     4507  842  962.0    95  54642     17     50   \n",
       "1004       959    IA      F      586  349  465.0     1  15304      1     77   \n",
       "1005    179563    WA   male      842  420  494.0     2  12894     41     24   \n",
       "1006     41243    FL      F      556  246  330.0     0  10272      2     56   \n",
       "\n",
       "         IC2  IC3    AVGGIFT  TCODE   DOB DOMAIN  TARGET_D  \n",
       "0      430.0  466  28.000000      1  1901     C2     100.0  \n",
       "1      415.0  410   5.666667      0     0     T2       7.0  \n",
       "2      340.0  361   4.111111      0  2501     C2       5.0  \n",
       "3      407.0  399  27.277778      0  2208     T2      38.0  \n",
       "4      280.0  316   6.000000     28     0     C2       5.0  \n",
       "...      ...  ...        ...    ...   ...    ...       ...  \n",
       "1002   609.0  579  11.666667      0     0     C2      15.0  \n",
       "1003  1004.0  893  20.000000      1  4401     S1      20.0  \n",
       "1004   413.0  404   7.300000      0  4404     C2      10.0  \n",
       "1005   419.0  476  16.400000      1  5001     S2      23.0  \n",
       "1006   277.0  292   9.818182      2  2201     S2      12.0  \n",
       "\n",
       "[1007 rows x 17 columns]"
      ]
     },
     "execution_count": 12,
     "metadata": {},
     "output_type": "execute_result"
    }
   ],
   "source": [
    "file1"
   ]
  },
  {
   "cell_type": "code",
   "execution_count": 13,
   "id": "c6a047a3",
   "metadata": {},
   "outputs": [
    {
     "data": {
      "text/html": [
       "<div>\n",
       "<style scoped>\n",
       "    .dataframe tbody tr th:only-of-type {\n",
       "        vertical-align: middle;\n",
       "    }\n",
       "\n",
       "    .dataframe tbody tr th {\n",
       "        vertical-align: top;\n",
       "    }\n",
       "\n",
       "    .dataframe thead th {\n",
       "        text-align: right;\n",
       "    }\n",
       "</style>\n",
       "<table border=\"1\" class=\"dataframe\">\n",
       "  <thead>\n",
       "    <tr style=\"text-align: right;\">\n",
       "      <th></th>\n",
       "      <th>CONTROLN</th>\n",
       "      <th>IC1</th>\n",
       "      <th>IC4</th>\n",
       "      <th>HVP1</th>\n",
       "      <th>POBC1</th>\n",
       "      <th>POBC2</th>\n",
       "      <th>IC2</th>\n",
       "      <th>IC3</th>\n",
       "      <th>AVGGIFT</th>\n",
       "      <th>TCODE</th>\n",
       "      <th>DOB</th>\n",
       "      <th>TARGET_D</th>\n",
       "    </tr>\n",
       "  </thead>\n",
       "  <tbody>\n",
       "    <tr>\n",
       "      <th>count</th>\n",
       "      <td>1007.000000</td>\n",
       "      <td>1007.000000</td>\n",
       "      <td>1006.000000</td>\n",
       "      <td>1007.000000</td>\n",
       "      <td>1007.000000</td>\n",
       "      <td>1007.000000</td>\n",
       "      <td>1006.000000</td>\n",
       "      <td>1007.000000</td>\n",
       "      <td>1007.000000</td>\n",
       "      <td>1007.000000</td>\n",
       "      <td>1007.000000</td>\n",
       "      <td>1007.000000</td>\n",
       "    </tr>\n",
       "    <tr>\n",
       "      <th>mean</th>\n",
       "      <td>98913.029791</td>\n",
       "      <td>352.015889</td>\n",
       "      <td>445.059642</td>\n",
       "      <td>16.261172</td>\n",
       "      <td>6.847071</td>\n",
       "      <td>55.630586</td>\n",
       "      <td>401.658052</td>\n",
       "      <td>400.022840</td>\n",
       "      <td>11.863404</td>\n",
       "      <td>37.747766</td>\n",
       "      <td>2555.362463</td>\n",
       "      <td>16.026604</td>\n",
       "    </tr>\n",
       "    <tr>\n",
       "      <th>std</th>\n",
       "      <td>58306.879885</td>\n",
       "      <td>173.937638</td>\n",
       "      <td>178.115476</td>\n",
       "      <td>29.464477</td>\n",
       "      <td>9.333689</td>\n",
       "      <td>21.593999</td>\n",
       "      <td>182.024618</td>\n",
       "      <td>168.901139</td>\n",
       "      <td>7.829965</td>\n",
       "      <td>213.010617</td>\n",
       "      <td>2069.953954</td>\n",
       "      <td>14.586646</td>\n",
       "    </tr>\n",
       "    <tr>\n",
       "      <th>min</th>\n",
       "      <td>71.000000</td>\n",
       "      <td>0.000000</td>\n",
       "      <td>0.000000</td>\n",
       "      <td>0.000000</td>\n",
       "      <td>0.000000</td>\n",
       "      <td>0.000000</td>\n",
       "      <td>0.000000</td>\n",
       "      <td>0.000000</td>\n",
       "      <td>2.361111</td>\n",
       "      <td>0.000000</td>\n",
       "      <td>0.000000</td>\n",
       "      <td>1.000000</td>\n",
       "    </tr>\n",
       "    <tr>\n",
       "      <th>25%</th>\n",
       "      <td>44930.500000</td>\n",
       "      <td>238.500000</td>\n",
       "      <td>325.000000</td>\n",
       "      <td>0.000000</td>\n",
       "      <td>1.000000</td>\n",
       "      <td>41.000000</td>\n",
       "      <td>283.000000</td>\n",
       "      <td>286.000000</td>\n",
       "      <td>7.285714</td>\n",
       "      <td>0.000000</td>\n",
       "      <td>0.000000</td>\n",
       "      <td>10.000000</td>\n",
       "    </tr>\n",
       "    <tr>\n",
       "      <th>50%</th>\n",
       "      <td>101113.000000</td>\n",
       "      <td>319.000000</td>\n",
       "      <td>406.000000</td>\n",
       "      <td>1.000000</td>\n",
       "      <td>4.000000</td>\n",
       "      <td>57.000000</td>\n",
       "      <td>364.500000</td>\n",
       "      <td>361.000000</td>\n",
       "      <td>10.000000</td>\n",
       "      <td>1.000000</td>\n",
       "      <td>2501.000000</td>\n",
       "      <td>13.920000</td>\n",
       "    </tr>\n",
       "    <tr>\n",
       "      <th>75%</th>\n",
       "      <td>151559.000000</td>\n",
       "      <td>421.500000</td>\n",
       "      <td>527.000000</td>\n",
       "      <td>14.000000</td>\n",
       "      <td>9.000000</td>\n",
       "      <td>74.000000</td>\n",
       "      <td>474.750000</td>\n",
       "      <td>478.000000</td>\n",
       "      <td>14.500000</td>\n",
       "      <td>2.000000</td>\n",
       "      <td>4308.500000</td>\n",
       "      <td>20.000000</td>\n",
       "    </tr>\n",
       "    <tr>\n",
       "      <th>max</th>\n",
       "      <td>191779.000000</td>\n",
       "      <td>1500.000000</td>\n",
       "      <td>1263.000000</td>\n",
       "      <td>99.000000</td>\n",
       "      <td>73.000000</td>\n",
       "      <td>96.000000</td>\n",
       "      <td>1500.000000</td>\n",
       "      <td>1185.000000</td>\n",
       "      <td>89.444444</td>\n",
       "      <td>4002.000000</td>\n",
       "      <td>8305.000000</td>\n",
       "      <td>200.000000</td>\n",
       "    </tr>\n",
       "  </tbody>\n",
       "</table>\n",
       "</div>"
      ],
      "text/plain": [
       "            CONTROLN          IC1          IC4         HVP1        POBC1  \\\n",
       "count    1007.000000  1007.000000  1006.000000  1007.000000  1007.000000   \n",
       "mean    98913.029791   352.015889   445.059642    16.261172     6.847071   \n",
       "std     58306.879885   173.937638   178.115476    29.464477     9.333689   \n",
       "min        71.000000     0.000000     0.000000     0.000000     0.000000   \n",
       "25%     44930.500000   238.500000   325.000000     0.000000     1.000000   \n",
       "50%    101113.000000   319.000000   406.000000     1.000000     4.000000   \n",
       "75%    151559.000000   421.500000   527.000000    14.000000     9.000000   \n",
       "max    191779.000000  1500.000000  1263.000000    99.000000    73.000000   \n",
       "\n",
       "             POBC2          IC2          IC3      AVGGIFT        TCODE  \\\n",
       "count  1007.000000  1006.000000  1007.000000  1007.000000  1007.000000   \n",
       "mean     55.630586   401.658052   400.022840    11.863404    37.747766   \n",
       "std      21.593999   182.024618   168.901139     7.829965   213.010617   \n",
       "min       0.000000     0.000000     0.000000     2.361111     0.000000   \n",
       "25%      41.000000   283.000000   286.000000     7.285714     0.000000   \n",
       "50%      57.000000   364.500000   361.000000    10.000000     1.000000   \n",
       "75%      74.000000   474.750000   478.000000    14.500000     2.000000   \n",
       "max      96.000000  1500.000000  1185.000000    89.444444  4002.000000   \n",
       "\n",
       "               DOB     TARGET_D  \n",
       "count  1007.000000  1007.000000  \n",
       "mean   2555.362463    16.026604  \n",
       "std    2069.953954    14.586646  \n",
       "min       0.000000     1.000000  \n",
       "25%       0.000000    10.000000  \n",
       "50%    2501.000000    13.920000  \n",
       "75%    4308.500000    20.000000  \n",
       "max    8305.000000   200.000000  "
      ]
     },
     "execution_count": 13,
     "metadata": {},
     "output_type": "execute_result"
    }
   ],
   "source": [
    "file1.describe()"
   ]
  },
  {
   "cell_type": "code",
   "execution_count": 14,
   "id": "cbb6be0e",
   "metadata": {},
   "outputs": [
    {
     "name": "stdout",
     "output_type": "stream",
     "text": [
      "<class 'pandas.core.frame.DataFrame'>\n",
      "RangeIndex: 1007 entries, 0 to 1006\n",
      "Data columns (total 17 columns):\n",
      " #   Column    Non-Null Count  Dtype  \n",
      "---  ------    --------------  -----  \n",
      " 0   CONTROLN  1007 non-null   int64  \n",
      " 1   STATE     1007 non-null   object \n",
      " 2   GENDER    967 non-null    object \n",
      " 3   HV1       1005 non-null   object \n",
      " 4   IC1       1007 non-null   int64  \n",
      " 5   IC4       1006 non-null   float64\n",
      " 6   HVP1      1007 non-null   int64  \n",
      " 7   IC5       1007 non-null   object \n",
      " 8   POBC1     1007 non-null   int64  \n",
      " 9   POBC2     1007 non-null   int64  \n",
      " 10  IC2       1006 non-null   float64\n",
      " 11  IC3       1007 non-null   int64  \n",
      " 12  AVGGIFT   1007 non-null   float64\n",
      " 13  TCODE     1007 non-null   int64  \n",
      " 14  DOB       1007 non-null   int64  \n",
      " 15  DOMAIN    1007 non-null   object \n",
      " 16  TARGET_D  1007 non-null   float64\n",
      "dtypes: float64(4), int64(8), object(5)\n",
      "memory usage: 133.9+ KB\n"
     ]
    }
   ],
   "source": [
    "file1.info()"
   ]
  },
  {
   "cell_type": "code",
   "execution_count": 15,
   "id": "5d974a71",
   "metadata": {},
   "outputs": [
    {
     "data": {
      "text/html": [
       "<div>\n",
       "<style scoped>\n",
       "    .dataframe tbody tr th:only-of-type {\n",
       "        vertical-align: middle;\n",
       "    }\n",
       "\n",
       "    .dataframe tbody tr th {\n",
       "        vertical-align: top;\n",
       "    }\n",
       "\n",
       "    .dataframe thead th {\n",
       "        text-align: right;\n",
       "    }\n",
       "</style>\n",
       "<table border=\"1\" class=\"dataframe\">\n",
       "  <thead>\n",
       "    <tr style=\"text-align: right;\">\n",
       "      <th></th>\n",
       "      <th>CONTROLN</th>\n",
       "      <th>STATE</th>\n",
       "      <th>GENDER</th>\n",
       "      <th>HV1</th>\n",
       "      <th>IC1</th>\n",
       "      <th>IC4</th>\n",
       "      <th>HVP1</th>\n",
       "      <th>IC5</th>\n",
       "      <th>POBC1</th>\n",
       "      <th>POBC2</th>\n",
       "      <th>IC2</th>\n",
       "      <th>IC3</th>\n",
       "      <th>AVGGIFT</th>\n",
       "      <th>TCODE</th>\n",
       "      <th>DOB</th>\n",
       "      <th>DOMAIN</th>\n",
       "      <th>TARGET_D</th>\n",
       "    </tr>\n",
       "  </thead>\n",
       "  <tbody>\n",
       "    <tr>\n",
       "      <th>0</th>\n",
       "      <td>44060</td>\n",
       "      <td>FL</td>\n",
       "      <td>M</td>\n",
       "      <td>AAA896</td>\n",
       "      <td>392</td>\n",
       "      <td>520.0</td>\n",
       "      <td>7</td>\n",
       "      <td>21975</td>\n",
       "      <td>6</td>\n",
       "      <td>16</td>\n",
       "      <td>430.0</td>\n",
       "      <td>466</td>\n",
       "      <td>28.000000</td>\n",
       "      <td>1</td>\n",
       "      <td>1901</td>\n",
       "      <td>C2</td>\n",
       "      <td>100.0</td>\n",
       "    </tr>\n",
       "    <tr>\n",
       "      <th>1</th>\n",
       "      <td>96093</td>\n",
       "      <td>IL</td>\n",
       "      <td>M</td>\n",
       "      <td>537.00</td>\n",
       "      <td>365</td>\n",
       "      <td>473.0</td>\n",
       "      <td>0</td>\n",
       "      <td>19387</td>\n",
       "      <td>1</td>\n",
       "      <td>89</td>\n",
       "      <td>415.0</td>\n",
       "      <td>410</td>\n",
       "      <td>5.666667</td>\n",
       "      <td>0</td>\n",
       "      <td>0</td>\n",
       "      <td>T2</td>\n",
       "      <td>7.0</td>\n",
       "    </tr>\n",
       "    <tr>\n",
       "      <th>2</th>\n",
       "      <td>43333</td>\n",
       "      <td>FL</td>\n",
       "      <td>F</td>\n",
       "      <td>725.00</td>\n",
       "      <td>301</td>\n",
       "      <td>436.0</td>\n",
       "      <td>3</td>\n",
       "      <td>18837</td>\n",
       "      <td>11</td>\n",
       "      <td>17</td>\n",
       "      <td>340.0</td>\n",
       "      <td>361</td>\n",
       "      <td>4.111111</td>\n",
       "      <td>0</td>\n",
       "      <td>2501</td>\n",
       "      <td>C2</td>\n",
       "      <td>5.0</td>\n",
       "    </tr>\n",
       "    <tr>\n",
       "      <th>3</th>\n",
       "      <td>21885</td>\n",
       "      <td>NC</td>\n",
       "      <td>M</td>\n",
       "      <td>AAA1095</td>\n",
       "      <td>401</td>\n",
       "      <td>413.0</td>\n",
       "      <td>7</td>\n",
       "      <td>14014</td>\n",
       "      <td>1</td>\n",
       "      <td>74</td>\n",
       "      <td>407.0</td>\n",
       "      <td>399</td>\n",
       "      <td>27.277778</td>\n",
       "      <td>0</td>\n",
       "      <td>2208</td>\n",
       "      <td>T2</td>\n",
       "      <td>38.0</td>\n",
       "    </tr>\n",
       "    <tr>\n",
       "      <th>4</th>\n",
       "      <td>190108</td>\n",
       "      <td>FL</td>\n",
       "      <td>F</td>\n",
       "      <td>995.00</td>\n",
       "      <td>252</td>\n",
       "      <td>348.0</td>\n",
       "      <td>0</td>\n",
       "      <td>17991</td>\n",
       "      <td>5</td>\n",
       "      <td>6</td>\n",
       "      <td>280.0</td>\n",
       "      <td>316</td>\n",
       "      <td>6.000000</td>\n",
       "      <td>28</td>\n",
       "      <td>0</td>\n",
       "      <td>C2</td>\n",
       "      <td>5.0</td>\n",
       "    </tr>\n",
       "  </tbody>\n",
       "</table>\n",
       "</div>"
      ],
      "text/plain": [
       "   CONTROLN STATE GENDER      HV1  IC1    IC4  HVP1    IC5  POBC1  POBC2  \\\n",
       "0     44060    FL      M   AAA896  392  520.0     7  21975      6     16   \n",
       "1     96093    IL      M   537.00  365  473.0     0  19387      1     89   \n",
       "2     43333    FL      F   725.00  301  436.0     3  18837     11     17   \n",
       "3     21885    NC      M  AAA1095  401  413.0     7  14014      1     74   \n",
       "4    190108    FL      F   995.00  252  348.0     0  17991      5      6   \n",
       "\n",
       "     IC2  IC3    AVGGIFT  TCODE   DOB DOMAIN  TARGET_D  \n",
       "0  430.0  466  28.000000      1  1901     C2     100.0  \n",
       "1  415.0  410   5.666667      0     0     T2       7.0  \n",
       "2  340.0  361   4.111111      0  2501     C2       5.0  \n",
       "3  407.0  399  27.277778      0  2208     T2      38.0  \n",
       "4  280.0  316   6.000000     28     0     C2       5.0  "
      ]
     },
     "execution_count": 15,
     "metadata": {},
     "output_type": "execute_result"
    }
   ],
   "source": [
    "file1.head()"
   ]
  },
  {
   "cell_type": "code",
   "execution_count": 16,
   "id": "2d134e6f",
   "metadata": {},
   "outputs": [
    {
     "data": {
      "text/html": [
       "<div>\n",
       "<style scoped>\n",
       "    .dataframe tbody tr th:only-of-type {\n",
       "        vertical-align: middle;\n",
       "    }\n",
       "\n",
       "    .dataframe tbody tr th {\n",
       "        vertical-align: top;\n",
       "    }\n",
       "\n",
       "    .dataframe thead th {\n",
       "        text-align: right;\n",
       "    }\n",
       "</style>\n",
       "<table border=\"1\" class=\"dataframe\">\n",
       "  <thead>\n",
       "    <tr style=\"text-align: right;\">\n",
       "      <th></th>\n",
       "      <th>CONTROLN</th>\n",
       "      <th>STATE</th>\n",
       "      <th>GENDER</th>\n",
       "      <th>HV1</th>\n",
       "      <th>IC1</th>\n",
       "      <th>IC4</th>\n",
       "      <th>HVP1</th>\n",
       "      <th>IC5</th>\n",
       "      <th>POBC1</th>\n",
       "      <th>POBC2</th>\n",
       "      <th>IC2</th>\n",
       "      <th>IC3</th>\n",
       "      <th>AVGGIFT</th>\n",
       "      <th>TCODE</th>\n",
       "      <th>DOB</th>\n",
       "      <th>DOMAIN</th>\n",
       "      <th>TARGET_D</th>\n",
       "    </tr>\n",
       "  </thead>\n",
       "  <tbody>\n",
       "    <tr>\n",
       "      <th>1002</th>\n",
       "      <td>114721</td>\n",
       "      <td>OK</td>\n",
       "      <td>NaN</td>\n",
       "      <td>1040</td>\n",
       "      <td>472</td>\n",
       "      <td>656.0</td>\n",
       "      <td>0</td>\n",
       "      <td>26962</td>\n",
       "      <td>2</td>\n",
       "      <td>56</td>\n",
       "      <td>609.0</td>\n",
       "      <td>579</td>\n",
       "      <td>11.666667</td>\n",
       "      <td>0</td>\n",
       "      <td>0</td>\n",
       "      <td>C2</td>\n",
       "      <td>15.0</td>\n",
       "    </tr>\n",
       "    <tr>\n",
       "      <th>1003</th>\n",
       "      <td>149152</td>\n",
       "      <td>CA</td>\n",
       "      <td>M</td>\n",
       "      <td>4507</td>\n",
       "      <td>842</td>\n",
       "      <td>962.0</td>\n",
       "      <td>95</td>\n",
       "      <td>54642</td>\n",
       "      <td>17</td>\n",
       "      <td>50</td>\n",
       "      <td>1004.0</td>\n",
       "      <td>893</td>\n",
       "      <td>20.000000</td>\n",
       "      <td>1</td>\n",
       "      <td>4401</td>\n",
       "      <td>S1</td>\n",
       "      <td>20.0</td>\n",
       "    </tr>\n",
       "    <tr>\n",
       "      <th>1004</th>\n",
       "      <td>959</td>\n",
       "      <td>IA</td>\n",
       "      <td>F</td>\n",
       "      <td>586</td>\n",
       "      <td>349</td>\n",
       "      <td>465.0</td>\n",
       "      <td>1</td>\n",
       "      <td>15304</td>\n",
       "      <td>1</td>\n",
       "      <td>77</td>\n",
       "      <td>413.0</td>\n",
       "      <td>404</td>\n",
       "      <td>7.300000</td>\n",
       "      <td>0</td>\n",
       "      <td>4404</td>\n",
       "      <td>C2</td>\n",
       "      <td>10.0</td>\n",
       "    </tr>\n",
       "    <tr>\n",
       "      <th>1005</th>\n",
       "      <td>179563</td>\n",
       "      <td>WA</td>\n",
       "      <td>male</td>\n",
       "      <td>842</td>\n",
       "      <td>420</td>\n",
       "      <td>494.0</td>\n",
       "      <td>2</td>\n",
       "      <td>12894</td>\n",
       "      <td>41</td>\n",
       "      <td>24</td>\n",
       "      <td>419.0</td>\n",
       "      <td>476</td>\n",
       "      <td>16.400000</td>\n",
       "      <td>1</td>\n",
       "      <td>5001</td>\n",
       "      <td>S2</td>\n",
       "      <td>23.0</td>\n",
       "    </tr>\n",
       "    <tr>\n",
       "      <th>1006</th>\n",
       "      <td>41243</td>\n",
       "      <td>FL</td>\n",
       "      <td>F</td>\n",
       "      <td>556</td>\n",
       "      <td>246</td>\n",
       "      <td>330.0</td>\n",
       "      <td>0</td>\n",
       "      <td>10272</td>\n",
       "      <td>2</td>\n",
       "      <td>56</td>\n",
       "      <td>277.0</td>\n",
       "      <td>292</td>\n",
       "      <td>9.818182</td>\n",
       "      <td>2</td>\n",
       "      <td>2201</td>\n",
       "      <td>S2</td>\n",
       "      <td>12.0</td>\n",
       "    </tr>\n",
       "  </tbody>\n",
       "</table>\n",
       "</div>"
      ],
      "text/plain": [
       "      CONTROLN STATE GENDER   HV1  IC1    IC4  HVP1    IC5  POBC1  POBC2  \\\n",
       "1002    114721    OK    NaN  1040  472  656.0     0  26962      2     56   \n",
       "1003    149152    CA      M  4507  842  962.0    95  54642     17     50   \n",
       "1004       959    IA      F   586  349  465.0     1  15304      1     77   \n",
       "1005    179563    WA   male   842  420  494.0     2  12894     41     24   \n",
       "1006     41243    FL      F   556  246  330.0     0  10272      2     56   \n",
       "\n",
       "         IC2  IC3    AVGGIFT  TCODE   DOB DOMAIN  TARGET_D  \n",
       "1002   609.0  579  11.666667      0     0     C2      15.0  \n",
       "1003  1004.0  893  20.000000      1  4401     S1      20.0  \n",
       "1004   413.0  404   7.300000      0  4404     C2      10.0  \n",
       "1005   419.0  476  16.400000      1  5001     S2      23.0  \n",
       "1006   277.0  292   9.818182      2  2201     S2      12.0  "
      ]
     },
     "execution_count": 16,
     "metadata": {},
     "output_type": "execute_result"
    }
   ],
   "source": [
    "file1.tail()"
   ]
  },
  {
   "cell_type": "code",
   "execution_count": 17,
   "id": "0913cc08",
   "metadata": {},
   "outputs": [],
   "source": [
    "# import file 2 - text file \n",
    "file2=pd.read_csv('data for class/file2.txt',sep='\\t')"
   ]
  },
  {
   "cell_type": "code",
   "execution_count": 18,
   "id": "dd77aba1",
   "metadata": {},
   "outputs": [
    {
     "data": {
      "text/plain": [
       "(1015, 17)"
      ]
     },
     "execution_count": 18,
     "metadata": {},
     "output_type": "execute_result"
    }
   ],
   "source": [
    "file2.shape"
   ]
  },
  {
   "cell_type": "code",
   "execution_count": 19,
   "id": "1afd1ed7",
   "metadata": {},
   "outputs": [
    {
     "name": "stdout",
     "output_type": "stream",
     "text": [
      "<class 'pandas.core.frame.DataFrame'>\n",
      "RangeIndex: 1015 entries, 0 to 1014\n",
      "Data columns (total 17 columns):\n",
      " #   Column    Non-Null Count  Dtype  \n",
      "---  ------    --------------  -----  \n",
      " 0   CONTROLN  1015 non-null   int64  \n",
      " 1   STATE     1015 non-null   object \n",
      " 2   GENDER    985 non-null    object \n",
      " 3   HV1       1015 non-null   int64  \n",
      " 4   IC1       1015 non-null   int64  \n",
      " 5   IC4       1015 non-null   int64  \n",
      " 6   HVP1      1015 non-null   int64  \n",
      " 7   IC5       1015 non-null   int64  \n",
      " 8   POBC1     1015 non-null   int64  \n",
      " 9   POBC2     1015 non-null   int64  \n",
      " 10  IC2       1015 non-null   int64  \n",
      " 11  IC3       1015 non-null   int64  \n",
      " 12  AVGGIFT   1015 non-null   float64\n",
      " 13  TCODE     1015 non-null   int64  \n",
      " 14  DOB       1015 non-null   int64  \n",
      " 15  DOMAIN    1015 non-null   object \n",
      " 16  TARGET_D  1015 non-null   float64\n",
      "dtypes: float64(2), int64(12), object(3)\n",
      "memory usage: 134.9+ KB\n"
     ]
    }
   ],
   "source": [
    "file2.info()"
   ]
  },
  {
   "cell_type": "code",
   "execution_count": 20,
   "id": "fc19d3ac",
   "metadata": {},
   "outputs": [
    {
     "data": {
      "text/plain": [
       "array(['M', 'F', 'feamale', nan, 'U', 'Male', 'male', 'J', 'female',\n",
       "       'Female'], dtype=object)"
      ]
     },
     "execution_count": 20,
     "metadata": {},
     "output_type": "execute_result"
    }
   ],
   "source": [
    "file2['GENDER'].unique()"
   ]
  },
  {
   "cell_type": "code",
   "execution_count": 21,
   "id": "41b7d8ea",
   "metadata": {},
   "outputs": [],
   "source": [
    "file3=pd.read_excel('data for class/file3.xlsx',engine='openpyxl')"
   ]
  },
  {
   "cell_type": "code",
   "execution_count": 22,
   "id": "a99f468f",
   "metadata": {},
   "outputs": [],
   "source": [
    "file4=pd.read_excel('data for class/file4.xlsx',engine='openpyxl')"
   ]
  },
  {
   "cell_type": "code",
   "execution_count": 23,
   "id": "22c9d7d7",
   "metadata": {},
   "outputs": [
    {
     "name": "stdout",
     "output_type": "stream",
     "text": [
      "<class 'pandas.core.frame.DataFrame'>\n",
      "RangeIndex: 1000 entries, 0 to 999\n",
      "Data columns (total 17 columns):\n",
      " #   Column    Non-Null Count  Dtype  \n",
      "---  ------    --------------  -----  \n",
      " 0   CONTROLN  1000 non-null   int64  \n",
      " 1   STATE     1000 non-null   object \n",
      " 2   GENDER    964 non-null    object \n",
      " 3   HV1       1000 non-null   int64  \n",
      " 4   IC1       1000 non-null   int64  \n",
      " 5   IC4       1000 non-null   int64  \n",
      " 6   HVP1      1000 non-null   int64  \n",
      " 7   IC5       1000 non-null   int64  \n",
      " 8   POBC1     1000 non-null   int64  \n",
      " 9   POBC2     1000 non-null   int64  \n",
      " 10  IC2       1000 non-null   int64  \n",
      " 11  IC3       1000 non-null   int64  \n",
      " 12  AVGGIFT   1000 non-null   float64\n",
      " 13  TCODE     1000 non-null   int64  \n",
      " 14  DOB       1000 non-null   int64  \n",
      " 15  DOMAIN    1000 non-null   object \n",
      " 16  TARGET_D  1000 non-null   float64\n",
      "dtypes: float64(2), int64(12), object(3)\n",
      "memory usage: 132.9+ KB\n"
     ]
    }
   ],
   "source": [
    "file3.info()"
   ]
  },
  {
   "cell_type": "code",
   "execution_count": 24,
   "id": "81e0445c",
   "metadata": {},
   "outputs": [
    {
     "name": "stdout",
     "output_type": "stream",
     "text": [
      "<class 'pandas.core.frame.DataFrame'>\n",
      "RangeIndex: 1006 entries, 0 to 1005\n",
      "Data columns (total 17 columns):\n",
      " #   Column    Non-Null Count  Dtype  \n",
      "---  ------    --------------  -----  \n",
      " 0   CONTROLN  1006 non-null   int64  \n",
      " 1   STATE     1006 non-null   object \n",
      " 2   GENDER    976 non-null    object \n",
      " 3   HV1       1006 non-null   object \n",
      " 4   IC1       1006 non-null   int64  \n",
      " 5   IC4       1006 non-null   int64  \n",
      " 6   HVP1      1006 non-null   int64  \n",
      " 7   IC5       1006 non-null   int64  \n",
      " 8   POBC1     1006 non-null   int64  \n",
      " 9   POBC2     1006 non-null   int64  \n",
      " 10  IC2       1006 non-null   int64  \n",
      " 11  IC3       1006 non-null   int64  \n",
      " 12  AVGGIFT   1006 non-null   float64\n",
      " 13  TCODE     1006 non-null   int64  \n",
      " 14  DOB       1006 non-null   int64  \n",
      " 15  DOMAIN    1006 non-null   object \n",
      " 16  TARGET_D  1006 non-null   float64\n",
      "dtypes: float64(2), int64(11), object(4)\n",
      "memory usage: 133.7+ KB\n"
     ]
    }
   ],
   "source": [
    "file4.info()"
   ]
  },
  {
   "cell_type": "code",
   "execution_count": 25,
   "id": "b58edfed",
   "metadata": {},
   "outputs": [
    {
     "data": {
      "text/html": [
       "<div>\n",
       "<style scoped>\n",
       "    .dataframe tbody tr th:only-of-type {\n",
       "        vertical-align: middle;\n",
       "    }\n",
       "\n",
       "    .dataframe tbody tr th {\n",
       "        vertical-align: top;\n",
       "    }\n",
       "\n",
       "    .dataframe thead th {\n",
       "        text-align: right;\n",
       "    }\n",
       "</style>\n",
       "<table border=\"1\" class=\"dataframe\">\n",
       "  <thead>\n",
       "    <tr style=\"text-align: right;\">\n",
       "      <th></th>\n",
       "      <th>CONTROLN</th>\n",
       "      <th>STATE</th>\n",
       "      <th>GENDER</th>\n",
       "      <th>HV1</th>\n",
       "      <th>IC1</th>\n",
       "      <th>IC4</th>\n",
       "      <th>HVP1</th>\n",
       "      <th>IC5</th>\n",
       "      <th>POBC1</th>\n",
       "      <th>POBC2</th>\n",
       "      <th>IC2</th>\n",
       "      <th>IC3</th>\n",
       "      <th>AVGGIFT</th>\n",
       "      <th>TCODE</th>\n",
       "      <th>DOB</th>\n",
       "      <th>DOMAIN</th>\n",
       "      <th>TARGET_D</th>\n",
       "    </tr>\n",
       "  </thead>\n",
       "  <tbody>\n",
       "    <tr>\n",
       "      <th>0</th>\n",
       "      <td>186307</td>\n",
       "      <td>CA</td>\n",
       "      <td>M</td>\n",
       "      <td>AAA1229</td>\n",
       "      <td>345</td>\n",
       "      <td>438</td>\n",
       "      <td>3</td>\n",
       "      <td>15915</td>\n",
       "      <td>2</td>\n",
       "      <td>58</td>\n",
       "      <td>388</td>\n",
       "      <td>417</td>\n",
       "      <td>16.142857</td>\n",
       "      <td>1</td>\n",
       "      <td>2511</td>\n",
       "      <td>C2</td>\n",
       "      <td>20.0</td>\n",
       "    </tr>\n",
       "    <tr>\n",
       "      <th>1</th>\n",
       "      <td>34174</td>\n",
       "      <td>WV</td>\n",
       "      <td>F</td>\n",
       "      <td>529</td>\n",
       "      <td>198</td>\n",
       "      <td>291</td>\n",
       "      <td>0</td>\n",
       "      <td>10816</td>\n",
       "      <td>0</td>\n",
       "      <td>80</td>\n",
       "      <td>218</td>\n",
       "      <td>257</td>\n",
       "      <td>6.083333</td>\n",
       "      <td>2</td>\n",
       "      <td>3001</td>\n",
       "      <td>T2</td>\n",
       "      <td>12.0</td>\n",
       "    </tr>\n",
       "    <tr>\n",
       "      <th>2</th>\n",
       "      <td>101388</td>\n",
       "      <td>MO</td>\n",
       "      <td>M</td>\n",
       "      <td>526</td>\n",
       "      <td>340</td>\n",
       "      <td>342</td>\n",
       "      <td>0</td>\n",
       "      <td>9687</td>\n",
       "      <td>0</td>\n",
       "      <td>89</td>\n",
       "      <td>348</td>\n",
       "      <td>321</td>\n",
       "      <td>5.800000</td>\n",
       "      <td>1</td>\n",
       "      <td>5501</td>\n",
       "      <td>R2</td>\n",
       "      <td>10.0</td>\n",
       "    </tr>\n",
       "    <tr>\n",
       "      <th>3</th>\n",
       "      <td>159472</td>\n",
       "      <td>CA</td>\n",
       "      <td>F</td>\n",
       "      <td>621</td>\n",
       "      <td>231</td>\n",
       "      <td>279</td>\n",
       "      <td>0</td>\n",
       "      <td>6184</td>\n",
       "      <td>43</td>\n",
       "      <td>41</td>\n",
       "      <td>237</td>\n",
       "      <td>272</td>\n",
       "      <td>11.666667</td>\n",
       "      <td>1</td>\n",
       "      <td>1512</td>\n",
       "      <td>R3</td>\n",
       "      <td>15.0</td>\n",
       "    </tr>\n",
       "    <tr>\n",
       "      <th>4</th>\n",
       "      <td>179143</td>\n",
       "      <td>WA</td>\n",
       "      <td>male</td>\n",
       "      <td>1688</td>\n",
       "      <td>496</td>\n",
       "      <td>564</td>\n",
       "      <td>35</td>\n",
       "      <td>22963</td>\n",
       "      <td>2</td>\n",
       "      <td>63</td>\n",
       "      <td>520</td>\n",
       "      <td>521</td>\n",
       "      <td>23.900000</td>\n",
       "      <td>1</td>\n",
       "      <td>3709</td>\n",
       "      <td>T1</td>\n",
       "      <td>25.0</td>\n",
       "    </tr>\n",
       "  </tbody>\n",
       "</table>\n",
       "</div>"
      ],
      "text/plain": [
       "   CONTROLN STATE GENDER      HV1  IC1  IC4  HVP1    IC5  POBC1  POBC2  IC2  \\\n",
       "0    186307    CA      M  AAA1229  345  438     3  15915      2     58  388   \n",
       "1     34174    WV      F      529  198  291     0  10816      0     80  218   \n",
       "2    101388    MO      M      526  340  342     0   9687      0     89  348   \n",
       "3    159472    CA      F      621  231  279     0   6184     43     41  237   \n",
       "4    179143    WA   male     1688  496  564    35  22963      2     63  520   \n",
       "\n",
       "   IC3    AVGGIFT  TCODE   DOB DOMAIN  TARGET_D  \n",
       "0  417  16.142857      1  2511     C2      20.0  \n",
       "1  257   6.083333      2  3001     T2      12.0  \n",
       "2  321   5.800000      1  5501     R2      10.0  \n",
       "3  272  11.666667      1  1512     R3      15.0  \n",
       "4  521  23.900000      1  3709     T1      25.0  "
      ]
     },
     "execution_count": 25,
     "metadata": {},
     "output_type": "execute_result"
    }
   ],
   "source": [
    "file4.head()"
   ]
  },
  {
   "cell_type": "markdown",
   "id": "40cff2f3",
   "metadata": {},
   "source": [
    "#### notes to return to later \n",
    "- missing a lot of gender values \n",
    "- lots of zeros showing in columns \n",
    "- dtypes- esp control n - doesnt look right \n",
    "- occasional missing values eg ic5 "
   ]
  },
  {
   "cell_type": "markdown",
   "id": "eae283a2",
   "metadata": {},
   "source": [
    "## merge the data frames concat() "
   ]
  },
  {
   "cell_type": "code",
   "execution_count": 26,
   "id": "ce77bcc5",
   "metadata": {},
   "outputs": [],
   "source": [
    "data=pd.concat([file1,file2,file3,file4],axis=0)"
   ]
  },
  {
   "cell_type": "code",
   "execution_count": 27,
   "id": "d669207e",
   "metadata": {},
   "outputs": [
    {
     "name": "stdout",
     "output_type": "stream",
     "text": [
      "<class 'pandas.core.frame.DataFrame'>\n",
      "Int64Index: 4028 entries, 0 to 1005\n",
      "Data columns (total 17 columns):\n",
      " #   Column    Non-Null Count  Dtype  \n",
      "---  ------    --------------  -----  \n",
      " 0   CONTROLN  4028 non-null   int64  \n",
      " 1   STATE     4028 non-null   object \n",
      " 2   GENDER    3892 non-null   object \n",
      " 3   HV1       4026 non-null   object \n",
      " 4   IC1       4028 non-null   int64  \n",
      " 5   IC4       4027 non-null   float64\n",
      " 6   HVP1      4028 non-null   int64  \n",
      " 7   IC5       4028 non-null   object \n",
      " 8   POBC1     4028 non-null   int64  \n",
      " 9   POBC2     4028 non-null   int64  \n",
      " 10  IC2       4027 non-null   float64\n",
      " 11  IC3       4028 non-null   int64  \n",
      " 12  AVGGIFT   4028 non-null   float64\n",
      " 13  TCODE     4028 non-null   int64  \n",
      " 14  DOB       4028 non-null   int64  \n",
      " 15  DOMAIN    4028 non-null   object \n",
      " 16  TARGET_D  4028 non-null   float64\n",
      "dtypes: float64(4), int64(8), object(5)\n",
      "memory usage: 566.4+ KB\n"
     ]
    }
   ],
   "source": [
    "data.info()"
   ]
  },
  {
   "cell_type": "code",
   "execution_count": 28,
   "id": "e7ba376f",
   "metadata": {},
   "outputs": [
    {
     "data": {
      "text/html": [
       "<div>\n",
       "<style scoped>\n",
       "    .dataframe tbody tr th:only-of-type {\n",
       "        vertical-align: middle;\n",
       "    }\n",
       "\n",
       "    .dataframe tbody tr th {\n",
       "        vertical-align: top;\n",
       "    }\n",
       "\n",
       "    .dataframe thead th {\n",
       "        text-align: right;\n",
       "    }\n",
       "</style>\n",
       "<table border=\"1\" class=\"dataframe\">\n",
       "  <thead>\n",
       "    <tr style=\"text-align: right;\">\n",
       "      <th></th>\n",
       "      <th>CONTROLN</th>\n",
       "      <th>STATE</th>\n",
       "      <th>GENDER</th>\n",
       "      <th>HV1</th>\n",
       "      <th>IC1</th>\n",
       "      <th>IC4</th>\n",
       "      <th>HVP1</th>\n",
       "      <th>IC5</th>\n",
       "      <th>POBC1</th>\n",
       "      <th>POBC2</th>\n",
       "      <th>IC2</th>\n",
       "      <th>IC3</th>\n",
       "      <th>AVGGIFT</th>\n",
       "      <th>TCODE</th>\n",
       "      <th>DOB</th>\n",
       "      <th>DOMAIN</th>\n",
       "      <th>TARGET_D</th>\n",
       "    </tr>\n",
       "  </thead>\n",
       "  <tbody>\n",
       "    <tr>\n",
       "      <th>1001</th>\n",
       "      <td>41537</td>\n",
       "      <td>FL</td>\n",
       "      <td>F</td>\n",
       "      <td>742</td>\n",
       "      <td>396</td>\n",
       "      <td>470.0</td>\n",
       "      <td>0</td>\n",
       "      <td>15356</td>\n",
       "      <td>7</td>\n",
       "      <td>37</td>\n",
       "      <td>424.0</td>\n",
       "      <td>450</td>\n",
       "      <td>14.285714</td>\n",
       "      <td>2</td>\n",
       "      <td>6101</td>\n",
       "      <td>S2</td>\n",
       "      <td>50.0</td>\n",
       "    </tr>\n",
       "    <tr>\n",
       "      <th>1002</th>\n",
       "      <td>4881</td>\n",
       "      <td>FL</td>\n",
       "      <td>M</td>\n",
       "      <td>599</td>\n",
       "      <td>100</td>\n",
       "      <td>423.0</td>\n",
       "      <td>4</td>\n",
       "      <td>11670</td>\n",
       "      <td>10</td>\n",
       "      <td>27</td>\n",
       "      <td>406.0</td>\n",
       "      <td>200</td>\n",
       "      <td>9.230769</td>\n",
       "      <td>28</td>\n",
       "      <td>7401</td>\n",
       "      <td>C1</td>\n",
       "      <td>10.0</td>\n",
       "    </tr>\n",
       "    <tr>\n",
       "      <th>1003</th>\n",
       "      <td>66358</td>\n",
       "      <td>ND</td>\n",
       "      <td>M</td>\n",
       "      <td>593</td>\n",
       "      <td>258</td>\n",
       "      <td>299.0</td>\n",
       "      <td>0</td>\n",
       "      <td>10186</td>\n",
       "      <td>1</td>\n",
       "      <td>70</td>\n",
       "      <td>298.0</td>\n",
       "      <td>274</td>\n",
       "      <td>5.266667</td>\n",
       "      <td>1</td>\n",
       "      <td>3301</td>\n",
       "      <td>S2</td>\n",
       "      <td>5.0</td>\n",
       "    </tr>\n",
       "    <tr>\n",
       "      <th>1004</th>\n",
       "      <td>2231</td>\n",
       "      <td>WI</td>\n",
       "      <td>male</td>\n",
       "      <td>564</td>\n",
       "      <td>217</td>\n",
       "      <td>397.0</td>\n",
       "      <td>0</td>\n",
       "      <td>12315</td>\n",
       "      <td>0</td>\n",
       "      <td>96</td>\n",
       "      <td>386.0</td>\n",
       "      <td>295</td>\n",
       "      <td>11.400000</td>\n",
       "      <td>1</td>\n",
       "      <td>7301</td>\n",
       "      <td>T2</td>\n",
       "      <td>14.0</td>\n",
       "    </tr>\n",
       "    <tr>\n",
       "      <th>1005</th>\n",
       "      <td>68534</td>\n",
       "      <td>MI</td>\n",
       "      <td>M</td>\n",
       "      <td>651</td>\n",
       "      <td>431</td>\n",
       "      <td>505.0</td>\n",
       "      <td>0</td>\n",
       "      <td>14845</td>\n",
       "      <td>7</td>\n",
       "      <td>77</td>\n",
       "      <td>451.0</td>\n",
       "      <td>455</td>\n",
       "      <td>7.428571</td>\n",
       "      <td>1</td>\n",
       "      <td>1709</td>\n",
       "      <td>S2</td>\n",
       "      <td>9.0</td>\n",
       "    </tr>\n",
       "  </tbody>\n",
       "</table>\n",
       "</div>"
      ],
      "text/plain": [
       "      CONTROLN STATE GENDER  HV1  IC1    IC4  HVP1    IC5  POBC1  POBC2  \\\n",
       "1001     41537    FL      F  742  396  470.0     0  15356      7     37   \n",
       "1002      4881    FL      M  599  100  423.0     4  11670     10     27   \n",
       "1003     66358    ND      M  593  258  299.0     0  10186      1     70   \n",
       "1004      2231    WI   male  564  217  397.0     0  12315      0     96   \n",
       "1005     68534    MI      M  651  431  505.0     0  14845      7     77   \n",
       "\n",
       "        IC2  IC3    AVGGIFT  TCODE   DOB DOMAIN  TARGET_D  \n",
       "1001  424.0  450  14.285714      2  6101     S2      50.0  \n",
       "1002  406.0  200   9.230769     28  7401     C1      10.0  \n",
       "1003  298.0  274   5.266667      1  3301     S2       5.0  \n",
       "1004  386.0  295  11.400000      1  7301     T2      14.0  \n",
       "1005  451.0  455   7.428571      1  1709     S2       9.0  "
      ]
     },
     "execution_count": 28,
     "metadata": {},
     "output_type": "execute_result"
    }
   ],
   "source": [
    "data.tail()"
   ]
  },
  {
   "cell_type": "code",
   "execution_count": 29,
   "id": "e5eb5f04",
   "metadata": {},
   "outputs": [],
   "source": [
    "# reset the index because it has been truncated in the concat() \n",
    "data.reset_index(drop=True, inplace=True)"
   ]
  },
  {
   "cell_type": "code",
   "execution_count": 30,
   "id": "f0ae3b64",
   "metadata": {},
   "outputs": [
    {
     "data": {
      "text/html": [
       "<div>\n",
       "<style scoped>\n",
       "    .dataframe tbody tr th:only-of-type {\n",
       "        vertical-align: middle;\n",
       "    }\n",
       "\n",
       "    .dataframe tbody tr th {\n",
       "        vertical-align: top;\n",
       "    }\n",
       "\n",
       "    .dataframe thead th {\n",
       "        text-align: right;\n",
       "    }\n",
       "</style>\n",
       "<table border=\"1\" class=\"dataframe\">\n",
       "  <thead>\n",
       "    <tr style=\"text-align: right;\">\n",
       "      <th></th>\n",
       "      <th>CONTROLN</th>\n",
       "      <th>STATE</th>\n",
       "      <th>GENDER</th>\n",
       "      <th>HV1</th>\n",
       "      <th>IC1</th>\n",
       "      <th>IC4</th>\n",
       "      <th>HVP1</th>\n",
       "      <th>IC5</th>\n",
       "      <th>POBC1</th>\n",
       "      <th>POBC2</th>\n",
       "      <th>IC2</th>\n",
       "      <th>IC3</th>\n",
       "      <th>AVGGIFT</th>\n",
       "      <th>TCODE</th>\n",
       "      <th>DOB</th>\n",
       "      <th>DOMAIN</th>\n",
       "      <th>TARGET_D</th>\n",
       "    </tr>\n",
       "  </thead>\n",
       "  <tbody>\n",
       "    <tr>\n",
       "      <th>4023</th>\n",
       "      <td>41537</td>\n",
       "      <td>FL</td>\n",
       "      <td>F</td>\n",
       "      <td>742</td>\n",
       "      <td>396</td>\n",
       "      <td>470.0</td>\n",
       "      <td>0</td>\n",
       "      <td>15356</td>\n",
       "      <td>7</td>\n",
       "      <td>37</td>\n",
       "      <td>424.0</td>\n",
       "      <td>450</td>\n",
       "      <td>14.285714</td>\n",
       "      <td>2</td>\n",
       "      <td>6101</td>\n",
       "      <td>S2</td>\n",
       "      <td>50.0</td>\n",
       "    </tr>\n",
       "    <tr>\n",
       "      <th>4024</th>\n",
       "      <td>4881</td>\n",
       "      <td>FL</td>\n",
       "      <td>M</td>\n",
       "      <td>599</td>\n",
       "      <td>100</td>\n",
       "      <td>423.0</td>\n",
       "      <td>4</td>\n",
       "      <td>11670</td>\n",
       "      <td>10</td>\n",
       "      <td>27</td>\n",
       "      <td>406.0</td>\n",
       "      <td>200</td>\n",
       "      <td>9.230769</td>\n",
       "      <td>28</td>\n",
       "      <td>7401</td>\n",
       "      <td>C1</td>\n",
       "      <td>10.0</td>\n",
       "    </tr>\n",
       "    <tr>\n",
       "      <th>4025</th>\n",
       "      <td>66358</td>\n",
       "      <td>ND</td>\n",
       "      <td>M</td>\n",
       "      <td>593</td>\n",
       "      <td>258</td>\n",
       "      <td>299.0</td>\n",
       "      <td>0</td>\n",
       "      <td>10186</td>\n",
       "      <td>1</td>\n",
       "      <td>70</td>\n",
       "      <td>298.0</td>\n",
       "      <td>274</td>\n",
       "      <td>5.266667</td>\n",
       "      <td>1</td>\n",
       "      <td>3301</td>\n",
       "      <td>S2</td>\n",
       "      <td>5.0</td>\n",
       "    </tr>\n",
       "    <tr>\n",
       "      <th>4026</th>\n",
       "      <td>2231</td>\n",
       "      <td>WI</td>\n",
       "      <td>male</td>\n",
       "      <td>564</td>\n",
       "      <td>217</td>\n",
       "      <td>397.0</td>\n",
       "      <td>0</td>\n",
       "      <td>12315</td>\n",
       "      <td>0</td>\n",
       "      <td>96</td>\n",
       "      <td>386.0</td>\n",
       "      <td>295</td>\n",
       "      <td>11.400000</td>\n",
       "      <td>1</td>\n",
       "      <td>7301</td>\n",
       "      <td>T2</td>\n",
       "      <td>14.0</td>\n",
       "    </tr>\n",
       "    <tr>\n",
       "      <th>4027</th>\n",
       "      <td>68534</td>\n",
       "      <td>MI</td>\n",
       "      <td>M</td>\n",
       "      <td>651</td>\n",
       "      <td>431</td>\n",
       "      <td>505.0</td>\n",
       "      <td>0</td>\n",
       "      <td>14845</td>\n",
       "      <td>7</td>\n",
       "      <td>77</td>\n",
       "      <td>451.0</td>\n",
       "      <td>455</td>\n",
       "      <td>7.428571</td>\n",
       "      <td>1</td>\n",
       "      <td>1709</td>\n",
       "      <td>S2</td>\n",
       "      <td>9.0</td>\n",
       "    </tr>\n",
       "  </tbody>\n",
       "</table>\n",
       "</div>"
      ],
      "text/plain": [
       "      CONTROLN STATE GENDER  HV1  IC1    IC4  HVP1    IC5  POBC1  POBC2  \\\n",
       "4023     41537    FL      F  742  396  470.0     0  15356      7     37   \n",
       "4024      4881    FL      M  599  100  423.0     4  11670     10     27   \n",
       "4025     66358    ND      M  593  258  299.0     0  10186      1     70   \n",
       "4026      2231    WI   male  564  217  397.0     0  12315      0     96   \n",
       "4027     68534    MI      M  651  431  505.0     0  14845      7     77   \n",
       "\n",
       "        IC2  IC3    AVGGIFT  TCODE   DOB DOMAIN  TARGET_D  \n",
       "4023  424.0  450  14.285714      2  6101     S2      50.0  \n",
       "4024  406.0  200   9.230769     28  7401     C1      10.0  \n",
       "4025  298.0  274   5.266667      1  3301     S2       5.0  \n",
       "4026  386.0  295  11.400000      1  7301     T2      14.0  \n",
       "4027  451.0  455   7.428571      1  1709     S2       9.0  "
      ]
     },
     "execution_count": 30,
     "metadata": {},
     "output_type": "execute_result"
    }
   ],
   "source": [
    "data.tail()"
   ]
  },
  {
   "cell_type": "markdown",
   "id": "f7b39eba",
   "metadata": {},
   "source": [
    "## Cleaning steps \n",
    "\n",
    "- standardise the headers into lower case \n",
    "- drop specified columns \n",
    "- change the dtypes \n",
    "- drop any duplicates \n",
    "- fill empty values or drop them \n",
    "\n",
    "#### enhance the data - fix messy data \n",
    "- rename the columns to be more useful \n",
    "- bucket the values / standardise the labels "
   ]
  },
  {
   "cell_type": "code",
   "execution_count": 31,
   "id": "936ff434",
   "metadata": {},
   "outputs": [
    {
     "data": {
      "text/plain": [
       "Index(['CONTROLN', 'STATE', 'GENDER', 'HV1', 'IC1', 'IC4', 'HVP1', 'IC5',\n",
       "       'POBC1', 'POBC2', 'IC2', 'IC3', 'AVGGIFT', 'TCODE', 'DOB', 'DOMAIN',\n",
       "       'TARGET_D'],\n",
       "      dtype='object')"
      ]
     },
     "execution_count": 31,
     "metadata": {},
     "output_type": "execute_result"
    }
   ],
   "source": [
    "# for loop to change the column headers to lower case \n",
    "data.columns"
   ]
  },
  {
   "cell_type": "code",
   "execution_count": 32,
   "id": "d964334d",
   "metadata": {},
   "outputs": [],
   "source": [
    "#set up list to collect lower case column names and iterate \n",
    "cols=[]\n",
    "for i in range(len(data.columns)):\n",
    "    cols.append(data.columns[i].lower())"
   ]
  },
  {
   "cell_type": "code",
   "execution_count": 33,
   "id": "4b6cf918",
   "metadata": {},
   "outputs": [],
   "source": [
    "#replace the columns by position \n",
    "data.columns=cols"
   ]
  },
  {
   "cell_type": "code",
   "execution_count": 34,
   "id": "48a8210c",
   "metadata": {},
   "outputs": [
    {
     "data": {
      "text/plain": [
       "Index(['controln', 'state', 'gender', 'hv1', 'ic1', 'ic4', 'hvp1', 'ic5',\n",
       "       'pobc1', 'pobc2', 'ic2', 'ic3', 'avggift', 'tcode', 'dob', 'domain',\n",
       "       'target_d'],\n",
       "      dtype='object')"
      ]
     },
     "execution_count": 34,
     "metadata": {},
     "output_type": "execute_result"
    }
   ],
   "source": [
    "#new columns \n",
    "data.columns"
   ]
  },
  {
   "cell_type": "code",
   "execution_count": 35,
   "id": "d77b6253",
   "metadata": {},
   "outputs": [],
   "source": [
    "# IF you needed to - drop a couple of columns using drop()\n",
    "datanew=data.drop(['controln','pobc2'],axis=1)"
   ]
  },
  {
   "cell_type": "code",
   "execution_count": 36,
   "id": "abb2f916",
   "metadata": {},
   "outputs": [
    {
     "data": {
      "text/html": [
       "<div>\n",
       "<style scoped>\n",
       "    .dataframe tbody tr th:only-of-type {\n",
       "        vertical-align: middle;\n",
       "    }\n",
       "\n",
       "    .dataframe tbody tr th {\n",
       "        vertical-align: top;\n",
       "    }\n",
       "\n",
       "    .dataframe thead th {\n",
       "        text-align: right;\n",
       "    }\n",
       "</style>\n",
       "<table border=\"1\" class=\"dataframe\">\n",
       "  <thead>\n",
       "    <tr style=\"text-align: right;\">\n",
       "      <th></th>\n",
       "      <th>state</th>\n",
       "      <th>gender</th>\n",
       "      <th>hv1</th>\n",
       "      <th>ic1</th>\n",
       "      <th>ic4</th>\n",
       "      <th>hvp1</th>\n",
       "      <th>ic5</th>\n",
       "      <th>pobc1</th>\n",
       "      <th>ic2</th>\n",
       "      <th>ic3</th>\n",
       "      <th>avggift</th>\n",
       "      <th>tcode</th>\n",
       "      <th>dob</th>\n",
       "      <th>domain</th>\n",
       "      <th>target_d</th>\n",
       "    </tr>\n",
       "  </thead>\n",
       "  <tbody>\n",
       "    <tr>\n",
       "      <th>0</th>\n",
       "      <td>FL</td>\n",
       "      <td>M</td>\n",
       "      <td>AAA896</td>\n",
       "      <td>392</td>\n",
       "      <td>520.0</td>\n",
       "      <td>7</td>\n",
       "      <td>21975</td>\n",
       "      <td>6</td>\n",
       "      <td>430.0</td>\n",
       "      <td>466</td>\n",
       "      <td>28.000000</td>\n",
       "      <td>1</td>\n",
       "      <td>1901</td>\n",
       "      <td>C2</td>\n",
       "      <td>100.0</td>\n",
       "    </tr>\n",
       "    <tr>\n",
       "      <th>1</th>\n",
       "      <td>IL</td>\n",
       "      <td>M</td>\n",
       "      <td>537.00</td>\n",
       "      <td>365</td>\n",
       "      <td>473.0</td>\n",
       "      <td>0</td>\n",
       "      <td>19387</td>\n",
       "      <td>1</td>\n",
       "      <td>415.0</td>\n",
       "      <td>410</td>\n",
       "      <td>5.666667</td>\n",
       "      <td>0</td>\n",
       "      <td>0</td>\n",
       "      <td>T2</td>\n",
       "      <td>7.0</td>\n",
       "    </tr>\n",
       "    <tr>\n",
       "      <th>2</th>\n",
       "      <td>FL</td>\n",
       "      <td>F</td>\n",
       "      <td>725.00</td>\n",
       "      <td>301</td>\n",
       "      <td>436.0</td>\n",
       "      <td>3</td>\n",
       "      <td>18837</td>\n",
       "      <td>11</td>\n",
       "      <td>340.0</td>\n",
       "      <td>361</td>\n",
       "      <td>4.111111</td>\n",
       "      <td>0</td>\n",
       "      <td>2501</td>\n",
       "      <td>C2</td>\n",
       "      <td>5.0</td>\n",
       "    </tr>\n",
       "    <tr>\n",
       "      <th>3</th>\n",
       "      <td>NC</td>\n",
       "      <td>M</td>\n",
       "      <td>AAA1095</td>\n",
       "      <td>401</td>\n",
       "      <td>413.0</td>\n",
       "      <td>7</td>\n",
       "      <td>14014</td>\n",
       "      <td>1</td>\n",
       "      <td>407.0</td>\n",
       "      <td>399</td>\n",
       "      <td>27.277778</td>\n",
       "      <td>0</td>\n",
       "      <td>2208</td>\n",
       "      <td>T2</td>\n",
       "      <td>38.0</td>\n",
       "    </tr>\n",
       "    <tr>\n",
       "      <th>4</th>\n",
       "      <td>FL</td>\n",
       "      <td>F</td>\n",
       "      <td>995.00</td>\n",
       "      <td>252</td>\n",
       "      <td>348.0</td>\n",
       "      <td>0</td>\n",
       "      <td>17991</td>\n",
       "      <td>5</td>\n",
       "      <td>280.0</td>\n",
       "      <td>316</td>\n",
       "      <td>6.000000</td>\n",
       "      <td>28</td>\n",
       "      <td>0</td>\n",
       "      <td>C2</td>\n",
       "      <td>5.0</td>\n",
       "    </tr>\n",
       "  </tbody>\n",
       "</table>\n",
       "</div>"
      ],
      "text/plain": [
       "  state gender      hv1  ic1    ic4  hvp1    ic5  pobc1    ic2  ic3  \\\n",
       "0    FL      M   AAA896  392  520.0     7  21975      6  430.0  466   \n",
       "1    IL      M   537.00  365  473.0     0  19387      1  415.0  410   \n",
       "2    FL      F   725.00  301  436.0     3  18837     11  340.0  361   \n",
       "3    NC      M  AAA1095  401  413.0     7  14014      1  407.0  399   \n",
       "4    FL      F   995.00  252  348.0     0  17991      5  280.0  316   \n",
       "\n",
       "     avggift  tcode   dob domain  target_d  \n",
       "0  28.000000      1  1901     C2     100.0  \n",
       "1   5.666667      0     0     T2       7.0  \n",
       "2   4.111111      0  2501     C2       5.0  \n",
       "3  27.277778      0  2208     T2      38.0  \n",
       "4   6.000000     28     0     C2       5.0  "
      ]
     },
     "execution_count": 36,
     "metadata": {},
     "output_type": "execute_result"
    }
   ],
   "source": [
    "datanew.head()"
   ]
  },
  {
   "cell_type": "code",
   "execution_count": 37,
   "id": "02163d87",
   "metadata": {},
   "outputs": [
    {
     "data": {
      "text/plain": [
       "controln      int64\n",
       "state        object\n",
       "gender       object\n",
       "hv1          object\n",
       "ic1           int64\n",
       "ic4         float64\n",
       "hvp1          int64\n",
       "ic5          object\n",
       "pobc1         int64\n",
       "pobc2         int64\n",
       "ic2         float64\n",
       "ic3           int64\n",
       "avggift     float64\n",
       "tcode         int64\n",
       "dob           int64\n",
       "domain       object\n",
       "target_d    float64\n",
       "dtype: object"
      ]
     },
     "execution_count": 37,
     "metadata": {},
     "output_type": "execute_result"
    }
   ],
   "source": [
    "# look into dtypes \n",
    "data.dtypes"
   ]
  },
  {
   "cell_type": "markdown",
   "id": "f92199f6",
   "metadata": {},
   "source": [
    "#### dtypes i wish i could change \n",
    "- control n should be object \n",
    "- hv1 should be number (float)\n",
    "- ic5 should be number(float)\n",
    "- dob should be date "
   ]
  },
  {
   "cell_type": "code",
   "execution_count": 38,
   "id": "a472bb8c",
   "metadata": {},
   "outputs": [
    {
     "data": {
      "text/html": [
       "<div>\n",
       "<style scoped>\n",
       "    .dataframe tbody tr th:only-of-type {\n",
       "        vertical-align: middle;\n",
       "    }\n",
       "\n",
       "    .dataframe tbody tr th {\n",
       "        vertical-align: top;\n",
       "    }\n",
       "\n",
       "    .dataframe thead th {\n",
       "        text-align: right;\n",
       "    }\n",
       "</style>\n",
       "<table border=\"1\" class=\"dataframe\">\n",
       "  <thead>\n",
       "    <tr style=\"text-align: right;\">\n",
       "      <th></th>\n",
       "      <th>controln</th>\n",
       "      <th>state</th>\n",
       "      <th>gender</th>\n",
       "      <th>hv1</th>\n",
       "      <th>ic1</th>\n",
       "      <th>ic4</th>\n",
       "      <th>hvp1</th>\n",
       "      <th>ic5</th>\n",
       "      <th>pobc1</th>\n",
       "      <th>pobc2</th>\n",
       "      <th>ic2</th>\n",
       "      <th>ic3</th>\n",
       "      <th>avggift</th>\n",
       "      <th>tcode</th>\n",
       "      <th>dob</th>\n",
       "      <th>domain</th>\n",
       "      <th>target_d</th>\n",
       "    </tr>\n",
       "  </thead>\n",
       "  <tbody>\n",
       "    <tr>\n",
       "      <th>0</th>\n",
       "      <td>44060</td>\n",
       "      <td>FL</td>\n",
       "      <td>M</td>\n",
       "      <td>AAA896</td>\n",
       "      <td>392</td>\n",
       "      <td>520.0</td>\n",
       "      <td>7</td>\n",
       "      <td>21975</td>\n",
       "      <td>6</td>\n",
       "      <td>16</td>\n",
       "      <td>430.0</td>\n",
       "      <td>466</td>\n",
       "      <td>28.000000</td>\n",
       "      <td>1</td>\n",
       "      <td>1901</td>\n",
       "      <td>C2</td>\n",
       "      <td>100.0</td>\n",
       "    </tr>\n",
       "    <tr>\n",
       "      <th>1</th>\n",
       "      <td>96093</td>\n",
       "      <td>IL</td>\n",
       "      <td>M</td>\n",
       "      <td>537.00</td>\n",
       "      <td>365</td>\n",
       "      <td>473.0</td>\n",
       "      <td>0</td>\n",
       "      <td>19387</td>\n",
       "      <td>1</td>\n",
       "      <td>89</td>\n",
       "      <td>415.0</td>\n",
       "      <td>410</td>\n",
       "      <td>5.666667</td>\n",
       "      <td>0</td>\n",
       "      <td>0</td>\n",
       "      <td>T2</td>\n",
       "      <td>7.0</td>\n",
       "    </tr>\n",
       "    <tr>\n",
       "      <th>2</th>\n",
       "      <td>43333</td>\n",
       "      <td>FL</td>\n",
       "      <td>F</td>\n",
       "      <td>725.00</td>\n",
       "      <td>301</td>\n",
       "      <td>436.0</td>\n",
       "      <td>3</td>\n",
       "      <td>18837</td>\n",
       "      <td>11</td>\n",
       "      <td>17</td>\n",
       "      <td>340.0</td>\n",
       "      <td>361</td>\n",
       "      <td>4.111111</td>\n",
       "      <td>0</td>\n",
       "      <td>2501</td>\n",
       "      <td>C2</td>\n",
       "      <td>5.0</td>\n",
       "    </tr>\n",
       "    <tr>\n",
       "      <th>3</th>\n",
       "      <td>21885</td>\n",
       "      <td>NC</td>\n",
       "      <td>M</td>\n",
       "      <td>AAA1095</td>\n",
       "      <td>401</td>\n",
       "      <td>413.0</td>\n",
       "      <td>7</td>\n",
       "      <td>14014</td>\n",
       "      <td>1</td>\n",
       "      <td>74</td>\n",
       "      <td>407.0</td>\n",
       "      <td>399</td>\n",
       "      <td>27.277778</td>\n",
       "      <td>0</td>\n",
       "      <td>2208</td>\n",
       "      <td>T2</td>\n",
       "      <td>38.0</td>\n",
       "    </tr>\n",
       "    <tr>\n",
       "      <th>4</th>\n",
       "      <td>190108</td>\n",
       "      <td>FL</td>\n",
       "      <td>F</td>\n",
       "      <td>995.00</td>\n",
       "      <td>252</td>\n",
       "      <td>348.0</td>\n",
       "      <td>0</td>\n",
       "      <td>17991</td>\n",
       "      <td>5</td>\n",
       "      <td>6</td>\n",
       "      <td>280.0</td>\n",
       "      <td>316</td>\n",
       "      <td>6.000000</td>\n",
       "      <td>28</td>\n",
       "      <td>0</td>\n",
       "      <td>C2</td>\n",
       "      <td>5.0</td>\n",
       "    </tr>\n",
       "  </tbody>\n",
       "</table>\n",
       "</div>"
      ],
      "text/plain": [
       "   controln state gender      hv1  ic1    ic4  hvp1    ic5  pobc1  pobc2  \\\n",
       "0     44060    FL      M   AAA896  392  520.0     7  21975      6     16   \n",
       "1     96093    IL      M   537.00  365  473.0     0  19387      1     89   \n",
       "2     43333    FL      F   725.00  301  436.0     3  18837     11     17   \n",
       "3     21885    NC      M  AAA1095  401  413.0     7  14014      1     74   \n",
       "4    190108    FL      F   995.00  252  348.0     0  17991      5      6   \n",
       "\n",
       "     ic2  ic3    avggift  tcode   dob domain  target_d  \n",
       "0  430.0  466  28.000000      1  1901     C2     100.0  \n",
       "1  415.0  410   5.666667      0     0     T2       7.0  \n",
       "2  340.0  361   4.111111      0  2501     C2       5.0  \n",
       "3  407.0  399  27.277778      0  2208     T2      38.0  \n",
       "4  280.0  316   6.000000     28     0     C2       5.0  "
      ]
     },
     "execution_count": 38,
     "metadata": {},
     "output_type": "execute_result"
    }
   ],
   "source": [
    "data.head()"
   ]
  },
  {
   "cell_type": "code",
   "execution_count": 39,
   "id": "e7446bf2",
   "metadata": {},
   "outputs": [
    {
     "data": {
      "text/plain": [
       "array(['AAA896', '537.00', '725.00', ..., 4178, 2707, 2666], dtype=object)"
      ]
     },
     "execution_count": 39,
     "metadata": {},
     "output_type": "execute_result"
    }
   ],
   "source": [
    "data['hv1'].unique()"
   ]
  },
  {
   "cell_type": "code",
   "execution_count": 40,
   "id": "f1f5d356",
   "metadata": {},
   "outputs": [],
   "source": [
    "# contains non numerics \n",
    "#data['hv1'].contains()"
   ]
  },
  {
   "cell_type": "code",
   "execution_count": 41,
   "id": "f1281d61",
   "metadata": {},
   "outputs": [],
   "source": [
    "# column rename \n",
    "new_names={'hv1':'medianhv','ic5':'percapita'}"
   ]
  },
  {
   "cell_type": "code",
   "execution_count": 42,
   "id": "fe88b913",
   "metadata": {},
   "outputs": [],
   "source": [
    "data.rename(columns=new_names,inplace=True)"
   ]
  },
  {
   "cell_type": "code",
   "execution_count": 43,
   "id": "60e72c1d",
   "metadata": {},
   "outputs": [
    {
     "data": {
      "text/html": [
       "<div>\n",
       "<style scoped>\n",
       "    .dataframe tbody tr th:only-of-type {\n",
       "        vertical-align: middle;\n",
       "    }\n",
       "\n",
       "    .dataframe tbody tr th {\n",
       "        vertical-align: top;\n",
       "    }\n",
       "\n",
       "    .dataframe thead th {\n",
       "        text-align: right;\n",
       "    }\n",
       "</style>\n",
       "<table border=\"1\" class=\"dataframe\">\n",
       "  <thead>\n",
       "    <tr style=\"text-align: right;\">\n",
       "      <th></th>\n",
       "      <th>controln</th>\n",
       "      <th>state</th>\n",
       "      <th>gender</th>\n",
       "      <th>medianhv</th>\n",
       "      <th>ic1</th>\n",
       "      <th>ic4</th>\n",
       "      <th>hvp1</th>\n",
       "      <th>percapita</th>\n",
       "      <th>pobc1</th>\n",
       "      <th>pobc2</th>\n",
       "      <th>ic2</th>\n",
       "      <th>ic3</th>\n",
       "      <th>avggift</th>\n",
       "      <th>tcode</th>\n",
       "      <th>dob</th>\n",
       "      <th>domain</th>\n",
       "      <th>target_d</th>\n",
       "    </tr>\n",
       "  </thead>\n",
       "  <tbody>\n",
       "    <tr>\n",
       "      <th>0</th>\n",
       "      <td>44060</td>\n",
       "      <td>FL</td>\n",
       "      <td>M</td>\n",
       "      <td>AAA896</td>\n",
       "      <td>392</td>\n",
       "      <td>520.0</td>\n",
       "      <td>7</td>\n",
       "      <td>21975</td>\n",
       "      <td>6</td>\n",
       "      <td>16</td>\n",
       "      <td>430.0</td>\n",
       "      <td>466</td>\n",
       "      <td>28.000000</td>\n",
       "      <td>1</td>\n",
       "      <td>1901</td>\n",
       "      <td>C2</td>\n",
       "      <td>100.0</td>\n",
       "    </tr>\n",
       "    <tr>\n",
       "      <th>1</th>\n",
       "      <td>96093</td>\n",
       "      <td>IL</td>\n",
       "      <td>M</td>\n",
       "      <td>537.00</td>\n",
       "      <td>365</td>\n",
       "      <td>473.0</td>\n",
       "      <td>0</td>\n",
       "      <td>19387</td>\n",
       "      <td>1</td>\n",
       "      <td>89</td>\n",
       "      <td>415.0</td>\n",
       "      <td>410</td>\n",
       "      <td>5.666667</td>\n",
       "      <td>0</td>\n",
       "      <td>0</td>\n",
       "      <td>T2</td>\n",
       "      <td>7.0</td>\n",
       "    </tr>\n",
       "    <tr>\n",
       "      <th>2</th>\n",
       "      <td>43333</td>\n",
       "      <td>FL</td>\n",
       "      <td>F</td>\n",
       "      <td>725.00</td>\n",
       "      <td>301</td>\n",
       "      <td>436.0</td>\n",
       "      <td>3</td>\n",
       "      <td>18837</td>\n",
       "      <td>11</td>\n",
       "      <td>17</td>\n",
       "      <td>340.0</td>\n",
       "      <td>361</td>\n",
       "      <td>4.111111</td>\n",
       "      <td>0</td>\n",
       "      <td>2501</td>\n",
       "      <td>C2</td>\n",
       "      <td>5.0</td>\n",
       "    </tr>\n",
       "    <tr>\n",
       "      <th>3</th>\n",
       "      <td>21885</td>\n",
       "      <td>NC</td>\n",
       "      <td>M</td>\n",
       "      <td>AAA1095</td>\n",
       "      <td>401</td>\n",
       "      <td>413.0</td>\n",
       "      <td>7</td>\n",
       "      <td>14014</td>\n",
       "      <td>1</td>\n",
       "      <td>74</td>\n",
       "      <td>407.0</td>\n",
       "      <td>399</td>\n",
       "      <td>27.277778</td>\n",
       "      <td>0</td>\n",
       "      <td>2208</td>\n",
       "      <td>T2</td>\n",
       "      <td>38.0</td>\n",
       "    </tr>\n",
       "    <tr>\n",
       "      <th>4</th>\n",
       "      <td>190108</td>\n",
       "      <td>FL</td>\n",
       "      <td>F</td>\n",
       "      <td>995.00</td>\n",
       "      <td>252</td>\n",
       "      <td>348.0</td>\n",
       "      <td>0</td>\n",
       "      <td>17991</td>\n",
       "      <td>5</td>\n",
       "      <td>6</td>\n",
       "      <td>280.0</td>\n",
       "      <td>316</td>\n",
       "      <td>6.000000</td>\n",
       "      <td>28</td>\n",
       "      <td>0</td>\n",
       "      <td>C2</td>\n",
       "      <td>5.0</td>\n",
       "    </tr>\n",
       "  </tbody>\n",
       "</table>\n",
       "</div>"
      ],
      "text/plain": [
       "   controln state gender medianhv  ic1    ic4  hvp1 percapita  pobc1  pobc2  \\\n",
       "0     44060    FL      M   AAA896  392  520.0     7     21975      6     16   \n",
       "1     96093    IL      M   537.00  365  473.0     0     19387      1     89   \n",
       "2     43333    FL      F   725.00  301  436.0     3     18837     11     17   \n",
       "3     21885    NC      M  AAA1095  401  413.0     7     14014      1     74   \n",
       "4    190108    FL      F   995.00  252  348.0     0     17991      5      6   \n",
       "\n",
       "     ic2  ic3    avggift  tcode   dob domain  target_d  \n",
       "0  430.0  466  28.000000      1  1901     C2     100.0  \n",
       "1  415.0  410   5.666667      0     0     T2       7.0  \n",
       "2  340.0  361   4.111111      0  2501     C2       5.0  \n",
       "3  407.0  399  27.277778      0  2208     T2      38.0  \n",
       "4  280.0  316   6.000000     28     0     C2       5.0  "
      ]
     },
     "execution_count": 43,
     "metadata": {},
     "output_type": "execute_result"
    }
   ],
   "source": [
    "data.head()"
   ]
  },
  {
   "cell_type": "code",
   "execution_count": 44,
   "id": "04e0bf60",
   "metadata": {},
   "outputs": [
    {
     "data": {
      "text/plain": [
       "controln       int64\n",
       "state         object\n",
       "gender        object\n",
       "medianhv      object\n",
       "ic1            int64\n",
       "ic4          float64\n",
       "hvp1           int64\n",
       "percapita     object\n",
       "pobc1          int64\n",
       "pobc2          int64\n",
       "ic2          float64\n",
       "ic3            int64\n",
       "avggift      float64\n",
       "tcode          int64\n",
       "dob            int64\n",
       "domain        object\n",
       "target_d     float64\n",
       "dtype: object"
      ]
     },
     "execution_count": 44,
     "metadata": {},
     "output_type": "execute_result"
    }
   ],
   "source": [
    "data.dtypes"
   ]
  },
  {
   "cell_type": "code",
   "execution_count": 45,
   "id": "f815feee",
   "metadata": {},
   "outputs": [
    {
     "data": {
      "text/plain": [
       "0        AAA896\n",
       "1        537.00\n",
       "2        725.00\n",
       "3       AAA1095\n",
       "4        995.00\n",
       "         ...   \n",
       "4023        742\n",
       "4024        599\n",
       "4025        593\n",
       "4026        564\n",
       "4027        651\n",
       "Name: medianhv, Length: 4028, dtype: object"
      ]
     },
     "execution_count": 45,
     "metadata": {},
     "output_type": "execute_result"
    }
   ],
   "source": [
    "# change data type AS - usually this is enough \n",
    "data['medianhv'].astype('float',errors='ignore')"
   ]
  },
  {
   "cell_type": "code",
   "execution_count": 46,
   "id": "388dd0ba",
   "metadata": {},
   "outputs": [],
   "source": [
    "# more strict option to change the dtype\n",
    "data['medianhv']=pd.to_numeric(data['medianhv'],errors='coerce')"
   ]
  },
  {
   "cell_type": "code",
   "execution_count": 47,
   "id": "0160015d",
   "metadata": {},
   "outputs": [
    {
     "data": {
      "text/plain": [
       "controln       int64\n",
       "state         object\n",
       "gender        object\n",
       "medianhv     float64\n",
       "ic1            int64\n",
       "ic4          float64\n",
       "hvp1           int64\n",
       "percapita     object\n",
       "pobc1          int64\n",
       "pobc2          int64\n",
       "ic2          float64\n",
       "ic3            int64\n",
       "avggift      float64\n",
       "tcode          int64\n",
       "dob            int64\n",
       "domain        object\n",
       "target_d     float64\n",
       "dtype: object"
      ]
     },
     "execution_count": 47,
     "metadata": {},
     "output_type": "execute_result"
    }
   ],
   "source": [
    "data.dtypes"
   ]
  },
  {
   "cell_type": "code",
   "execution_count": 48,
   "id": "d28375b7",
   "metadata": {},
   "outputs": [
    {
     "name": "stdout",
     "output_type": "stream",
     "text": [
      "<class 'pandas.core.frame.DataFrame'>\n",
      "RangeIndex: 4028 entries, 0 to 4027\n",
      "Data columns (total 17 columns):\n",
      " #   Column     Non-Null Count  Dtype  \n",
      "---  ------     --------------  -----  \n",
      " 0   controln   4028 non-null   int64  \n",
      " 1   state      4028 non-null   object \n",
      " 2   gender     3892 non-null   object \n",
      " 3   medianhv   4018 non-null   float64\n",
      " 4   ic1        4028 non-null   int64  \n",
      " 5   ic4        4027 non-null   float64\n",
      " 6   hvp1       4028 non-null   int64  \n",
      " 7   percapita  4028 non-null   object \n",
      " 8   pobc1      4028 non-null   int64  \n",
      " 9   pobc2      4028 non-null   int64  \n",
      " 10  ic2        4027 non-null   float64\n",
      " 11  ic3        4028 non-null   int64  \n",
      " 12  avggift    4028 non-null   float64\n",
      " 13  tcode      4028 non-null   int64  \n",
      " 14  dob        4028 non-null   int64  \n",
      " 15  domain     4028 non-null   object \n",
      " 16  target_d   4028 non-null   float64\n",
      "dtypes: float64(5), int64(8), object(4)\n",
      "memory usage: 535.1+ KB\n"
     ]
    }
   ],
   "source": [
    "data.info()"
   ]
  },
  {
   "cell_type": "code",
   "execution_count": 49,
   "id": "6dffc2e3",
   "metadata": {},
   "outputs": [],
   "source": [
    "# change per capital income field (ic5) to float \n",
    "data['percapita']=pd.to_numeric(data['percapita'],errors='coerce')"
   ]
  },
  {
   "cell_type": "code",
   "execution_count": 50,
   "id": "993abcd9",
   "metadata": {},
   "outputs": [],
   "source": [
    "# useful fx to examine a field\n",
    "#.unique()\n",
    "#.value_counts()"
   ]
  },
  {
   "cell_type": "code",
   "execution_count": 51,
   "id": "cce808a8",
   "metadata": {},
   "outputs": [
    {
     "data": {
      "text/plain": [
       "0     1593\n",
       "1      526\n",
       "2      220\n",
       "3      163\n",
       "4       94\n",
       "      ... \n",
       "64       4\n",
       "41       4\n",
       "37       3\n",
       "62       3\n",
       "42       3\n",
       "Name: hvp1, Length: 100, dtype: int64"
      ]
     },
     "execution_count": 51,
     "metadata": {},
     "output_type": "execute_result"
    }
   ],
   "source": [
    "data['hvp1'].value_counts()"
   ]
  },
  {
   "cell_type": "markdown",
   "id": "aa97415c",
   "metadata": {},
   "source": [
    "## de duping"
   ]
  },
  {
   "cell_type": "code",
   "execution_count": 52,
   "id": "48d643b8",
   "metadata": {},
   "outputs": [],
   "source": [
    "# search for and eliminate duplicates \n",
    "data_dedupe=data.drop_duplicates()"
   ]
  },
  {
   "cell_type": "code",
   "execution_count": 53,
   "id": "35bd28b2",
   "metadata": {},
   "outputs": [
    {
     "data": {
      "text/plain": [
       "(4028, 17)"
      ]
     },
     "execution_count": 53,
     "metadata": {},
     "output_type": "execute_result"
    }
   ],
   "source": [
    "data.shape"
   ]
  },
  {
   "cell_type": "code",
   "execution_count": 54,
   "id": "ce8ba53b",
   "metadata": {},
   "outputs": [
    {
     "data": {
      "text/plain": [
       "(4001, 17)"
      ]
     },
     "execution_count": 54,
     "metadata": {},
     "output_type": "execute_result"
    }
   ],
   "source": [
    "data_dedupe.shape"
   ]
  },
  {
   "cell_type": "code",
   "execution_count": 55,
   "id": "bfe38b9e",
   "metadata": {},
   "outputs": [],
   "source": [
    "#looks ok - replace \n",
    "data=data.drop_duplicates()"
   ]
  },
  {
   "cell_type": "markdown",
   "id": "b27b048a",
   "metadata": {},
   "source": [
    "## filter and query the data "
   ]
  },
  {
   "cell_type": "code",
   "execution_count": 56,
   "id": "a865bd8f",
   "metadata": {},
   "outputs": [
    {
     "data": {
      "text/html": [
       "<div>\n",
       "<style scoped>\n",
       "    .dataframe tbody tr th:only-of-type {\n",
       "        vertical-align: middle;\n",
       "    }\n",
       "\n",
       "    .dataframe tbody tr th {\n",
       "        vertical-align: top;\n",
       "    }\n",
       "\n",
       "    .dataframe thead th {\n",
       "        text-align: right;\n",
       "    }\n",
       "</style>\n",
       "<table border=\"1\" class=\"dataframe\">\n",
       "  <thead>\n",
       "    <tr style=\"text-align: right;\">\n",
       "      <th></th>\n",
       "      <th>controln</th>\n",
       "      <th>state</th>\n",
       "      <th>gender</th>\n",
       "      <th>medianhv</th>\n",
       "      <th>ic1</th>\n",
       "      <th>ic4</th>\n",
       "      <th>hvp1</th>\n",
       "      <th>percapita</th>\n",
       "      <th>pobc1</th>\n",
       "      <th>pobc2</th>\n",
       "      <th>ic2</th>\n",
       "      <th>ic3</th>\n",
       "      <th>avggift</th>\n",
       "      <th>tcode</th>\n",
       "      <th>dob</th>\n",
       "      <th>domain</th>\n",
       "      <th>target_d</th>\n",
       "    </tr>\n",
       "  </thead>\n",
       "  <tbody>\n",
       "    <tr>\n",
       "      <th>8</th>\n",
       "      <td>173223</td>\n",
       "      <td>CA</td>\n",
       "      <td>F</td>\n",
       "      <td>NaN</td>\n",
       "      <td>184</td>\n",
       "      <td>250.0</td>\n",
       "      <td>0</td>\n",
       "      <td>8708.0</td>\n",
       "      <td>2</td>\n",
       "      <td>63</td>\n",
       "      <td>206.0</td>\n",
       "      <td>235</td>\n",
       "      <td>8.818182</td>\n",
       "      <td>0</td>\n",
       "      <td>1801</td>\n",
       "      <td>T2</td>\n",
       "      <td>10.0</td>\n",
       "    </tr>\n",
       "    <tr>\n",
       "      <th>848</th>\n",
       "      <td>145123</td>\n",
       "      <td>CA</td>\n",
       "      <td>F</td>\n",
       "      <td>5743.0</td>\n",
       "      <td>564</td>\n",
       "      <td>903.0</td>\n",
       "      <td>99</td>\n",
       "      <td>44839.0</td>\n",
       "      <td>9</td>\n",
       "      <td>47</td>\n",
       "      <td>812.0</td>\n",
       "      <td>708</td>\n",
       "      <td>4.100000</td>\n",
       "      <td>2</td>\n",
       "      <td>1801</td>\n",
       "      <td>S1</td>\n",
       "      <td>5.0</td>\n",
       "    </tr>\n",
       "    <tr>\n",
       "      <th>1096</th>\n",
       "      <td>185353</td>\n",
       "      <td>CA</td>\n",
       "      <td>F</td>\n",
       "      <td>1063.0</td>\n",
       "      <td>150</td>\n",
       "      <td>223.0</td>\n",
       "      <td>10</td>\n",
       "      <td>6871.0</td>\n",
       "      <td>26</td>\n",
       "      <td>38</td>\n",
       "      <td>148.0</td>\n",
       "      <td>206</td>\n",
       "      <td>3.035714</td>\n",
       "      <td>28</td>\n",
       "      <td>1801</td>\n",
       "      <td>U4</td>\n",
       "      <td>3.0</td>\n",
       "    </tr>\n",
       "    <tr>\n",
       "      <th>2192</th>\n",
       "      <td>158022</td>\n",
       "      <td>CA</td>\n",
       "      <td>F</td>\n",
       "      <td>2380.0</td>\n",
       "      <td>420</td>\n",
       "      <td>586.0</td>\n",
       "      <td>77</td>\n",
       "      <td>32129.0</td>\n",
       "      <td>6</td>\n",
       "      <td>21</td>\n",
       "      <td>490.0</td>\n",
       "      <td>567</td>\n",
       "      <td>8.478261</td>\n",
       "      <td>0</td>\n",
       "      <td>1801</td>\n",
       "      <td>C1</td>\n",
       "      <td>15.0</td>\n",
       "    </tr>\n",
       "    <tr>\n",
       "      <th>3586</th>\n",
       "      <td>167784</td>\n",
       "      <td>CA</td>\n",
       "      <td>F</td>\n",
       "      <td>2380.0</td>\n",
       "      <td>274</td>\n",
       "      <td>417.0</td>\n",
       "      <td>64</td>\n",
       "      <td>16569.0</td>\n",
       "      <td>12</td>\n",
       "      <td>56</td>\n",
       "      <td>348.0</td>\n",
       "      <td>315</td>\n",
       "      <td>14.181818</td>\n",
       "      <td>28</td>\n",
       "      <td>1801</td>\n",
       "      <td>S2</td>\n",
       "      <td>15.0</td>\n",
       "    </tr>\n",
       "  </tbody>\n",
       "</table>\n",
       "</div>"
      ],
      "text/plain": [
       "      controln state gender  medianhv  ic1    ic4  hvp1  percapita  pobc1  \\\n",
       "8       173223    CA      F       NaN  184  250.0     0     8708.0      2   \n",
       "848     145123    CA      F    5743.0  564  903.0    99    44839.0      9   \n",
       "1096    185353    CA      F    1063.0  150  223.0    10     6871.0     26   \n",
       "2192    158022    CA      F    2380.0  420  586.0    77    32129.0      6   \n",
       "3586    167784    CA      F    2380.0  274  417.0    64    16569.0     12   \n",
       "\n",
       "      pobc2    ic2  ic3    avggift  tcode   dob domain  target_d  \n",
       "8        63  206.0  235   8.818182      0  1801     T2      10.0  \n",
       "848      47  812.0  708   4.100000      2  1801     S1       5.0  \n",
       "1096     38  148.0  206   3.035714     28  1801     U4       3.0  \n",
       "2192     21  490.0  567   8.478261      0  1801     C1      15.0  \n",
       "3586     56  348.0  315  14.181818     28  1801     S2      15.0  "
      ]
     },
     "execution_count": 56,
     "metadata": {},
     "output_type": "execute_result"
    }
   ],
   "source": [
    "data.query('gender==\"F\"&state==\"CA\"&dob==1801')"
   ]
  },
  {
   "cell_type": "code",
   "execution_count": 57,
   "id": "9aff989c",
   "metadata": {},
   "outputs": [
    {
     "data": {
      "text/html": [
       "<div>\n",
       "<style scoped>\n",
       "    .dataframe tbody tr th:only-of-type {\n",
       "        vertical-align: middle;\n",
       "    }\n",
       "\n",
       "    .dataframe tbody tr th {\n",
       "        vertical-align: top;\n",
       "    }\n",
       "\n",
       "    .dataframe thead th {\n",
       "        text-align: right;\n",
       "    }\n",
       "</style>\n",
       "<table border=\"1\" class=\"dataframe\">\n",
       "  <thead>\n",
       "    <tr style=\"text-align: right;\">\n",
       "      <th></th>\n",
       "      <th>controln</th>\n",
       "      <th>state</th>\n",
       "      <th>gender</th>\n",
       "      <th>medianhv</th>\n",
       "      <th>ic1</th>\n",
       "      <th>ic4</th>\n",
       "      <th>hvp1</th>\n",
       "      <th>percapita</th>\n",
       "      <th>pobc1</th>\n",
       "      <th>pobc2</th>\n",
       "      <th>ic2</th>\n",
       "      <th>ic3</th>\n",
       "      <th>avggift</th>\n",
       "      <th>tcode</th>\n",
       "      <th>dob</th>\n",
       "      <th>domain</th>\n",
       "      <th>target_d</th>\n",
       "    </tr>\n",
       "  </thead>\n",
       "  <tbody>\n",
       "    <tr>\n",
       "      <th>0</th>\n",
       "      <td>44060</td>\n",
       "      <td>FL</td>\n",
       "      <td>M</td>\n",
       "      <td>NaN</td>\n",
       "      <td>392</td>\n",
       "      <td>520.0</td>\n",
       "      <td>7</td>\n",
       "      <td>21975.0</td>\n",
       "      <td>6</td>\n",
       "      <td>16</td>\n",
       "      <td>430.0</td>\n",
       "      <td>466</td>\n",
       "      <td>28.000000</td>\n",
       "      <td>1</td>\n",
       "      <td>1901</td>\n",
       "      <td>C2</td>\n",
       "      <td>100.0</td>\n",
       "    </tr>\n",
       "    <tr>\n",
       "      <th>1</th>\n",
       "      <td>96093</td>\n",
       "      <td>IL</td>\n",
       "      <td>M</td>\n",
       "      <td>537.0</td>\n",
       "      <td>365</td>\n",
       "      <td>473.0</td>\n",
       "      <td>0</td>\n",
       "      <td>19387.0</td>\n",
       "      <td>1</td>\n",
       "      <td>89</td>\n",
       "      <td>415.0</td>\n",
       "      <td>410</td>\n",
       "      <td>5.666667</td>\n",
       "      <td>0</td>\n",
       "      <td>0</td>\n",
       "      <td>T2</td>\n",
       "      <td>7.0</td>\n",
       "    </tr>\n",
       "    <tr>\n",
       "      <th>3</th>\n",
       "      <td>21885</td>\n",
       "      <td>NC</td>\n",
       "      <td>M</td>\n",
       "      <td>NaN</td>\n",
       "      <td>401</td>\n",
       "      <td>413.0</td>\n",
       "      <td>7</td>\n",
       "      <td>14014.0</td>\n",
       "      <td>1</td>\n",
       "      <td>74</td>\n",
       "      <td>407.0</td>\n",
       "      <td>399</td>\n",
       "      <td>27.277778</td>\n",
       "      <td>0</td>\n",
       "      <td>2208</td>\n",
       "      <td>T2</td>\n",
       "      <td>38.0</td>\n",
       "    </tr>\n",
       "    <tr>\n",
       "      <th>5</th>\n",
       "      <td>100640</td>\n",
       "      <td>IL</td>\n",
       "      <td>M</td>\n",
       "      <td>764.0</td>\n",
       "      <td>457</td>\n",
       "      <td>501.0</td>\n",
       "      <td>1</td>\n",
       "      <td>16022.0</td>\n",
       "      <td>2</td>\n",
       "      <td>75</td>\n",
       "      <td>477.0</td>\n",
       "      <td>480</td>\n",
       "      <td>25.571429</td>\n",
       "      <td>1</td>\n",
       "      <td>6104</td>\n",
       "      <td>S2</td>\n",
       "      <td>30.0</td>\n",
       "    </tr>\n",
       "    <tr>\n",
       "      <th>7</th>\n",
       "      <td>119038</td>\n",
       "      <td>TX</td>\n",
       "      <td>M</td>\n",
       "      <td>890.0</td>\n",
       "      <td>519</td>\n",
       "      <td>560.0</td>\n",
       "      <td>0</td>\n",
       "      <td>17872.0</td>\n",
       "      <td>2</td>\n",
       "      <td>46</td>\n",
       "      <td>525.0</td>\n",
       "      <td>551</td>\n",
       "      <td>6.175000</td>\n",
       "      <td>1002</td>\n",
       "      <td>0</td>\n",
       "      <td>C1</td>\n",
       "      <td>7.0</td>\n",
       "    </tr>\n",
       "    <tr>\n",
       "      <th>...</th>\n",
       "      <td>...</td>\n",
       "      <td>...</td>\n",
       "      <td>...</td>\n",
       "      <td>...</td>\n",
       "      <td>...</td>\n",
       "      <td>...</td>\n",
       "      <td>...</td>\n",
       "      <td>...</td>\n",
       "      <td>...</td>\n",
       "      <td>...</td>\n",
       "      <td>...</td>\n",
       "      <td>...</td>\n",
       "      <td>...</td>\n",
       "      <td>...</td>\n",
       "      <td>...</td>\n",
       "      <td>...</td>\n",
       "      <td>...</td>\n",
       "    </tr>\n",
       "    <tr>\n",
       "      <th>4016</th>\n",
       "      <td>68618</td>\n",
       "      <td>MI</td>\n",
       "      <td>M</td>\n",
       "      <td>726.0</td>\n",
       "      <td>485</td>\n",
       "      <td>509.0</td>\n",
       "      <td>0</td>\n",
       "      <td>17020.0</td>\n",
       "      <td>3</td>\n",
       "      <td>85</td>\n",
       "      <td>495.0</td>\n",
       "      <td>516</td>\n",
       "      <td>17.225806</td>\n",
       "      <td>1</td>\n",
       "      <td>3312</td>\n",
       "      <td>T1</td>\n",
       "      <td>40.0</td>\n",
       "    </tr>\n",
       "    <tr>\n",
       "      <th>4017</th>\n",
       "      <td>1646</td>\n",
       "      <td>CA</td>\n",
       "      <td>M</td>\n",
       "      <td>675.0</td>\n",
       "      <td>163</td>\n",
       "      <td>230.0</td>\n",
       "      <td>1</td>\n",
       "      <td>7083.0</td>\n",
       "      <td>13</td>\n",
       "      <td>57</td>\n",
       "      <td>209.0</td>\n",
       "      <td>194</td>\n",
       "      <td>7.562500</td>\n",
       "      <td>1</td>\n",
       "      <td>4711</td>\n",
       "      <td>C3</td>\n",
       "      <td>10.0</td>\n",
       "    </tr>\n",
       "    <tr>\n",
       "      <th>4019</th>\n",
       "      <td>6443</td>\n",
       "      <td>FL</td>\n",
       "      <td>M</td>\n",
       "      <td>595.0</td>\n",
       "      <td>252</td>\n",
       "      <td>274.0</td>\n",
       "      <td>0</td>\n",
       "      <td>11132.0</td>\n",
       "      <td>8</td>\n",
       "      <td>11</td>\n",
       "      <td>263.0</td>\n",
       "      <td>262</td>\n",
       "      <td>14.692308</td>\n",
       "      <td>1</td>\n",
       "      <td>2501</td>\n",
       "      <td>T2</td>\n",
       "      <td>20.0</td>\n",
       "    </tr>\n",
       "    <tr>\n",
       "      <th>4021</th>\n",
       "      <td>151504</td>\n",
       "      <td>CA</td>\n",
       "      <td>M</td>\n",
       "      <td>2666.0</td>\n",
       "      <td>535</td>\n",
       "      <td>653.0</td>\n",
       "      <td>63</td>\n",
       "      <td>24745.0</td>\n",
       "      <td>22</td>\n",
       "      <td>45</td>\n",
       "      <td>609.0</td>\n",
       "      <td>612</td>\n",
       "      <td>12.333333</td>\n",
       "      <td>1</td>\n",
       "      <td>4401</td>\n",
       "      <td>S1</td>\n",
       "      <td>21.0</td>\n",
       "    </tr>\n",
       "    <tr>\n",
       "      <th>4022</th>\n",
       "      <td>74303</td>\n",
       "      <td>MI</td>\n",
       "      <td>M</td>\n",
       "      <td>444.0</td>\n",
       "      <td>225</td>\n",
       "      <td>299.0</td>\n",
       "      <td>3</td>\n",
       "      <td>10088.0</td>\n",
       "      <td>1</td>\n",
       "      <td>86</td>\n",
       "      <td>264.0</td>\n",
       "      <td>269</td>\n",
       "      <td>17.142857</td>\n",
       "      <td>4</td>\n",
       "      <td>405</td>\n",
       "      <td>R2</td>\n",
       "      <td>25.0</td>\n",
       "    </tr>\n",
       "  </tbody>\n",
       "</table>\n",
       "<p>1925 rows × 17 columns</p>\n",
       "</div>"
      ],
      "text/plain": [
       "      controln state gender  medianhv  ic1    ic4  hvp1  percapita  pobc1  \\\n",
       "0        44060    FL      M       NaN  392  520.0     7    21975.0      6   \n",
       "1        96093    IL      M     537.0  365  473.0     0    19387.0      1   \n",
       "3        21885    NC      M       NaN  401  413.0     7    14014.0      1   \n",
       "5       100640    IL      M     764.0  457  501.0     1    16022.0      2   \n",
       "7       119038    TX      M     890.0  519  560.0     0    17872.0      2   \n",
       "...        ...   ...    ...       ...  ...    ...   ...        ...    ...   \n",
       "4016     68618    MI      M     726.0  485  509.0     0    17020.0      3   \n",
       "4017      1646    CA      M     675.0  163  230.0     1     7083.0     13   \n",
       "4019      6443    FL      M     595.0  252  274.0     0    11132.0      8   \n",
       "4021    151504    CA      M    2666.0  535  653.0    63    24745.0     22   \n",
       "4022     74303    MI      M     444.0  225  299.0     3    10088.0      1   \n",
       "\n",
       "      pobc2    ic2  ic3    avggift  tcode   dob domain  target_d  \n",
       "0        16  430.0  466  28.000000      1  1901     C2     100.0  \n",
       "1        89  415.0  410   5.666667      0     0     T2       7.0  \n",
       "3        74  407.0  399  27.277778      0  2208     T2      38.0  \n",
       "5        75  477.0  480  25.571429      1  6104     S2      30.0  \n",
       "7        46  525.0  551   6.175000   1002     0     C1       7.0  \n",
       "...     ...    ...  ...        ...    ...   ...    ...       ...  \n",
       "4016     85  495.0  516  17.225806      1  3312     T1      40.0  \n",
       "4017     57  209.0  194   7.562500      1  4711     C3      10.0  \n",
       "4019     11  263.0  262  14.692308      1  2501     T2      20.0  \n",
       "4021     45  609.0  612  12.333333      1  4401     S1      21.0  \n",
       "4022     86  264.0  269  17.142857      4   405     R2      25.0  \n",
       "\n",
       "[1925 rows x 17 columns]"
      ]
     },
     "execution_count": 57,
     "metadata": {},
     "output_type": "execute_result"
    }
   ],
   "source": [
    "#using tilde symbol to do inverse filtering \n",
    "female_genders=['F','f','FEMALE','female','feamale']\n",
    "data[~data.gender.isin(female_genders)]"
   ]
  },
  {
   "cell_type": "code",
   "execution_count": 58,
   "id": "69c7b546",
   "metadata": {},
   "outputs": [
    {
     "data": {
      "text/html": [
       "<div>\n",
       "<style scoped>\n",
       "    .dataframe tbody tr th:only-of-type {\n",
       "        vertical-align: middle;\n",
       "    }\n",
       "\n",
       "    .dataframe tbody tr th {\n",
       "        vertical-align: top;\n",
       "    }\n",
       "\n",
       "    .dataframe thead th {\n",
       "        text-align: right;\n",
       "    }\n",
       "</style>\n",
       "<table border=\"1\" class=\"dataframe\">\n",
       "  <thead>\n",
       "    <tr style=\"text-align: right;\">\n",
       "      <th></th>\n",
       "      <th>ic1</th>\n",
       "      <th>ic4</th>\n",
       "    </tr>\n",
       "  </thead>\n",
       "  <tbody>\n",
       "    <tr>\n",
       "      <th>1</th>\n",
       "      <td>365</td>\n",
       "      <td>473.0</td>\n",
       "    </tr>\n",
       "    <tr>\n",
       "      <th>3</th>\n",
       "      <td>401</td>\n",
       "      <td>413.0</td>\n",
       "    </tr>\n",
       "    <tr>\n",
       "      <th>8</th>\n",
       "      <td>184</td>\n",
       "      <td>250.0</td>\n",
       "    </tr>\n",
       "    <tr>\n",
       "      <th>12</th>\n",
       "      <td>459</td>\n",
       "      <td>496.0</td>\n",
       "    </tr>\n",
       "  </tbody>\n",
       "</table>\n",
       "</div>"
      ],
      "text/plain": [
       "    ic1    ic4\n",
       "1   365  473.0\n",
       "3   401  413.0\n",
       "8   184  250.0\n",
       "12  459  496.0"
      ]
     },
     "execution_count": 58,
     "metadata": {},
     "output_type": "execute_result"
    }
   ],
   "source": [
    "# iloc (location using index) and loc (location filtering using value)\n",
    "data.iloc[[1,3,8,12],4:6]"
   ]
  },
  {
   "cell_type": "code",
   "execution_count": 59,
   "id": "e33f3a3a",
   "metadata": {},
   "outputs": [
    {
     "data": {
      "text/plain": [
       "1    M\n",
       "2    F\n",
       "3    M\n",
       "4    F\n",
       "5    M\n",
       "Name: gender, dtype: object"
      ]
     },
     "execution_count": 59,
     "metadata": {},
     "output_type": "execute_result"
    }
   ],
   "source": [
    "data.loc[1:5,'gender']\n",
    "#uses the label value of the index columns and rows"
   ]
  },
  {
   "cell_type": "code",
   "execution_count": 60,
   "id": "82730b6d",
   "metadata": {},
   "outputs": [
    {
     "data": {
      "text/html": [
       "<div>\n",
       "<style scoped>\n",
       "    .dataframe tbody tr th:only-of-type {\n",
       "        vertical-align: middle;\n",
       "    }\n",
       "\n",
       "    .dataframe tbody tr th {\n",
       "        vertical-align: top;\n",
       "    }\n",
       "\n",
       "    .dataframe thead th {\n",
       "        text-align: right;\n",
       "    }\n",
       "</style>\n",
       "<table border=\"1\" class=\"dataframe\">\n",
       "  <thead>\n",
       "    <tr style=\"text-align: right;\">\n",
       "      <th></th>\n",
       "      <th>controln</th>\n",
       "      <th>state</th>\n",
       "      <th>gender</th>\n",
       "      <th>medianhv</th>\n",
       "      <th>ic1</th>\n",
       "      <th>ic4</th>\n",
       "      <th>hvp1</th>\n",
       "      <th>percapita</th>\n",
       "      <th>pobc1</th>\n",
       "      <th>pobc2</th>\n",
       "      <th>ic2</th>\n",
       "      <th>ic3</th>\n",
       "      <th>avggift</th>\n",
       "      <th>tcode</th>\n",
       "      <th>dob</th>\n",
       "      <th>domain</th>\n",
       "      <th>target_d</th>\n",
       "    </tr>\n",
       "  </thead>\n",
       "  <tbody>\n",
       "    <tr>\n",
       "      <th>0</th>\n",
       "      <td>44060</td>\n",
       "      <td>FL</td>\n",
       "      <td>M</td>\n",
       "      <td>NaN</td>\n",
       "      <td>392</td>\n",
       "      <td>520.0</td>\n",
       "      <td>7</td>\n",
       "      <td>21975.0</td>\n",
       "      <td>6</td>\n",
       "      <td>16</td>\n",
       "      <td>430.0</td>\n",
       "      <td>466</td>\n",
       "      <td>28.000000</td>\n",
       "      <td>1</td>\n",
       "      <td>1901</td>\n",
       "      <td>C2</td>\n",
       "      <td>100.0</td>\n",
       "    </tr>\n",
       "    <tr>\n",
       "      <th>175</th>\n",
       "      <td>11494</td>\n",
       "      <td>FL</td>\n",
       "      <td>M</td>\n",
       "      <td>1229.0</td>\n",
       "      <td>469</td>\n",
       "      <td>544.0</td>\n",
       "      <td>21</td>\n",
       "      <td>17313.0</td>\n",
       "      <td>2</td>\n",
       "      <td>30</td>\n",
       "      <td>502.0</td>\n",
       "      <td>507</td>\n",
       "      <td>8.400000</td>\n",
       "      <td>2</td>\n",
       "      <td>6501</td>\n",
       "      <td>T1</td>\n",
       "      <td>5.0</td>\n",
       "    </tr>\n",
       "    <tr>\n",
       "      <th>203</th>\n",
       "      <td>38820</td>\n",
       "      <td>FL</td>\n",
       "      <td>M</td>\n",
       "      <td>1332.0</td>\n",
       "      <td>357</td>\n",
       "      <td>497.0</td>\n",
       "      <td>2</td>\n",
       "      <td>21444.0</td>\n",
       "      <td>14</td>\n",
       "      <td>15</td>\n",
       "      <td>411.0</td>\n",
       "      <td>422</td>\n",
       "      <td>9.576923</td>\n",
       "      <td>2</td>\n",
       "      <td>1306</td>\n",
       "      <td>C1</td>\n",
       "      <td>20.0</td>\n",
       "    </tr>\n",
       "    <tr>\n",
       "      <th>220</th>\n",
       "      <td>191779</td>\n",
       "      <td>FL</td>\n",
       "      <td>M</td>\n",
       "      <td>1432.0</td>\n",
       "      <td>636</td>\n",
       "      <td>772.0</td>\n",
       "      <td>24</td>\n",
       "      <td>35544.0</td>\n",
       "      <td>0</td>\n",
       "      <td>44</td>\n",
       "      <td>693.0</td>\n",
       "      <td>680</td>\n",
       "      <td>25.000000</td>\n",
       "      <td>1</td>\n",
       "      <td>2701</td>\n",
       "      <td>0</td>\n",
       "      <td>150.0</td>\n",
       "    </tr>\n",
       "    <tr>\n",
       "      <th>242</th>\n",
       "      <td>39479</td>\n",
       "      <td>FL</td>\n",
       "      <td>M</td>\n",
       "      <td>1287.0</td>\n",
       "      <td>479</td>\n",
       "      <td>616.0</td>\n",
       "      <td>7</td>\n",
       "      <td>20795.0</td>\n",
       "      <td>15</td>\n",
       "      <td>35</td>\n",
       "      <td>508.0</td>\n",
       "      <td>567</td>\n",
       "      <td>4.105769</td>\n",
       "      <td>2</td>\n",
       "      <td>3306</td>\n",
       "      <td>C2</td>\n",
       "      <td>4.0</td>\n",
       "    </tr>\n",
       "    <tr>\n",
       "      <th>...</th>\n",
       "      <td>...</td>\n",
       "      <td>...</td>\n",
       "      <td>...</td>\n",
       "      <td>...</td>\n",
       "      <td>...</td>\n",
       "      <td>...</td>\n",
       "      <td>...</td>\n",
       "      <td>...</td>\n",
       "      <td>...</td>\n",
       "      <td>...</td>\n",
       "      <td>...</td>\n",
       "      <td>...</td>\n",
       "      <td>...</td>\n",
       "      <td>...</td>\n",
       "      <td>...</td>\n",
       "      <td>...</td>\n",
       "      <td>...</td>\n",
       "    </tr>\n",
       "    <tr>\n",
       "      <th>3862</th>\n",
       "      <td>37575</td>\n",
       "      <td>FL</td>\n",
       "      <td>M</td>\n",
       "      <td>1938.0</td>\n",
       "      <td>400</td>\n",
       "      <td>606.0</td>\n",
       "      <td>50</td>\n",
       "      <td>34430.0</td>\n",
       "      <td>56</td>\n",
       "      <td>10</td>\n",
       "      <td>482.0</td>\n",
       "      <td>500</td>\n",
       "      <td>55.000000</td>\n",
       "      <td>1</td>\n",
       "      <td>0</td>\n",
       "      <td>U1</td>\n",
       "      <td>50.0</td>\n",
       "    </tr>\n",
       "    <tr>\n",
       "      <th>3904</th>\n",
       "      <td>40421</td>\n",
       "      <td>FL</td>\n",
       "      <td>M</td>\n",
       "      <td>1270.0</td>\n",
       "      <td>363</td>\n",
       "      <td>519.0</td>\n",
       "      <td>15</td>\n",
       "      <td>17548.0</td>\n",
       "      <td>8</td>\n",
       "      <td>26</td>\n",
       "      <td>471.0</td>\n",
       "      <td>429</td>\n",
       "      <td>6.269231</td>\n",
       "      <td>1002</td>\n",
       "      <td>3911</td>\n",
       "      <td>C1</td>\n",
       "      <td>5.0</td>\n",
       "    </tr>\n",
       "    <tr>\n",
       "      <th>3935</th>\n",
       "      <td>14552</td>\n",
       "      <td>FL</td>\n",
       "      <td>M</td>\n",
       "      <td>1518.0</td>\n",
       "      <td>449</td>\n",
       "      <td>523.0</td>\n",
       "      <td>26</td>\n",
       "      <td>17518.0</td>\n",
       "      <td>11</td>\n",
       "      <td>39</td>\n",
       "      <td>469.0</td>\n",
       "      <td>494</td>\n",
       "      <td>10.700000</td>\n",
       "      <td>0</td>\n",
       "      <td>4906</td>\n",
       "      <td>T1</td>\n",
       "      <td>16.0</td>\n",
       "    </tr>\n",
       "    <tr>\n",
       "      <th>3984</th>\n",
       "      <td>36776</td>\n",
       "      <td>FL</td>\n",
       "      <td>M</td>\n",
       "      <td>653.0</td>\n",
       "      <td>319</td>\n",
       "      <td>379.0</td>\n",
       "      <td>0</td>\n",
       "      <td>12869.0</td>\n",
       "      <td>11</td>\n",
       "      <td>35</td>\n",
       "      <td>360.0</td>\n",
       "      <td>358</td>\n",
       "      <td>9.500000</td>\n",
       "      <td>1</td>\n",
       "      <td>2601</td>\n",
       "      <td>S3</td>\n",
       "      <td>20.0</td>\n",
       "    </tr>\n",
       "    <tr>\n",
       "      <th>4014</th>\n",
       "      <td>6403</td>\n",
       "      <td>FL</td>\n",
       "      <td>M</td>\n",
       "      <td>677.0</td>\n",
       "      <td>311</td>\n",
       "      <td>313.0</td>\n",
       "      <td>0</td>\n",
       "      <td>12509.0</td>\n",
       "      <td>2</td>\n",
       "      <td>23</td>\n",
       "      <td>272.0</td>\n",
       "      <td>324</td>\n",
       "      <td>10.115385</td>\n",
       "      <td>1</td>\n",
       "      <td>2703</td>\n",
       "      <td>C2</td>\n",
       "      <td>10.0</td>\n",
       "    </tr>\n",
       "  </tbody>\n",
       "</table>\n",
       "<p>86 rows × 17 columns</p>\n",
       "</div>"
      ],
      "text/plain": [
       "      controln state gender  medianhv  ic1    ic4  hvp1  percapita  pobc1  \\\n",
       "0        44060    FL      M       NaN  392  520.0     7    21975.0      6   \n",
       "175      11494    FL      M    1229.0  469  544.0    21    17313.0      2   \n",
       "203      38820    FL      M    1332.0  357  497.0     2    21444.0     14   \n",
       "220     191779    FL      M    1432.0  636  772.0    24    35544.0      0   \n",
       "242      39479    FL      M    1287.0  479  616.0     7    20795.0     15   \n",
       "...        ...   ...    ...       ...  ...    ...   ...        ...    ...   \n",
       "3862     37575    FL      M    1938.0  400  606.0    50    34430.0     56   \n",
       "3904     40421    FL      M    1270.0  363  519.0    15    17548.0      8   \n",
       "3935     14552    FL      M    1518.0  449  523.0    26    17518.0     11   \n",
       "3984     36776    FL      M     653.0  319  379.0     0    12869.0     11   \n",
       "4014      6403    FL      M     677.0  311  313.0     0    12509.0      2   \n",
       "\n",
       "      pobc2    ic2  ic3    avggift  tcode   dob domain  target_d  \n",
       "0        16  430.0  466  28.000000      1  1901     C2     100.0  \n",
       "175      30  502.0  507   8.400000      2  6501     T1       5.0  \n",
       "203      15  411.0  422   9.576923      2  1306     C1      20.0  \n",
       "220      44  693.0  680  25.000000      1  2701      0     150.0  \n",
       "242      35  508.0  567   4.105769      2  3306     C2       4.0  \n",
       "...     ...    ...  ...        ...    ...   ...    ...       ...  \n",
       "3862     10  482.0  500  55.000000      1     0     U1      50.0  \n",
       "3904     26  471.0  429   6.269231   1002  3911     C1       5.0  \n",
       "3935     39  469.0  494  10.700000      0  4906     T1      16.0  \n",
       "3984     35  360.0  358   9.500000      1  2601     S3      20.0  \n",
       "4014     23  272.0  324  10.115385      1  2703     C2      10.0  \n",
       "\n",
       "[86 rows x 17 columns]"
      ]
     },
     "execution_count": 60,
     "metadata": {},
     "output_type": "execute_result"
    }
   ],
   "source": [
    "# using brackets and criteria separated by & - list of criteria \n",
    "data[(data['state']=='FL')&(data['gender']=='M')&(data['ic1']>300)]"
   ]
  },
  {
   "cell_type": "code",
   "execution_count": 61,
   "id": "faee03e5",
   "metadata": {},
   "outputs": [
    {
     "data": {
      "text/html": [
       "<div>\n",
       "<style scoped>\n",
       "    .dataframe tbody tr th:only-of-type {\n",
       "        vertical-align: middle;\n",
       "    }\n",
       "\n",
       "    .dataframe tbody tr th {\n",
       "        vertical-align: top;\n",
       "    }\n",
       "\n",
       "    .dataframe thead th {\n",
       "        text-align: right;\n",
       "    }\n",
       "</style>\n",
       "<table border=\"1\" class=\"dataframe\">\n",
       "  <thead>\n",
       "    <tr style=\"text-align: right;\">\n",
       "      <th></th>\n",
       "      <th>gender</th>\n",
       "      <th>state</th>\n",
       "    </tr>\n",
       "  </thead>\n",
       "  <tbody>\n",
       "    <tr>\n",
       "      <th>0</th>\n",
       "      <td>M</td>\n",
       "      <td>FL</td>\n",
       "    </tr>\n",
       "    <tr>\n",
       "      <th>1</th>\n",
       "      <td>M</td>\n",
       "      <td>IL</td>\n",
       "    </tr>\n",
       "    <tr>\n",
       "      <th>2</th>\n",
       "      <td>F</td>\n",
       "      <td>FL</td>\n",
       "    </tr>\n",
       "    <tr>\n",
       "      <th>3</th>\n",
       "      <td>M</td>\n",
       "      <td>NC</td>\n",
       "    </tr>\n",
       "    <tr>\n",
       "      <th>4</th>\n",
       "      <td>F</td>\n",
       "      <td>FL</td>\n",
       "    </tr>\n",
       "    <tr>\n",
       "      <th>...</th>\n",
       "      <td>...</td>\n",
       "      <td>...</td>\n",
       "    </tr>\n",
       "    <tr>\n",
       "      <th>4018</th>\n",
       "      <td>F</td>\n",
       "      <td>MI</td>\n",
       "    </tr>\n",
       "    <tr>\n",
       "      <th>4019</th>\n",
       "      <td>M</td>\n",
       "      <td>FL</td>\n",
       "    </tr>\n",
       "    <tr>\n",
       "      <th>4020</th>\n",
       "      <td>F</td>\n",
       "      <td>CA</td>\n",
       "    </tr>\n",
       "    <tr>\n",
       "      <th>4021</th>\n",
       "      <td>M</td>\n",
       "      <td>CA</td>\n",
       "    </tr>\n",
       "    <tr>\n",
       "      <th>4022</th>\n",
       "      <td>M</td>\n",
       "      <td>MI</td>\n",
       "    </tr>\n",
       "  </tbody>\n",
       "</table>\n",
       "<p>4001 rows × 2 columns</p>\n",
       "</div>"
      ],
      "text/plain": [
       "     gender state\n",
       "0         M    FL\n",
       "1         M    IL\n",
       "2         F    FL\n",
       "3         M    NC\n",
       "4         F    FL\n",
       "...     ...   ...\n",
       "4018      F    MI\n",
       "4019      M    FL\n",
       "4020      F    CA\n",
       "4021      M    CA\n",
       "4022      M    MI\n",
       "\n",
       "[4001 rows x 2 columns]"
      ]
     },
     "execution_count": 61,
     "metadata": {},
     "output_type": "execute_result"
    }
   ],
   "source": [
    "data.filter(items=['gender','state'], axis=1)"
   ]
  },
  {
   "cell_type": "markdown",
   "id": "ae73d380",
   "metadata": {},
   "source": [
    "## extract as a csv"
   ]
  },
  {
   "cell_type": "code",
   "execution_count": 62,
   "id": "bd5ea2c2",
   "metadata": {},
   "outputs": [
    {
     "data": {
      "text/html": [
       "<div>\n",
       "<style scoped>\n",
       "    .dataframe tbody tr th:only-of-type {\n",
       "        vertical-align: middle;\n",
       "    }\n",
       "\n",
       "    .dataframe tbody tr th {\n",
       "        vertical-align: top;\n",
       "    }\n",
       "\n",
       "    .dataframe thead th {\n",
       "        text-align: right;\n",
       "    }\n",
       "</style>\n",
       "<table border=\"1\" class=\"dataframe\">\n",
       "  <thead>\n",
       "    <tr style=\"text-align: right;\">\n",
       "      <th></th>\n",
       "      <th>controln</th>\n",
       "      <th>state</th>\n",
       "      <th>gender</th>\n",
       "      <th>medianhv</th>\n",
       "      <th>ic1</th>\n",
       "      <th>ic4</th>\n",
       "      <th>hvp1</th>\n",
       "      <th>percapita</th>\n",
       "      <th>pobc1</th>\n",
       "      <th>pobc2</th>\n",
       "      <th>ic2</th>\n",
       "      <th>ic3</th>\n",
       "      <th>avggift</th>\n",
       "      <th>tcode</th>\n",
       "      <th>dob</th>\n",
       "      <th>domain</th>\n",
       "      <th>target_d</th>\n",
       "    </tr>\n",
       "  </thead>\n",
       "  <tbody>\n",
       "    <tr>\n",
       "      <th>0</th>\n",
       "      <td>44060</td>\n",
       "      <td>FL</td>\n",
       "      <td>M</td>\n",
       "      <td>NaN</td>\n",
       "      <td>392</td>\n",
       "      <td>520.0</td>\n",
       "      <td>7</td>\n",
       "      <td>21975.0</td>\n",
       "      <td>6</td>\n",
       "      <td>16</td>\n",
       "      <td>430.0</td>\n",
       "      <td>466</td>\n",
       "      <td>28.000000</td>\n",
       "      <td>1</td>\n",
       "      <td>1901</td>\n",
       "      <td>C2</td>\n",
       "      <td>100.0</td>\n",
       "    </tr>\n",
       "    <tr>\n",
       "      <th>1</th>\n",
       "      <td>96093</td>\n",
       "      <td>IL</td>\n",
       "      <td>M</td>\n",
       "      <td>537.0</td>\n",
       "      <td>365</td>\n",
       "      <td>473.0</td>\n",
       "      <td>0</td>\n",
       "      <td>19387.0</td>\n",
       "      <td>1</td>\n",
       "      <td>89</td>\n",
       "      <td>415.0</td>\n",
       "      <td>410</td>\n",
       "      <td>5.666667</td>\n",
       "      <td>0</td>\n",
       "      <td>0</td>\n",
       "      <td>T2</td>\n",
       "      <td>7.0</td>\n",
       "    </tr>\n",
       "    <tr>\n",
       "      <th>2</th>\n",
       "      <td>43333</td>\n",
       "      <td>FL</td>\n",
       "      <td>F</td>\n",
       "      <td>725.0</td>\n",
       "      <td>301</td>\n",
       "      <td>436.0</td>\n",
       "      <td>3</td>\n",
       "      <td>18837.0</td>\n",
       "      <td>11</td>\n",
       "      <td>17</td>\n",
       "      <td>340.0</td>\n",
       "      <td>361</td>\n",
       "      <td>4.111111</td>\n",
       "      <td>0</td>\n",
       "      <td>2501</td>\n",
       "      <td>C2</td>\n",
       "      <td>5.0</td>\n",
       "    </tr>\n",
       "    <tr>\n",
       "      <th>3</th>\n",
       "      <td>21885</td>\n",
       "      <td>NC</td>\n",
       "      <td>M</td>\n",
       "      <td>NaN</td>\n",
       "      <td>401</td>\n",
       "      <td>413.0</td>\n",
       "      <td>7</td>\n",
       "      <td>14014.0</td>\n",
       "      <td>1</td>\n",
       "      <td>74</td>\n",
       "      <td>407.0</td>\n",
       "      <td>399</td>\n",
       "      <td>27.277778</td>\n",
       "      <td>0</td>\n",
       "      <td>2208</td>\n",
       "      <td>T2</td>\n",
       "      <td>38.0</td>\n",
       "    </tr>\n",
       "    <tr>\n",
       "      <th>4</th>\n",
       "      <td>190108</td>\n",
       "      <td>FL</td>\n",
       "      <td>F</td>\n",
       "      <td>995.0</td>\n",
       "      <td>252</td>\n",
       "      <td>348.0</td>\n",
       "      <td>0</td>\n",
       "      <td>17991.0</td>\n",
       "      <td>5</td>\n",
       "      <td>6</td>\n",
       "      <td>280.0</td>\n",
       "      <td>316</td>\n",
       "      <td>6.000000</td>\n",
       "      <td>28</td>\n",
       "      <td>0</td>\n",
       "      <td>C2</td>\n",
       "      <td>5.0</td>\n",
       "    </tr>\n",
       "  </tbody>\n",
       "</table>\n",
       "</div>"
      ],
      "text/plain": [
       "   controln state gender  medianhv  ic1    ic4  hvp1  percapita  pobc1  pobc2  \\\n",
       "0     44060    FL      M       NaN  392  520.0     7    21975.0      6     16   \n",
       "1     96093    IL      M     537.0  365  473.0     0    19387.0      1     89   \n",
       "2     43333    FL      F     725.0  301  436.0     3    18837.0     11     17   \n",
       "3     21885    NC      M       NaN  401  413.0     7    14014.0      1     74   \n",
       "4    190108    FL      F     995.0  252  348.0     0    17991.0      5      6   \n",
       "\n",
       "     ic2  ic3    avggift  tcode   dob domain  target_d  \n",
       "0  430.0  466  28.000000      1  1901     C2     100.0  \n",
       "1  415.0  410   5.666667      0     0     T2       7.0  \n",
       "2  340.0  361   4.111111      0  2501     C2       5.0  \n",
       "3  407.0  399  27.277778      0  2208     T2      38.0  \n",
       "4  280.0  316   6.000000     28     0     C2       5.0  "
      ]
     },
     "execution_count": 62,
     "metadata": {},
     "output_type": "execute_result"
    }
   ],
   "source": [
    "data.head()"
   ]
  },
  {
   "cell_type": "code",
   "execution_count": 63,
   "id": "be1267bc",
   "metadata": {},
   "outputs": [],
   "source": [
    "data.to_csv('data for class/day1_analysis_H4A.csv',index=False)"
   ]
  },
  {
   "cell_type": "markdown",
   "id": "ec236350",
   "metadata": {},
   "source": [
    "## day 2 "
   ]
  },
  {
   "cell_type": "code",
   "execution_count": 64,
   "id": "d7fedf5d",
   "metadata": {},
   "outputs": [
    {
     "data": {
      "text/html": [
       "<div>\n",
       "<style scoped>\n",
       "    .dataframe tbody tr th:only-of-type {\n",
       "        vertical-align: middle;\n",
       "    }\n",
       "\n",
       "    .dataframe tbody tr th {\n",
       "        vertical-align: top;\n",
       "    }\n",
       "\n",
       "    .dataframe thead th {\n",
       "        text-align: right;\n",
       "    }\n",
       "</style>\n",
       "<table border=\"1\" class=\"dataframe\">\n",
       "  <thead>\n",
       "    <tr style=\"text-align: right;\">\n",
       "      <th></th>\n",
       "      <th>controln</th>\n",
       "      <th>state</th>\n",
       "      <th>gender</th>\n",
       "      <th>medianhv</th>\n",
       "      <th>ic1</th>\n",
       "      <th>ic4</th>\n",
       "      <th>hvp1</th>\n",
       "      <th>percapita</th>\n",
       "      <th>pobc1</th>\n",
       "      <th>pobc2</th>\n",
       "      <th>ic2</th>\n",
       "      <th>ic3</th>\n",
       "      <th>avggift</th>\n",
       "      <th>tcode</th>\n",
       "      <th>dob</th>\n",
       "      <th>domain</th>\n",
       "      <th>target_d</th>\n",
       "    </tr>\n",
       "  </thead>\n",
       "  <tbody>\n",
       "    <tr>\n",
       "      <th>0</th>\n",
       "      <td>44060</td>\n",
       "      <td>FL</td>\n",
       "      <td>M</td>\n",
       "      <td>NaN</td>\n",
       "      <td>392</td>\n",
       "      <td>520.0</td>\n",
       "      <td>7</td>\n",
       "      <td>21975.0</td>\n",
       "      <td>6</td>\n",
       "      <td>16</td>\n",
       "      <td>430.0</td>\n",
       "      <td>466</td>\n",
       "      <td>28.000000</td>\n",
       "      <td>1</td>\n",
       "      <td>1901</td>\n",
       "      <td>C2</td>\n",
       "      <td>100.0</td>\n",
       "    </tr>\n",
       "    <tr>\n",
       "      <th>1</th>\n",
       "      <td>96093</td>\n",
       "      <td>IL</td>\n",
       "      <td>M</td>\n",
       "      <td>537.0</td>\n",
       "      <td>365</td>\n",
       "      <td>473.0</td>\n",
       "      <td>0</td>\n",
       "      <td>19387.0</td>\n",
       "      <td>1</td>\n",
       "      <td>89</td>\n",
       "      <td>415.0</td>\n",
       "      <td>410</td>\n",
       "      <td>5.666667</td>\n",
       "      <td>0</td>\n",
       "      <td>0</td>\n",
       "      <td>T2</td>\n",
       "      <td>7.0</td>\n",
       "    </tr>\n",
       "    <tr>\n",
       "      <th>2</th>\n",
       "      <td>43333</td>\n",
       "      <td>FL</td>\n",
       "      <td>F</td>\n",
       "      <td>725.0</td>\n",
       "      <td>301</td>\n",
       "      <td>436.0</td>\n",
       "      <td>3</td>\n",
       "      <td>18837.0</td>\n",
       "      <td>11</td>\n",
       "      <td>17</td>\n",
       "      <td>340.0</td>\n",
       "      <td>361</td>\n",
       "      <td>4.111111</td>\n",
       "      <td>0</td>\n",
       "      <td>2501</td>\n",
       "      <td>C2</td>\n",
       "      <td>5.0</td>\n",
       "    </tr>\n",
       "    <tr>\n",
       "      <th>3</th>\n",
       "      <td>21885</td>\n",
       "      <td>NC</td>\n",
       "      <td>M</td>\n",
       "      <td>NaN</td>\n",
       "      <td>401</td>\n",
       "      <td>413.0</td>\n",
       "      <td>7</td>\n",
       "      <td>14014.0</td>\n",
       "      <td>1</td>\n",
       "      <td>74</td>\n",
       "      <td>407.0</td>\n",
       "      <td>399</td>\n",
       "      <td>27.277778</td>\n",
       "      <td>0</td>\n",
       "      <td>2208</td>\n",
       "      <td>T2</td>\n",
       "      <td>38.0</td>\n",
       "    </tr>\n",
       "    <tr>\n",
       "      <th>4</th>\n",
       "      <td>190108</td>\n",
       "      <td>FL</td>\n",
       "      <td>F</td>\n",
       "      <td>995.0</td>\n",
       "      <td>252</td>\n",
       "      <td>348.0</td>\n",
       "      <td>0</td>\n",
       "      <td>17991.0</td>\n",
       "      <td>5</td>\n",
       "      <td>6</td>\n",
       "      <td>280.0</td>\n",
       "      <td>316</td>\n",
       "      <td>6.000000</td>\n",
       "      <td>28</td>\n",
       "      <td>0</td>\n",
       "      <td>C2</td>\n",
       "      <td>5.0</td>\n",
       "    </tr>\n",
       "    <tr>\n",
       "      <th>5</th>\n",
       "      <td>100640</td>\n",
       "      <td>IL</td>\n",
       "      <td>M</td>\n",
       "      <td>764.0</td>\n",
       "      <td>457</td>\n",
       "      <td>501.0</td>\n",
       "      <td>1</td>\n",
       "      <td>16022.0</td>\n",
       "      <td>2</td>\n",
       "      <td>75</td>\n",
       "      <td>477.0</td>\n",
       "      <td>480</td>\n",
       "      <td>25.571429</td>\n",
       "      <td>1</td>\n",
       "      <td>6104</td>\n",
       "      <td>S2</td>\n",
       "      <td>30.0</td>\n",
       "    </tr>\n",
       "    <tr>\n",
       "      <th>6</th>\n",
       "      <td>18581</td>\n",
       "      <td>NC</td>\n",
       "      <td>female</td>\n",
       "      <td>775.0</td>\n",
       "      <td>318</td>\n",
       "      <td>419.0</td>\n",
       "      <td>5</td>\n",
       "      <td>13491.0</td>\n",
       "      <td>0</td>\n",
       "      <td>73</td>\n",
       "      <td>364.0</td>\n",
       "      <td>380</td>\n",
       "      <td>4.625000</td>\n",
       "      <td>0</td>\n",
       "      <td>4407</td>\n",
       "      <td>R2</td>\n",
       "      <td>12.0</td>\n",
       "    </tr>\n",
       "    <tr>\n",
       "      <th>7</th>\n",
       "      <td>119038</td>\n",
       "      <td>TX</td>\n",
       "      <td>M</td>\n",
       "      <td>890.0</td>\n",
       "      <td>519</td>\n",
       "      <td>560.0</td>\n",
       "      <td>0</td>\n",
       "      <td>17872.0</td>\n",
       "      <td>2</td>\n",
       "      <td>46</td>\n",
       "      <td>525.0</td>\n",
       "      <td>551</td>\n",
       "      <td>6.175000</td>\n",
       "      <td>1002</td>\n",
       "      <td>0</td>\n",
       "      <td>C1</td>\n",
       "      <td>7.0</td>\n",
       "    </tr>\n",
       "    <tr>\n",
       "      <th>8</th>\n",
       "      <td>173223</td>\n",
       "      <td>CA</td>\n",
       "      <td>F</td>\n",
       "      <td>NaN</td>\n",
       "      <td>184</td>\n",
       "      <td>250.0</td>\n",
       "      <td>0</td>\n",
       "      <td>8708.0</td>\n",
       "      <td>2</td>\n",
       "      <td>63</td>\n",
       "      <td>206.0</td>\n",
       "      <td>235</td>\n",
       "      <td>8.818182</td>\n",
       "      <td>0</td>\n",
       "      <td>1801</td>\n",
       "      <td>T2</td>\n",
       "      <td>10.0</td>\n",
       "    </tr>\n",
       "    <tr>\n",
       "      <th>9</th>\n",
       "      <td>157988</td>\n",
       "      <td>CA</td>\n",
       "      <td>F</td>\n",
       "      <td>NaN</td>\n",
       "      <td>593</td>\n",
       "      <td>617.0</td>\n",
       "      <td>61</td>\n",
       "      <td>17838.0</td>\n",
       "      <td>7</td>\n",
       "      <td>62</td>\n",
       "      <td>NaN</td>\n",
       "      <td>619</td>\n",
       "      <td>6.666667</td>\n",
       "      <td>28</td>\n",
       "      <td>0</td>\n",
       "      <td>S1</td>\n",
       "      <td>10.0</td>\n",
       "    </tr>\n",
       "  </tbody>\n",
       "</table>\n",
       "</div>"
      ],
      "text/plain": [
       "   controln state  gender  medianhv  ic1    ic4  hvp1  percapita  pobc1  \\\n",
       "0     44060    FL       M       NaN  392  520.0     7    21975.0      6   \n",
       "1     96093    IL       M     537.0  365  473.0     0    19387.0      1   \n",
       "2     43333    FL       F     725.0  301  436.0     3    18837.0     11   \n",
       "3     21885    NC       M       NaN  401  413.0     7    14014.0      1   \n",
       "4    190108    FL       F     995.0  252  348.0     0    17991.0      5   \n",
       "5    100640    IL       M     764.0  457  501.0     1    16022.0      2   \n",
       "6     18581    NC  female     775.0  318  419.0     5    13491.0      0   \n",
       "7    119038    TX       M     890.0  519  560.0     0    17872.0      2   \n",
       "8    173223    CA       F       NaN  184  250.0     0     8708.0      2   \n",
       "9    157988    CA       F       NaN  593  617.0    61    17838.0      7   \n",
       "\n",
       "   pobc2    ic2  ic3    avggift  tcode   dob domain  target_d  \n",
       "0     16  430.0  466  28.000000      1  1901     C2     100.0  \n",
       "1     89  415.0  410   5.666667      0     0     T2       7.0  \n",
       "2     17  340.0  361   4.111111      0  2501     C2       5.0  \n",
       "3     74  407.0  399  27.277778      0  2208     T2      38.0  \n",
       "4      6  280.0  316   6.000000     28     0     C2       5.0  \n",
       "5     75  477.0  480  25.571429      1  6104     S2      30.0  \n",
       "6     73  364.0  380   4.625000      0  4407     R2      12.0  \n",
       "7     46  525.0  551   6.175000   1002     0     C1       7.0  \n",
       "8     63  206.0  235   8.818182      0  1801     T2      10.0  \n",
       "9     62    NaN  619   6.666667     28     0     S1      10.0  "
      ]
     },
     "execution_count": 64,
     "metadata": {},
     "output_type": "execute_result"
    }
   ],
   "source": [
    "data.head(10)"
   ]
  },
  {
   "cell_type": "code",
   "execution_count": 65,
   "id": "4b788bae",
   "metadata": {},
   "outputs": [
    {
     "name": "stdout",
     "output_type": "stream",
     "text": [
      "<class 'pandas.core.frame.DataFrame'>\n",
      "Int64Index: 4001 entries, 0 to 4022\n",
      "Data columns (total 17 columns):\n",
      " #   Column     Non-Null Count  Dtype  \n",
      "---  ------     --------------  -----  \n",
      " 0   controln   4001 non-null   int64  \n",
      " 1   state      4001 non-null   object \n",
      " 2   gender     3868 non-null   object \n",
      " 3   medianhv   3991 non-null   float64\n",
      " 4   ic1        4001 non-null   int64  \n",
      " 5   ic4        4000 non-null   float64\n",
      " 6   hvp1       4001 non-null   int64  \n",
      " 7   percapita  3995 non-null   float64\n",
      " 8   pobc1      4001 non-null   int64  \n",
      " 9   pobc2      4001 non-null   int64  \n",
      " 10  ic2        4000 non-null   float64\n",
      " 11  ic3        4001 non-null   int64  \n",
      " 12  avggift    4001 non-null   float64\n",
      " 13  tcode      4001 non-null   int64  \n",
      " 14  dob        4001 non-null   int64  \n",
      " 15  domain     4001 non-null   object \n",
      " 16  target_d   4001 non-null   float64\n",
      "dtypes: float64(6), int64(8), object(3)\n",
      "memory usage: 691.7+ KB\n"
     ]
    }
   ],
   "source": [
    "data.info()"
   ]
  },
  {
   "cell_type": "code",
   "execution_count": 66,
   "id": "b8af6510",
   "metadata": {},
   "outputs": [],
   "source": [
    "data.reset_index(drop=True,inplace=True)"
   ]
  },
  {
   "cell_type": "markdown",
   "id": "630ae156",
   "metadata": {},
   "source": [
    "## Dealing with NULLS "
   ]
  },
  {
   "cell_type": "code",
   "execution_count": 67,
   "id": "b1cc4b0e",
   "metadata": {},
   "outputs": [],
   "source": [
    "# snapshot table for handling nulls - ie this is how it looks now \n",
    "nulls_df=pd.DataFrame(round(data.isna().sum()/len(data),4)*100)"
   ]
  },
  {
   "cell_type": "code",
   "execution_count": 68,
   "id": "34072abc",
   "metadata": {},
   "outputs": [
    {
     "data": {
      "text/html": [
       "<div>\n",
       "<style scoped>\n",
       "    .dataframe tbody tr th:only-of-type {\n",
       "        vertical-align: middle;\n",
       "    }\n",
       "\n",
       "    .dataframe tbody tr th {\n",
       "        vertical-align: top;\n",
       "    }\n",
       "\n",
       "    .dataframe thead th {\n",
       "        text-align: right;\n",
       "    }\n",
       "</style>\n",
       "<table border=\"1\" class=\"dataframe\">\n",
       "  <thead>\n",
       "    <tr style=\"text-align: right;\">\n",
       "      <th></th>\n",
       "      <th>0</th>\n",
       "    </tr>\n",
       "  </thead>\n",
       "  <tbody>\n",
       "    <tr>\n",
       "      <th>controln</th>\n",
       "      <td>0.00</td>\n",
       "    </tr>\n",
       "    <tr>\n",
       "      <th>state</th>\n",
       "      <td>0.00</td>\n",
       "    </tr>\n",
       "    <tr>\n",
       "      <th>gender</th>\n",
       "      <td>3.32</td>\n",
       "    </tr>\n",
       "    <tr>\n",
       "      <th>medianhv</th>\n",
       "      <td>0.25</td>\n",
       "    </tr>\n",
       "    <tr>\n",
       "      <th>ic1</th>\n",
       "      <td>0.00</td>\n",
       "    </tr>\n",
       "    <tr>\n",
       "      <th>ic4</th>\n",
       "      <td>0.02</td>\n",
       "    </tr>\n",
       "    <tr>\n",
       "      <th>hvp1</th>\n",
       "      <td>0.00</td>\n",
       "    </tr>\n",
       "    <tr>\n",
       "      <th>percapita</th>\n",
       "      <td>0.15</td>\n",
       "    </tr>\n",
       "    <tr>\n",
       "      <th>pobc1</th>\n",
       "      <td>0.00</td>\n",
       "    </tr>\n",
       "    <tr>\n",
       "      <th>pobc2</th>\n",
       "      <td>0.00</td>\n",
       "    </tr>\n",
       "    <tr>\n",
       "      <th>ic2</th>\n",
       "      <td>0.02</td>\n",
       "    </tr>\n",
       "    <tr>\n",
       "      <th>ic3</th>\n",
       "      <td>0.00</td>\n",
       "    </tr>\n",
       "    <tr>\n",
       "      <th>avggift</th>\n",
       "      <td>0.00</td>\n",
       "    </tr>\n",
       "    <tr>\n",
       "      <th>tcode</th>\n",
       "      <td>0.00</td>\n",
       "    </tr>\n",
       "    <tr>\n",
       "      <th>dob</th>\n",
       "      <td>0.00</td>\n",
       "    </tr>\n",
       "    <tr>\n",
       "      <th>domain</th>\n",
       "      <td>0.00</td>\n",
       "    </tr>\n",
       "    <tr>\n",
       "      <th>target_d</th>\n",
       "      <td>0.00</td>\n",
       "    </tr>\n",
       "  </tbody>\n",
       "</table>\n",
       "</div>"
      ],
      "text/plain": [
       "              0\n",
       "controln   0.00\n",
       "state      0.00\n",
       "gender     3.32\n",
       "medianhv   0.25\n",
       "ic1        0.00\n",
       "ic4        0.02\n",
       "hvp1       0.00\n",
       "percapita  0.15\n",
       "pobc1      0.00\n",
       "pobc2      0.00\n",
       "ic2        0.02\n",
       "ic3        0.00\n",
       "avggift    0.00\n",
       "tcode      0.00\n",
       "dob        0.00\n",
       "domain     0.00\n",
       "target_d   0.00"
      ]
     },
     "execution_count": 68,
     "metadata": {},
     "output_type": "execute_result"
    }
   ],
   "source": [
    "nulls_df"
   ]
  },
  {
   "cell_type": "code",
   "execution_count": 69,
   "id": "2d37ae5c",
   "metadata": {},
   "outputs": [],
   "source": [
    "nulls_df=nulls_df.rename(columns={'index':'header',0:'prop_nulls'})"
   ]
  },
  {
   "cell_type": "code",
   "execution_count": 70,
   "id": "41996551",
   "metadata": {},
   "outputs": [
    {
     "data": {
      "text/html": [
       "<div>\n",
       "<style scoped>\n",
       "    .dataframe tbody tr th:only-of-type {\n",
       "        vertical-align: middle;\n",
       "    }\n",
       "\n",
       "    .dataframe tbody tr th {\n",
       "        vertical-align: top;\n",
       "    }\n",
       "\n",
       "    .dataframe thead th {\n",
       "        text-align: right;\n",
       "    }\n",
       "</style>\n",
       "<table border=\"1\" class=\"dataframe\">\n",
       "  <thead>\n",
       "    <tr style=\"text-align: right;\">\n",
       "      <th></th>\n",
       "      <th>prop_nulls</th>\n",
       "    </tr>\n",
       "  </thead>\n",
       "  <tbody>\n",
       "    <tr>\n",
       "      <th>controln</th>\n",
       "      <td>0.00</td>\n",
       "    </tr>\n",
       "    <tr>\n",
       "      <th>state</th>\n",
       "      <td>0.00</td>\n",
       "    </tr>\n",
       "    <tr>\n",
       "      <th>gender</th>\n",
       "      <td>3.32</td>\n",
       "    </tr>\n",
       "    <tr>\n",
       "      <th>medianhv</th>\n",
       "      <td>0.25</td>\n",
       "    </tr>\n",
       "    <tr>\n",
       "      <th>ic1</th>\n",
       "      <td>0.00</td>\n",
       "    </tr>\n",
       "    <tr>\n",
       "      <th>ic4</th>\n",
       "      <td>0.02</td>\n",
       "    </tr>\n",
       "    <tr>\n",
       "      <th>hvp1</th>\n",
       "      <td>0.00</td>\n",
       "    </tr>\n",
       "    <tr>\n",
       "      <th>percapita</th>\n",
       "      <td>0.15</td>\n",
       "    </tr>\n",
       "    <tr>\n",
       "      <th>pobc1</th>\n",
       "      <td>0.00</td>\n",
       "    </tr>\n",
       "    <tr>\n",
       "      <th>pobc2</th>\n",
       "      <td>0.00</td>\n",
       "    </tr>\n",
       "    <tr>\n",
       "      <th>ic2</th>\n",
       "      <td>0.02</td>\n",
       "    </tr>\n",
       "    <tr>\n",
       "      <th>ic3</th>\n",
       "      <td>0.00</td>\n",
       "    </tr>\n",
       "    <tr>\n",
       "      <th>avggift</th>\n",
       "      <td>0.00</td>\n",
       "    </tr>\n",
       "    <tr>\n",
       "      <th>tcode</th>\n",
       "      <td>0.00</td>\n",
       "    </tr>\n",
       "    <tr>\n",
       "      <th>dob</th>\n",
       "      <td>0.00</td>\n",
       "    </tr>\n",
       "    <tr>\n",
       "      <th>domain</th>\n",
       "      <td>0.00</td>\n",
       "    </tr>\n",
       "    <tr>\n",
       "      <th>target_d</th>\n",
       "      <td>0.00</td>\n",
       "    </tr>\n",
       "  </tbody>\n",
       "</table>\n",
       "</div>"
      ],
      "text/plain": [
       "           prop_nulls\n",
       "controln         0.00\n",
       "state            0.00\n",
       "gender           3.32\n",
       "medianhv         0.25\n",
       "ic1              0.00\n",
       "ic4              0.02\n",
       "hvp1             0.00\n",
       "percapita        0.15\n",
       "pobc1            0.00\n",
       "pobc2            0.00\n",
       "ic2              0.02\n",
       "ic3              0.00\n",
       "avggift          0.00\n",
       "tcode            0.00\n",
       "dob              0.00\n",
       "domain           0.00\n",
       "target_d         0.00"
      ]
     },
     "execution_count": 70,
     "metadata": {},
     "output_type": "execute_result"
    }
   ],
   "source": [
    "nulls_df"
   ]
  },
  {
   "cell_type": "code",
   "execution_count": 71,
   "id": "f0c11b8e",
   "metadata": {},
   "outputs": [
    {
     "data": {
      "text/html": [
       "<div>\n",
       "<style scoped>\n",
       "    .dataframe tbody tr th:only-of-type {\n",
       "        vertical-align: middle;\n",
       "    }\n",
       "\n",
       "    .dataframe tbody tr th {\n",
       "        vertical-align: top;\n",
       "    }\n",
       "\n",
       "    .dataframe thead th {\n",
       "        text-align: right;\n",
       "    }\n",
       "</style>\n",
       "<table border=\"1\" class=\"dataframe\">\n",
       "  <thead>\n",
       "    <tr style=\"text-align: right;\">\n",
       "      <th></th>\n",
       "      <th>controln</th>\n",
       "      <th>medianhv</th>\n",
       "      <th>ic1</th>\n",
       "      <th>ic4</th>\n",
       "      <th>hvp1</th>\n",
       "      <th>percapita</th>\n",
       "      <th>pobc1</th>\n",
       "      <th>pobc2</th>\n",
       "      <th>ic2</th>\n",
       "      <th>ic3</th>\n",
       "      <th>avggift</th>\n",
       "      <th>tcode</th>\n",
       "      <th>dob</th>\n",
       "      <th>target_d</th>\n",
       "    </tr>\n",
       "  </thead>\n",
       "  <tbody>\n",
       "    <tr>\n",
       "      <th>count</th>\n",
       "      <td>4001.000000</td>\n",
       "      <td>3991.000000</td>\n",
       "      <td>4001.000000</td>\n",
       "      <td>4000.000000</td>\n",
       "      <td>4001.00000</td>\n",
       "      <td>3995.000000</td>\n",
       "      <td>4001.000000</td>\n",
       "      <td>4001.000000</td>\n",
       "      <td>4000.000000</td>\n",
       "      <td>4001.000000</td>\n",
       "      <td>4001.000000</td>\n",
       "      <td>4001.000000</td>\n",
       "      <td>4001.000000</td>\n",
       "      <td>4001.000000</td>\n",
       "    </tr>\n",
       "    <tr>\n",
       "      <th>mean</th>\n",
       "      <td>98945.902274</td>\n",
       "      <td>1157.329241</td>\n",
       "      <td>351.543364</td>\n",
       "      <td>444.628250</td>\n",
       "      <td>15.91852</td>\n",
       "      <td>16455.588736</td>\n",
       "      <td>6.859535</td>\n",
       "      <td>55.467883</td>\n",
       "      <td>400.570750</td>\n",
       "      <td>399.765809</td>\n",
       "      <td>11.781559</td>\n",
       "      <td>76.796551</td>\n",
       "      <td>2703.984754</td>\n",
       "      <td>15.656208</td>\n",
       "    </tr>\n",
       "    <tr>\n",
       "      <th>std</th>\n",
       "      <td>58175.307614</td>\n",
       "      <td>1034.099416</td>\n",
       "      <td>168.422014</td>\n",
       "      <td>174.937777</td>\n",
       "      <td>28.81456</td>\n",
       "      <td>9453.265416</td>\n",
       "      <td>9.508799</td>\n",
       "      <td>21.500536</td>\n",
       "      <td>180.462807</td>\n",
       "      <td>164.767267</td>\n",
       "      <td>10.164747</td>\n",
       "      <td>1193.953285</td>\n",
       "      <td>2052.829565</td>\n",
       "      <td>12.692982</td>\n",
       "    </tr>\n",
       "    <tr>\n",
       "      <th>min</th>\n",
       "      <td>12.000000</td>\n",
       "      <td>0.000000</td>\n",
       "      <td>0.000000</td>\n",
       "      <td>0.000000</td>\n",
       "      <td>0.00000</td>\n",
       "      <td>0.000000</td>\n",
       "      <td>0.000000</td>\n",
       "      <td>0.000000</td>\n",
       "      <td>0.000000</td>\n",
       "      <td>0.000000</td>\n",
       "      <td>2.260870</td>\n",
       "      <td>0.000000</td>\n",
       "      <td>0.000000</td>\n",
       "      <td>1.000000</td>\n",
       "    </tr>\n",
       "    <tr>\n",
       "      <th>25%</th>\n",
       "      <td>46153.000000</td>\n",
       "      <td>548.000000</td>\n",
       "      <td>239.000000</td>\n",
       "      <td>325.000000</td>\n",
       "      <td>0.00000</td>\n",
       "      <td>11137.500000</td>\n",
       "      <td>1.000000</td>\n",
       "      <td>41.000000</td>\n",
       "      <td>284.000000</td>\n",
       "      <td>287.000000</td>\n",
       "      <td>7.181818</td>\n",
       "      <td>0.000000</td>\n",
       "      <td>609.000000</td>\n",
       "      <td>10.000000</td>\n",
       "    </tr>\n",
       "    <tr>\n",
       "      <th>50%</th>\n",
       "      <td>101596.000000</td>\n",
       "      <td>801.000000</td>\n",
       "      <td>318.000000</td>\n",
       "      <td>410.000000</td>\n",
       "      <td>1.00000</td>\n",
       "      <td>14356.000000</td>\n",
       "      <td>4.000000</td>\n",
       "      <td>57.000000</td>\n",
       "      <td>366.000000</td>\n",
       "      <td>365.000000</td>\n",
       "      <td>10.000000</td>\n",
       "      <td>1.000000</td>\n",
       "      <td>2612.000000</td>\n",
       "      <td>13.920000</td>\n",
       "    </tr>\n",
       "    <tr>\n",
       "      <th>75%</th>\n",
       "      <td>151653.000000</td>\n",
       "      <td>1349.000000</td>\n",
       "      <td>425.000000</td>\n",
       "      <td>528.000000</td>\n",
       "      <td>14.00000</td>\n",
       "      <td>18778.500000</td>\n",
       "      <td>9.000000</td>\n",
       "      <td>73.000000</td>\n",
       "      <td>477.000000</td>\n",
       "      <td>479.000000</td>\n",
       "      <td>14.428571</td>\n",
       "      <td>2.000000</td>\n",
       "      <td>4401.000000</td>\n",
       "      <td>20.000000</td>\n",
       "    </tr>\n",
       "    <tr>\n",
       "      <th>max</th>\n",
       "      <td>191779.000000</td>\n",
       "      <td>5982.000000</td>\n",
       "      <td>1500.000000</td>\n",
       "      <td>1331.000000</td>\n",
       "      <td>99.00000</td>\n",
       "      <td>174523.000000</td>\n",
       "      <td>79.000000</td>\n",
       "      <td>99.000000</td>\n",
       "      <td>1500.000000</td>\n",
       "      <td>1311.000000</td>\n",
       "      <td>450.000000</td>\n",
       "      <td>39002.000000</td>\n",
       "      <td>9310.000000</td>\n",
       "      <td>200.000000</td>\n",
       "    </tr>\n",
       "  </tbody>\n",
       "</table>\n",
       "</div>"
      ],
      "text/plain": [
       "            controln     medianhv          ic1          ic4        hvp1  \\\n",
       "count    4001.000000  3991.000000  4001.000000  4000.000000  4001.00000   \n",
       "mean    98945.902274  1157.329241   351.543364   444.628250    15.91852   \n",
       "std     58175.307614  1034.099416   168.422014   174.937777    28.81456   \n",
       "min        12.000000     0.000000     0.000000     0.000000     0.00000   \n",
       "25%     46153.000000   548.000000   239.000000   325.000000     0.00000   \n",
       "50%    101596.000000   801.000000   318.000000   410.000000     1.00000   \n",
       "75%    151653.000000  1349.000000   425.000000   528.000000    14.00000   \n",
       "max    191779.000000  5982.000000  1500.000000  1331.000000    99.00000   \n",
       "\n",
       "           percapita        pobc1        pobc2          ic2          ic3  \\\n",
       "count    3995.000000  4001.000000  4001.000000  4000.000000  4001.000000   \n",
       "mean    16455.588736     6.859535    55.467883   400.570750   399.765809   \n",
       "std      9453.265416     9.508799    21.500536   180.462807   164.767267   \n",
       "min         0.000000     0.000000     0.000000     0.000000     0.000000   \n",
       "25%     11137.500000     1.000000    41.000000   284.000000   287.000000   \n",
       "50%     14356.000000     4.000000    57.000000   366.000000   365.000000   \n",
       "75%     18778.500000     9.000000    73.000000   477.000000   479.000000   \n",
       "max    174523.000000    79.000000    99.000000  1500.000000  1311.000000   \n",
       "\n",
       "           avggift         tcode          dob     target_d  \n",
       "count  4001.000000   4001.000000  4001.000000  4001.000000  \n",
       "mean     11.781559     76.796551  2703.984754    15.656208  \n",
       "std      10.164747   1193.953285  2052.829565    12.692982  \n",
       "min       2.260870      0.000000     0.000000     1.000000  \n",
       "25%       7.181818      0.000000   609.000000    10.000000  \n",
       "50%      10.000000      1.000000  2612.000000    13.920000  \n",
       "75%      14.428571      2.000000  4401.000000    20.000000  \n",
       "max     450.000000  39002.000000  9310.000000   200.000000  "
      ]
     },
     "execution_count": 71,
     "metadata": {},
     "output_type": "execute_result"
    }
   ],
   "source": [
    "data.describe()"
   ]
  },
  {
   "cell_type": "code",
   "execution_count": 72,
   "id": "9716fd7e",
   "metadata": {},
   "outputs": [],
   "source": [
    "# fill in gender column with unknown \n",
    "data['gender']= data['gender'].fillna(\"Unknown\")"
   ]
  },
  {
   "cell_type": "code",
   "execution_count": 73,
   "id": "f7551855",
   "metadata": {},
   "outputs": [
    {
     "data": {
      "text/html": [
       "<div>\n",
       "<style scoped>\n",
       "    .dataframe tbody tr th:only-of-type {\n",
       "        vertical-align: middle;\n",
       "    }\n",
       "\n",
       "    .dataframe tbody tr th {\n",
       "        vertical-align: top;\n",
       "    }\n",
       "\n",
       "    .dataframe thead th {\n",
       "        text-align: right;\n",
       "    }\n",
       "</style>\n",
       "<table border=\"1\" class=\"dataframe\">\n",
       "  <thead>\n",
       "    <tr style=\"text-align: right;\">\n",
       "      <th></th>\n",
       "      <th>controln</th>\n",
       "      <th>state</th>\n",
       "      <th>gender</th>\n",
       "      <th>medianhv</th>\n",
       "      <th>ic1</th>\n",
       "      <th>ic4</th>\n",
       "      <th>hvp1</th>\n",
       "      <th>percapita</th>\n",
       "      <th>pobc1</th>\n",
       "      <th>pobc2</th>\n",
       "      <th>ic2</th>\n",
       "      <th>ic3</th>\n",
       "      <th>avggift</th>\n",
       "      <th>tcode</th>\n",
       "      <th>dob</th>\n",
       "      <th>domain</th>\n",
       "      <th>target_d</th>\n",
       "    </tr>\n",
       "  </thead>\n",
       "  <tbody>\n",
       "  </tbody>\n",
       "</table>\n",
       "</div>"
      ],
      "text/plain": [
       "Empty DataFrame\n",
       "Columns: [controln, state, gender, medianhv, ic1, ic4, hvp1, percapita, pobc1, pobc2, ic2, ic3, avggift, tcode, dob, domain, target_d]\n",
       "Index: []"
      ]
     },
     "execution_count": 73,
     "metadata": {},
     "output_type": "execute_result"
    }
   ],
   "source": [
    "#check the fill na worked \n",
    "data[data['gender'].isna()==True]"
   ]
  },
  {
   "cell_type": "code",
   "execution_count": 74,
   "id": "e68744ec",
   "metadata": {},
   "outputs": [],
   "source": [
    "#first calculate median of the column and set as a variable\n",
    "med_hv1=data['medianhv'].median()"
   ]
  },
  {
   "cell_type": "code",
   "execution_count": 75,
   "id": "6e1863fb",
   "metadata": {},
   "outputs": [],
   "source": [
    "data['medianhv']=data['medianhv'].fillna(med_hv1)"
   ]
  },
  {
   "cell_type": "code",
   "execution_count": 76,
   "id": "1dddd9c2",
   "metadata": {},
   "outputs": [
    {
     "name": "stdout",
     "output_type": "stream",
     "text": [
      "<class 'pandas.core.frame.DataFrame'>\n",
      "RangeIndex: 4001 entries, 0 to 4000\n",
      "Data columns (total 17 columns):\n",
      " #   Column     Non-Null Count  Dtype  \n",
      "---  ------     --------------  -----  \n",
      " 0   controln   4001 non-null   int64  \n",
      " 1   state      4001 non-null   object \n",
      " 2   gender     4001 non-null   object \n",
      " 3   medianhv   4001 non-null   float64\n",
      " 4   ic1        4001 non-null   int64  \n",
      " 5   ic4        4000 non-null   float64\n",
      " 6   hvp1       4001 non-null   int64  \n",
      " 7   percapita  3995 non-null   float64\n",
      " 8   pobc1      4001 non-null   int64  \n",
      " 9   pobc2      4001 non-null   int64  \n",
      " 10  ic2        4000 non-null   float64\n",
      " 11  ic3        4001 non-null   int64  \n",
      " 12  avggift    4001 non-null   float64\n",
      " 13  tcode      4001 non-null   int64  \n",
      " 14  dob        4001 non-null   int64  \n",
      " 15  domain     4001 non-null   object \n",
      " 16  target_d   4001 non-null   float64\n",
      "dtypes: float64(6), int64(8), object(3)\n",
      "memory usage: 531.5+ KB\n"
     ]
    }
   ],
   "source": [
    "data.info()"
   ]
  },
  {
   "cell_type": "code",
   "execution_count": 77,
   "id": "2efcc8e4",
   "metadata": {},
   "outputs": [],
   "source": [
    "data=data.dropna(subset=['percapita'])"
   ]
  },
  {
   "cell_type": "code",
   "execution_count": 78,
   "id": "934320a4",
   "metadata": {},
   "outputs": [],
   "source": [
    "data=data.dropna()"
   ]
  },
  {
   "cell_type": "code",
   "execution_count": 79,
   "id": "d14afb1c",
   "metadata": {},
   "outputs": [],
   "source": [
    "#after dropping nulls, lets reset the index \n",
    "data.reset_index(drop=True,inplace=True)"
   ]
  },
  {
   "cell_type": "code",
   "execution_count": 80,
   "id": "5810ce2d",
   "metadata": {},
   "outputs": [
    {
     "name": "stdout",
     "output_type": "stream",
     "text": [
      "<class 'pandas.core.frame.DataFrame'>\n",
      "RangeIndex: 3993 entries, 0 to 3992\n",
      "Data columns (total 17 columns):\n",
      " #   Column     Non-Null Count  Dtype  \n",
      "---  ------     --------------  -----  \n",
      " 0   controln   3993 non-null   int64  \n",
      " 1   state      3993 non-null   object \n",
      " 2   gender     3993 non-null   object \n",
      " 3   medianhv   3993 non-null   float64\n",
      " 4   ic1        3993 non-null   int64  \n",
      " 5   ic4        3993 non-null   float64\n",
      " 6   hvp1       3993 non-null   int64  \n",
      " 7   percapita  3993 non-null   float64\n",
      " 8   pobc1      3993 non-null   int64  \n",
      " 9   pobc2      3993 non-null   int64  \n",
      " 10  ic2        3993 non-null   float64\n",
      " 11  ic3        3993 non-null   int64  \n",
      " 12  avggift    3993 non-null   float64\n",
      " 13  tcode      3993 non-null   int64  \n",
      " 14  dob        3993 non-null   int64  \n",
      " 15  domain     3993 non-null   object \n",
      " 16  target_d   3993 non-null   float64\n",
      "dtypes: float64(6), int64(8), object(3)\n",
      "memory usage: 530.4+ KB\n"
     ]
    }
   ],
   "source": [
    "data.info()"
   ]
  },
  {
   "cell_type": "markdown",
   "id": "a12fbc26",
   "metadata": {},
   "source": [
    "## Data quality issues - standardise the values in... "
   ]
  },
  {
   "cell_type": "code",
   "execution_count": 81,
   "id": "8333df5c",
   "metadata": {},
   "outputs": [
    {
     "data": {
      "text/plain": [
       "array(['M', 'F', 'female', 'Male', 'Unknown', 'U', 'J', 'male', 'Female',\n",
       "       'feamale', 'A'], dtype=object)"
      ]
     },
     "execution_count": 81,
     "metadata": {},
     "output_type": "execute_result"
    }
   ],
   "source": [
    "# gender \n",
    "data['gender'].unique()"
   ]
  },
  {
   "cell_type": "code",
   "execution_count": 82,
   "id": "4538a920",
   "metadata": {},
   "outputs": [],
   "source": [
    "data['gender']=data['gender'].str.title()"
   ]
  },
  {
   "cell_type": "code",
   "execution_count": 83,
   "id": "6cfbf99e",
   "metadata": {},
   "outputs": [],
   "source": [
    "# case / if logical approach \n",
    "def clean_gender(x):\n",
    "    if x in['M','Male']:\n",
    "        return 'Male'\n",
    "    if x in['F','Female','Feamale']:\n",
    "        return 'Female'\n",
    "    else:\n",
    "        return 'Unknown'"
   ]
  },
  {
   "cell_type": "code",
   "execution_count": 84,
   "id": "ac0aa5f0",
   "metadata": {},
   "outputs": [],
   "source": [
    "# list + map \n",
    "data['gender']=list(map(clean_gender,data['gender']))"
   ]
  },
  {
   "cell_type": "code",
   "execution_count": 85,
   "id": "3cc68d96",
   "metadata": {},
   "outputs": [
    {
     "data": {
      "text/plain": [
       "array(['Male', 'Female', 'Unknown'], dtype=object)"
      ]
     },
     "execution_count": 85,
     "metadata": {},
     "output_type": "execute_result"
    }
   ],
   "source": [
    "data['gender'].unique()"
   ]
  },
  {
   "cell_type": "code",
   "execution_count": 86,
   "id": "023a9c1a",
   "metadata": {},
   "outputs": [],
   "source": [
    "data.to_csv('merged_healthcare.csv')"
   ]
  },
  {
   "cell_type": "code",
   "execution_count": null,
   "id": "6697290b",
   "metadata": {},
   "outputs": [],
   "source": []
  },
  {
   "cell_type": "markdown",
   "id": "a0a1e61f",
   "metadata": {},
   "source": [
    "## Lambda + list(map)- quick intro "
   ]
  },
  {
   "cell_type": "code",
   "execution_count": 87,
   "id": "49ce9687",
   "metadata": {},
   "outputs": [
    {
     "data": {
      "text/plain": [
       "202"
      ]
     },
     "execution_count": 87,
     "metadata": {},
     "output_type": "execute_result"
    }
   ],
   "source": [
    "# lambda is anonymous function- quick - but dont use if complex \n",
    "y= lambda x:x+2 \n",
    "y(200)"
   ]
  },
  {
   "cell_type": "code",
   "execution_count": 88,
   "id": "be32d349",
   "metadata": {},
   "outputs": [
    {
     "data": {
      "text/plain": [
       "8"
      ]
     },
     "execution_count": 88,
     "metadata": {},
     "output_type": "execute_result"
    }
   ],
   "source": [
    "adding= lambda x,y : x+y\n",
    "adding(5,3)"
   ]
  },
  {
   "cell_type": "code",
   "execution_count": 89,
   "id": "cff75d8d",
   "metadata": {},
   "outputs": [
    {
     "data": {
      "text/plain": [
       "<map at 0x7fb46ed8adc0>"
      ]
     },
     "execution_count": 89,
     "metadata": {},
     "output_type": "execute_result"
    }
   ],
   "source": [
    "# im using lambda to upper case a column \n",
    "map(lambda x : x.upper(),data['gender'])\n",
    "# - string , function , for loop, list comprehension "
   ]
  },
  {
   "cell_type": "code",
   "execution_count": 90,
   "id": "36136fc5",
   "metadata": {},
   "outputs": [],
   "source": [
    "# square lambda \n",
    "# square a series of numbers \n",
    "numb=[1,2,3,4,5,6]\n",
    "# apply map \n",
    "squared=list(map(lambda x:x*x,numb))\n",
    "# do the same with for loop or list comprehension \n",
    "squared2=[x*x for x in numb]"
   ]
  },
  {
   "cell_type": "code",
   "execution_count": 91,
   "id": "dc47e77c",
   "metadata": {},
   "outputs": [
    {
     "data": {
      "text/plain": [
       "[1, 4, 9, 16, 25, 36]"
      ]
     },
     "execution_count": 91,
     "metadata": {},
     "output_type": "execute_result"
    }
   ],
   "source": [
    "squared2"
   ]
  },
  {
   "cell_type": "markdown",
   "id": "56db42d1",
   "metadata": {},
   "source": [
    "## Date and  time "
   ]
  },
  {
   "cell_type": "code",
   "execution_count": 92,
   "id": "a40e1a9d",
   "metadata": {},
   "outputs": [
    {
     "data": {
      "text/plain": [
       "array([1901,    0, 2501, 2208, 6104, 4407, 1801, 5401, 3401, 2801, 5102,\n",
       "       2701, 6501, 2301, 5410, 4304, 4406, 6105, 2401, 5001, 4806, 2601,\n",
       "       2201, 3201, 3701, 2105, 2101, 3901, 4201, 5201, 4903, 3705, 1501,\n",
       "       5811, 1401, 6601, 4001, 3912, 5601, 1108, 1701, 4401, 1201, 1412,\n",
       "       6312, 7201, 3801, 4608, 4103, 2009, 1708, 2607, 2710, 3601, 3501,\n",
       "       5908, 2805, 2911, 1704, 6201, 5902, 8305,  609, 3001, 5403,  801,\n",
       "       2901, 6001, 4804, 4801, 2001,  905, 4301, 7001, 3602,  901, 4601,\n",
       "       4812, 4701, 2002, 3204, 4905, 5609, 5701, 2808,  201, 2005, 1601,\n",
       "       4101, 5309, 4309, 3101, 2505, 2709, 2006, 4007, 2303, 1306, 1301,\n",
       "       4008, 2109,  701, 2512, 3308, 6008, 5801, 2212,  505, 6401, 6509,\n",
       "       3504, 3306, 4703, 2809, 1911, 4507, 4811, 5304, 5101, 2112, 1802,\n",
       "       6209, 2608, 3609, 3301, 4308,  810, 2207, 2305, 3905, 4212, 4501,\n",
       "       4405, 1509, 1404, 3203, 5204, 2910, 3603, 4011, 2412, 4802, 2308,\n",
       "       1803, 3410, 4306, 5305, 1909, 6102, 5208, 3803, 7501, 5406, 2108,\n",
       "       1511, 4709,  509, 4409,  912, 3605, 3411, 3307,  709, 4311, 2504,\n",
       "       4412, 5901, 6801, 1804, 5810, 5602, 1604, 1504, 2604,  904, 5501,\n",
       "       5301, 1908, 3707, 4808,  605, 6101, 1402, 1809,  604, 4307, 2912,\n",
       "       1211, 5111, 2309, 3811, 6609, 6206, 3407, 1312, 2812, 3704, 5502,\n",
       "        703, 1902, 5306, 2605, 4704, 2008, 3911, 3503, 3505, 3709, 1602,\n",
       "       5508, 5711, 7308, 3304, 4005, 4901, 3408, 6410,  903, 2007, 4012,\n",
       "       5003, 2708, 5307, 1503, 4612, 3312, 2211, 3908, 3102, 3703, 1202,\n",
       "       4610, 4204, 3106, 1307, 3108, 3104, 2410, 1907, 3902, 4605, 1212,\n",
       "       1001, 1705, 3510, 2307, 1101, 2802, 5212, 1305, 1502, 1403, 1308,\n",
       "       5712, 2609, 4104, 4510, 1906, 3611, 1111,  803, 1712, 3909, 1004,\n",
       "       5106, 5010, 2606, 2612, 5209, 2810, 2707, 4908, 4909, 1508, 3208,\n",
       "       2703, 5807, 1008,  501, 2712, 5612, 4411, 6901, 1811, 5002, 2205,\n",
       "       4404, 1406, 1603, 4208, 5107, 1808, 4410, 4912, 2702, 3910, 1709,\n",
       "        402, 2104, 1007, 3008,  607, 5707, 6506, 3906, 5511, 4402, 3011,\n",
       "       5009, 1407, 2209, 5308, 2003, 4207, 4809, 4505, 6701, 5302, 5408,\n",
       "       3305, 2908, 5008, 4303, 1208, 4107, 4911, 1610, 4403, 3805, 3207,\n",
       "       5207, 1711, 1103, 7102,  403, 3711, 4106, 2106, 1612, 5411, 2210,\n",
       "       3802, 1710, 7401, 5610,    1, 1105, 3508, 2506, 5109, 1805, 6301,\n",
       "       4805, 4202, 4210, 4108, 2705, 2503,  804, 2804, 4009, 3202, 1605,\n",
       "       1703, 6112, 1110, 3604, 1606, 2403, 1507, 2407, 2111, 5203, 7101,\n",
       "       4711, 4607, 7107, 5103, 6508, 2811, 3109, 2302, 1311, 2310, 6002,\n",
       "       1012, 2312, 6006, 2807, 4511, 3110, 1706, 6606, 6302, 1409,  401,\n",
       "        805, 6009, 7012, 3804, 3607, 3402,  907, 2406, 4707, 4206, 9310,\n",
       "       4810, 1112, 5805, 3511, 5104, 2806, 5005, 6408, 3005, 4710, 7701,\n",
       "       2102, 2711, 5311, 4602, 3003, 1209, 1707, 2203, 7309, 3512, 3004,\n",
       "       5011,  606, 6607, 3606, 4803,  601,  508, 3710, 4102, 4112, 5708,\n",
       "       2903, 1002, 3209, 2010, 1912, 6703, 6702, 3007, 5503, 4606, 2905,\n",
       "       2004, 2107, 2610, 6611, 2706, 5507, 4004, 3009, 3212, 3405, 2306,\n",
       "       3210, 2103, 3103, 1607, 5509, 2509, 2411, 1302, 1506, 3002, 5303,\n",
       "       3205, 2206, 3302, 5206, 2202, 2906,  710, 1104, 1107, 4508, 3509,\n",
       "       3506, 2402, 5211, 2409, 2408, 4506, 1102,  301, 5007, 2311, 5704,\n",
       "        608, 6707, 3610, 5703,  811, 6007, 5312, 1807, 1905,  610, 1702,\n",
       "       2204, 1411, 3808, 6909, 1408, 1812, 5706, 4408, 4105, 4702, 6108,\n",
       "       8103, 5210, 3311, 1505,  702, 4503, 2011, 5510, 3712, 4310, 1006,\n",
       "       4010, 2611, 1512, 6203, 4305, 4906, 5806, 3211, 4604, 4706, 5912,\n",
       "       5702, 5611, 5904, 2603, 2304, 5110, 1410, 4603, 7004, 3903, 2404,\n",
       "        103, 3310, 1608, 3111, 4003,  906, 3012, 2909, 6812, 6005, 3507,\n",
       "       5809, 3006,  712, 3107, 5108, 2511, 1303, 4002, 2502, 5205, 3810,\n",
       "       2507, 6311, 1910, 1309, 5504, 4609, 2904, 1904, 7301, 8108, 4611,\n",
       "       6111, 5603, 6409,  602, 5412, 6011, 1806, 2602, 1010, 5804, 5512,\n",
       "       2907, 4504, 7801, 5608, 5404, 2704, 6110, 1203, 1009,  807,  603,\n",
       "       5407, 6910, 6511, 7006, 2510, 5405, 6210, 3608, 6212,  808, 3807,\n",
       "       1304, 3404, 1609, 4907, 1810, 5112, 6411,  405])"
      ]
     },
     "execution_count": 92,
     "metadata": {},
     "output_type": "execute_result"
    }
   ],
   "source": [
    "# dob field is strange \n",
    "data['dob'].unique()"
   ]
  },
  {
   "cell_type": "markdown",
   "id": "7bd11583",
   "metadata": {},
   "source": [
    "## using air quality data set for this section so we have some dates"
   ]
  },
  {
   "cell_type": "code",
   "execution_count": 93,
   "id": "3224afbf",
   "metadata": {},
   "outputs": [],
   "source": [
    "#bring in new libraries\n",
    "import time \n",
    "from datetime import date "
   ]
  },
  {
   "cell_type": "code",
   "execution_count": 94,
   "id": "01281500",
   "metadata": {},
   "outputs": [],
   "source": [
    "df=pd.read_csv('data for class/air_quality_no2_long.csv')"
   ]
  },
  {
   "cell_type": "code",
   "execution_count": 95,
   "id": "a2742faf",
   "metadata": {},
   "outputs": [
    {
     "name": "stdout",
     "output_type": "stream",
     "text": [
      "Github-WorkFlow-Tips-Crunchify-Tips.png H4A_analysis_part3.ipynb\r\n",
      "H4A_analysis_1-inprogress.ipynb         \u001b[34mdata for class\u001b[m\u001b[m\r\n",
      "H4A_analysis_1-inprogress2.ipynb        data for class.zip\r\n",
      "H4A_analysis_1.ipynb                    merged_healthcare.csv\r\n",
      "H4A_analysis_2-inprogress.ipynb         my_notebook.ipynb\r\n",
      "H4A_analysis_2-inprogress2.ipynb        pandas intro with annotation.ipynb\r\n",
      "H4A_analysis_3.ipynb                    sians notebook demo.ipynb\r\n"
     ]
    }
   ],
   "source": [
    "!ls"
   ]
  },
  {
   "cell_type": "code",
   "execution_count": 96,
   "id": "a809a65f",
   "metadata": {},
   "outputs": [
    {
     "name": "stdout",
     "output_type": "stream",
     "text": [
      "/Users/siandavies/Documents/working/Jan22/data for class\n"
     ]
    }
   ],
   "source": [
    "cd 'data for class'"
   ]
  },
  {
   "cell_type": "code",
   "execution_count": 97,
   "id": "61294811",
   "metadata": {},
   "outputs": [
    {
     "name": "stdout",
     "output_type": "stream",
     "text": [
      "air_quality_no2_long.csv file1.csv                file3.xlsx\r\n",
      "day1_analysis_H4A.csv    file2.txt                file4.xlsx\r\n"
     ]
    }
   ],
   "source": [
    "!ls"
   ]
  },
  {
   "cell_type": "code",
   "execution_count": 98,
   "id": "c30b3078",
   "metadata": {},
   "outputs": [
    {
     "name": "stdout",
     "output_type": "stream",
     "text": [
      "/Users/siandavies/Documents/working/Jan22\n"
     ]
    }
   ],
   "source": [
    "cd .. "
   ]
  },
  {
   "cell_type": "code",
   "execution_count": 99,
   "id": "ff40c67c",
   "metadata": {},
   "outputs": [
    {
     "data": {
      "text/html": [
       "<div>\n",
       "<style scoped>\n",
       "    .dataframe tbody tr th:only-of-type {\n",
       "        vertical-align: middle;\n",
       "    }\n",
       "\n",
       "    .dataframe tbody tr th {\n",
       "        vertical-align: top;\n",
       "    }\n",
       "\n",
       "    .dataframe thead th {\n",
       "        text-align: right;\n",
       "    }\n",
       "</style>\n",
       "<table border=\"1\" class=\"dataframe\">\n",
       "  <thead>\n",
       "    <tr style=\"text-align: right;\">\n",
       "      <th></th>\n",
       "      <th>city</th>\n",
       "      <th>country</th>\n",
       "      <th>date.utc</th>\n",
       "      <th>location</th>\n",
       "      <th>parameter</th>\n",
       "      <th>value</th>\n",
       "      <th>unit</th>\n",
       "    </tr>\n",
       "  </thead>\n",
       "  <tbody>\n",
       "    <tr>\n",
       "      <th>0</th>\n",
       "      <td>Paris</td>\n",
       "      <td>FR</td>\n",
       "      <td>2019-06-21 00:00:00+00:00</td>\n",
       "      <td>FR04014</td>\n",
       "      <td>no2</td>\n",
       "      <td>20.0</td>\n",
       "      <td>µg/m³</td>\n",
       "    </tr>\n",
       "    <tr>\n",
       "      <th>1</th>\n",
       "      <td>Paris</td>\n",
       "      <td>FR</td>\n",
       "      <td>2019-06-20 23:00:00+00:00</td>\n",
       "      <td>FR04014</td>\n",
       "      <td>no2</td>\n",
       "      <td>21.8</td>\n",
       "      <td>µg/m³</td>\n",
       "    </tr>\n",
       "    <tr>\n",
       "      <th>2</th>\n",
       "      <td>Paris</td>\n",
       "      <td>FR</td>\n",
       "      <td>2019-06-20 22:00:00+00:00</td>\n",
       "      <td>FR04014</td>\n",
       "      <td>no2</td>\n",
       "      <td>26.5</td>\n",
       "      <td>µg/m³</td>\n",
       "    </tr>\n",
       "    <tr>\n",
       "      <th>3</th>\n",
       "      <td>Paris</td>\n",
       "      <td>FR</td>\n",
       "      <td>2019-06-20 21:00:00+00:00</td>\n",
       "      <td>FR04014</td>\n",
       "      <td>no2</td>\n",
       "      <td>24.9</td>\n",
       "      <td>µg/m³</td>\n",
       "    </tr>\n",
       "    <tr>\n",
       "      <th>4</th>\n",
       "      <td>Paris</td>\n",
       "      <td>FR</td>\n",
       "      <td>2019-06-20 20:00:00+00:00</td>\n",
       "      <td>FR04014</td>\n",
       "      <td>no2</td>\n",
       "      <td>21.4</td>\n",
       "      <td>µg/m³</td>\n",
       "    </tr>\n",
       "  </tbody>\n",
       "</table>\n",
       "</div>"
      ],
      "text/plain": [
       "    city country                   date.utc location parameter  value   unit\n",
       "0  Paris      FR  2019-06-21 00:00:00+00:00  FR04014       no2   20.0  µg/m³\n",
       "1  Paris      FR  2019-06-20 23:00:00+00:00  FR04014       no2   21.8  µg/m³\n",
       "2  Paris      FR  2019-06-20 22:00:00+00:00  FR04014       no2   26.5  µg/m³\n",
       "3  Paris      FR  2019-06-20 21:00:00+00:00  FR04014       no2   24.9  µg/m³\n",
       "4  Paris      FR  2019-06-20 20:00:00+00:00  FR04014       no2   21.4  µg/m³"
      ]
     },
     "execution_count": 99,
     "metadata": {},
     "output_type": "execute_result"
    }
   ],
   "source": [
    "df.head()"
   ]
  },
  {
   "cell_type": "code",
   "execution_count": 100,
   "id": "725106e4",
   "metadata": {
    "scrolled": true
   },
   "outputs": [
    {
     "name": "stdout",
     "output_type": "stream",
     "text": [
      "<class 'pandas.core.frame.DataFrame'>\n",
      "RangeIndex: 2068 entries, 0 to 2067\n",
      "Data columns (total 7 columns):\n",
      " #   Column     Non-Null Count  Dtype  \n",
      "---  ------     --------------  -----  \n",
      " 0   city       2068 non-null   object \n",
      " 1   country    2068 non-null   object \n",
      " 2   date.utc   2068 non-null   object \n",
      " 3   location   2068 non-null   object \n",
      " 4   parameter  2068 non-null   object \n",
      " 5   value      2068 non-null   float64\n",
      " 6   unit       2068 non-null   object \n",
      "dtypes: float64(1), object(6)\n",
      "memory usage: 113.2+ KB\n"
     ]
    }
   ],
   "source": [
    "df.info()"
   ]
  },
  {
   "cell_type": "code",
   "execution_count": 101,
   "id": "712334e1",
   "metadata": {},
   "outputs": [
    {
     "name": "stdout",
     "output_type": "stream",
     "text": [
      "<class 'pandas.core.frame.DataFrame'>\n",
      "RangeIndex: 2068 entries, 0 to 2067\n",
      "Data columns (total 7 columns):\n",
      " #   Column     Non-Null Count  Dtype              \n",
      "---  ------     --------------  -----              \n",
      " 0   city       2068 non-null   object             \n",
      " 1   country    2068 non-null   object             \n",
      " 2   date.utc   2068 non-null   datetime64[ns, UTC]\n",
      " 3   location   2068 non-null   object             \n",
      " 4   parameter  2068 non-null   object             \n",
      " 5   value      2068 non-null   float64            \n",
      " 6   unit       2068 non-null   object             \n",
      "dtypes: datetime64[ns, UTC](1), float64(1), object(5)\n",
      "memory usage: 113.2+ KB\n"
     ]
    }
   ],
   "source": [
    "# parse utc date field into DATE TYPE \n",
    "df['date.utc']=pd.to_datetime(df['date.utc'],errors='coerce')\n",
    "df.info()"
   ]
  },
  {
   "cell_type": "code",
   "execution_count": 102,
   "id": "f8fee4c1",
   "metadata": {},
   "outputs": [],
   "source": [
    "# isolate parts of the date - pull out day, month, hour ...\n",
    "# in this case number of weekday \n",
    "df['weekday']=pd.DatetimeIndex(df['date.utc']).weekday"
   ]
  },
  {
   "cell_type": "code",
   "execution_count": 103,
   "id": "506d7ec4",
   "metadata": {},
   "outputs": [
    {
     "data": {
      "text/html": [
       "<div>\n",
       "<style scoped>\n",
       "    .dataframe tbody tr th:only-of-type {\n",
       "        vertical-align: middle;\n",
       "    }\n",
       "\n",
       "    .dataframe tbody tr th {\n",
       "        vertical-align: top;\n",
       "    }\n",
       "\n",
       "    .dataframe thead th {\n",
       "        text-align: right;\n",
       "    }\n",
       "</style>\n",
       "<table border=\"1\" class=\"dataframe\">\n",
       "  <thead>\n",
       "    <tr style=\"text-align: right;\">\n",
       "      <th></th>\n",
       "      <th>city</th>\n",
       "      <th>country</th>\n",
       "      <th>date.utc</th>\n",
       "      <th>location</th>\n",
       "      <th>parameter</th>\n",
       "      <th>value</th>\n",
       "      <th>unit</th>\n",
       "      <th>weekday</th>\n",
       "    </tr>\n",
       "  </thead>\n",
       "  <tbody>\n",
       "    <tr>\n",
       "      <th>0</th>\n",
       "      <td>Paris</td>\n",
       "      <td>FR</td>\n",
       "      <td>2019-06-21 00:00:00+00:00</td>\n",
       "      <td>FR04014</td>\n",
       "      <td>no2</td>\n",
       "      <td>20.0</td>\n",
       "      <td>µg/m³</td>\n",
       "      <td>4</td>\n",
       "    </tr>\n",
       "    <tr>\n",
       "      <th>1</th>\n",
       "      <td>Paris</td>\n",
       "      <td>FR</td>\n",
       "      <td>2019-06-20 23:00:00+00:00</td>\n",
       "      <td>FR04014</td>\n",
       "      <td>no2</td>\n",
       "      <td>21.8</td>\n",
       "      <td>µg/m³</td>\n",
       "      <td>3</td>\n",
       "    </tr>\n",
       "    <tr>\n",
       "      <th>2</th>\n",
       "      <td>Paris</td>\n",
       "      <td>FR</td>\n",
       "      <td>2019-06-20 22:00:00+00:00</td>\n",
       "      <td>FR04014</td>\n",
       "      <td>no2</td>\n",
       "      <td>26.5</td>\n",
       "      <td>µg/m³</td>\n",
       "      <td>3</td>\n",
       "    </tr>\n",
       "    <tr>\n",
       "      <th>3</th>\n",
       "      <td>Paris</td>\n",
       "      <td>FR</td>\n",
       "      <td>2019-06-20 21:00:00+00:00</td>\n",
       "      <td>FR04014</td>\n",
       "      <td>no2</td>\n",
       "      <td>24.9</td>\n",
       "      <td>µg/m³</td>\n",
       "      <td>3</td>\n",
       "    </tr>\n",
       "    <tr>\n",
       "      <th>4</th>\n",
       "      <td>Paris</td>\n",
       "      <td>FR</td>\n",
       "      <td>2019-06-20 20:00:00+00:00</td>\n",
       "      <td>FR04014</td>\n",
       "      <td>no2</td>\n",
       "      <td>21.4</td>\n",
       "      <td>µg/m³</td>\n",
       "      <td>3</td>\n",
       "    </tr>\n",
       "    <tr>\n",
       "      <th>5</th>\n",
       "      <td>Paris</td>\n",
       "      <td>FR</td>\n",
       "      <td>2019-06-20 19:00:00+00:00</td>\n",
       "      <td>FR04014</td>\n",
       "      <td>no2</td>\n",
       "      <td>25.3</td>\n",
       "      <td>µg/m³</td>\n",
       "      <td>3</td>\n",
       "    </tr>\n",
       "    <tr>\n",
       "      <th>6</th>\n",
       "      <td>Paris</td>\n",
       "      <td>FR</td>\n",
       "      <td>2019-06-20 18:00:00+00:00</td>\n",
       "      <td>FR04014</td>\n",
       "      <td>no2</td>\n",
       "      <td>23.9</td>\n",
       "      <td>µg/m³</td>\n",
       "      <td>3</td>\n",
       "    </tr>\n",
       "    <tr>\n",
       "      <th>7</th>\n",
       "      <td>Paris</td>\n",
       "      <td>FR</td>\n",
       "      <td>2019-06-20 17:00:00+00:00</td>\n",
       "      <td>FR04014</td>\n",
       "      <td>no2</td>\n",
       "      <td>23.2</td>\n",
       "      <td>µg/m³</td>\n",
       "      <td>3</td>\n",
       "    </tr>\n",
       "    <tr>\n",
       "      <th>8</th>\n",
       "      <td>Paris</td>\n",
       "      <td>FR</td>\n",
       "      <td>2019-06-20 16:00:00+00:00</td>\n",
       "      <td>FR04014</td>\n",
       "      <td>no2</td>\n",
       "      <td>19.0</td>\n",
       "      <td>µg/m³</td>\n",
       "      <td>3</td>\n",
       "    </tr>\n",
       "    <tr>\n",
       "      <th>9</th>\n",
       "      <td>Paris</td>\n",
       "      <td>FR</td>\n",
       "      <td>2019-06-20 15:00:00+00:00</td>\n",
       "      <td>FR04014</td>\n",
       "      <td>no2</td>\n",
       "      <td>19.3</td>\n",
       "      <td>µg/m³</td>\n",
       "      <td>3</td>\n",
       "    </tr>\n",
       "    <tr>\n",
       "      <th>10</th>\n",
       "      <td>Paris</td>\n",
       "      <td>FR</td>\n",
       "      <td>2019-06-20 14:00:00+00:00</td>\n",
       "      <td>FR04014</td>\n",
       "      <td>no2</td>\n",
       "      <td>20.1</td>\n",
       "      <td>µg/m³</td>\n",
       "      <td>3</td>\n",
       "    </tr>\n",
       "    <tr>\n",
       "      <th>11</th>\n",
       "      <td>Paris</td>\n",
       "      <td>FR</td>\n",
       "      <td>2019-06-20 13:00:00+00:00</td>\n",
       "      <td>FR04014</td>\n",
       "      <td>no2</td>\n",
       "      <td>19.4</td>\n",
       "      <td>µg/m³</td>\n",
       "      <td>3</td>\n",
       "    </tr>\n",
       "    <tr>\n",
       "      <th>12</th>\n",
       "      <td>Paris</td>\n",
       "      <td>FR</td>\n",
       "      <td>2019-06-19 10:00:00+00:00</td>\n",
       "      <td>FR04014</td>\n",
       "      <td>no2</td>\n",
       "      <td>26.6</td>\n",
       "      <td>µg/m³</td>\n",
       "      <td>2</td>\n",
       "    </tr>\n",
       "    <tr>\n",
       "      <th>13</th>\n",
       "      <td>Paris</td>\n",
       "      <td>FR</td>\n",
       "      <td>2019-06-19 09:00:00+00:00</td>\n",
       "      <td>FR04014</td>\n",
       "      <td>no2</td>\n",
       "      <td>27.3</td>\n",
       "      <td>µg/m³</td>\n",
       "      <td>2</td>\n",
       "    </tr>\n",
       "    <tr>\n",
       "      <th>14</th>\n",
       "      <td>Paris</td>\n",
       "      <td>FR</td>\n",
       "      <td>2019-06-18 22:00:00+00:00</td>\n",
       "      <td>FR04014</td>\n",
       "      <td>no2</td>\n",
       "      <td>39.3</td>\n",
       "      <td>µg/m³</td>\n",
       "      <td>1</td>\n",
       "    </tr>\n",
       "    <tr>\n",
       "      <th>15</th>\n",
       "      <td>Paris</td>\n",
       "      <td>FR</td>\n",
       "      <td>2019-06-18 21:00:00+00:00</td>\n",
       "      <td>FR04014</td>\n",
       "      <td>no2</td>\n",
       "      <td>23.1</td>\n",
       "      <td>µg/m³</td>\n",
       "      <td>1</td>\n",
       "    </tr>\n",
       "    <tr>\n",
       "      <th>16</th>\n",
       "      <td>Paris</td>\n",
       "      <td>FR</td>\n",
       "      <td>2019-06-18 20:00:00+00:00</td>\n",
       "      <td>FR04014</td>\n",
       "      <td>no2</td>\n",
       "      <td>17.0</td>\n",
       "      <td>µg/m³</td>\n",
       "      <td>1</td>\n",
       "    </tr>\n",
       "    <tr>\n",
       "      <th>17</th>\n",
       "      <td>Paris</td>\n",
       "      <td>FR</td>\n",
       "      <td>2019-06-18 19:00:00+00:00</td>\n",
       "      <td>FR04014</td>\n",
       "      <td>no2</td>\n",
       "      <td>15.3</td>\n",
       "      <td>µg/m³</td>\n",
       "      <td>1</td>\n",
       "    </tr>\n",
       "    <tr>\n",
       "      <th>18</th>\n",
       "      <td>Paris</td>\n",
       "      <td>FR</td>\n",
       "      <td>2019-06-18 08:00:00+00:00</td>\n",
       "      <td>FR04014</td>\n",
       "      <td>no2</td>\n",
       "      <td>49.6</td>\n",
       "      <td>µg/m³</td>\n",
       "      <td>1</td>\n",
       "    </tr>\n",
       "    <tr>\n",
       "      <th>19</th>\n",
       "      <td>Paris</td>\n",
       "      <td>FR</td>\n",
       "      <td>2019-06-18 07:00:00+00:00</td>\n",
       "      <td>FR04014</td>\n",
       "      <td>no2</td>\n",
       "      <td>52.6</td>\n",
       "      <td>µg/m³</td>\n",
       "      <td>1</td>\n",
       "    </tr>\n",
       "  </tbody>\n",
       "</table>\n",
       "</div>"
      ],
      "text/plain": [
       "     city country                  date.utc location parameter  value   unit  \\\n",
       "0   Paris      FR 2019-06-21 00:00:00+00:00  FR04014       no2   20.0  µg/m³   \n",
       "1   Paris      FR 2019-06-20 23:00:00+00:00  FR04014       no2   21.8  µg/m³   \n",
       "2   Paris      FR 2019-06-20 22:00:00+00:00  FR04014       no2   26.5  µg/m³   \n",
       "3   Paris      FR 2019-06-20 21:00:00+00:00  FR04014       no2   24.9  µg/m³   \n",
       "4   Paris      FR 2019-06-20 20:00:00+00:00  FR04014       no2   21.4  µg/m³   \n",
       "5   Paris      FR 2019-06-20 19:00:00+00:00  FR04014       no2   25.3  µg/m³   \n",
       "6   Paris      FR 2019-06-20 18:00:00+00:00  FR04014       no2   23.9  µg/m³   \n",
       "7   Paris      FR 2019-06-20 17:00:00+00:00  FR04014       no2   23.2  µg/m³   \n",
       "8   Paris      FR 2019-06-20 16:00:00+00:00  FR04014       no2   19.0  µg/m³   \n",
       "9   Paris      FR 2019-06-20 15:00:00+00:00  FR04014       no2   19.3  µg/m³   \n",
       "10  Paris      FR 2019-06-20 14:00:00+00:00  FR04014       no2   20.1  µg/m³   \n",
       "11  Paris      FR 2019-06-20 13:00:00+00:00  FR04014       no2   19.4  µg/m³   \n",
       "12  Paris      FR 2019-06-19 10:00:00+00:00  FR04014       no2   26.6  µg/m³   \n",
       "13  Paris      FR 2019-06-19 09:00:00+00:00  FR04014       no2   27.3  µg/m³   \n",
       "14  Paris      FR 2019-06-18 22:00:00+00:00  FR04014       no2   39.3  µg/m³   \n",
       "15  Paris      FR 2019-06-18 21:00:00+00:00  FR04014       no2   23.1  µg/m³   \n",
       "16  Paris      FR 2019-06-18 20:00:00+00:00  FR04014       no2   17.0  µg/m³   \n",
       "17  Paris      FR 2019-06-18 19:00:00+00:00  FR04014       no2   15.3  µg/m³   \n",
       "18  Paris      FR 2019-06-18 08:00:00+00:00  FR04014       no2   49.6  µg/m³   \n",
       "19  Paris      FR 2019-06-18 07:00:00+00:00  FR04014       no2   52.6  µg/m³   \n",
       "\n",
       "    weekday  \n",
       "0         4  \n",
       "1         3  \n",
       "2         3  \n",
       "3         3  \n",
       "4         3  \n",
       "5         3  \n",
       "6         3  \n",
       "7         3  \n",
       "8         3  \n",
       "9         3  \n",
       "10        3  \n",
       "11        3  \n",
       "12        2  \n",
       "13        2  \n",
       "14        1  \n",
       "15        1  \n",
       "16        1  \n",
       "17        1  \n",
       "18        1  \n",
       "19        1  "
      ]
     },
     "execution_count": 103,
     "metadata": {},
     "output_type": "execute_result"
    }
   ],
   "source": [
    "df.head(20)"
   ]
  },
  {
   "cell_type": "code",
   "execution_count": 104,
   "id": "4faa5c3a",
   "metadata": {},
   "outputs": [],
   "source": [
    "#or use date time str functions to get name of weekday \n",
    "df['weekday']=df['date.utc'].dt.strftime('%a')"
   ]
  },
  {
   "cell_type": "code",
   "execution_count": 105,
   "id": "55bdf89e",
   "metadata": {},
   "outputs": [],
   "source": [
    "## create 2 new columns for date (without the time) and for hour (without the date)\n",
    "\n",
    "# date without hour\n",
    "df['date']=df['date.utc'].dt.strftime('%Y%m%d')\n",
    "#option 2\n",
    "df['date2']=pd.DatetimeIndex(df['date.utc']).date\n",
    "\n",
    "#hour without date\n",
    "df['hourofday']=df['date.utc'].dt.strftime('%H')\n",
    "#option 2\n",
    "df['hourofday2']=pd.DatetimeIndex(df['date.utc']).hour"
   ]
  },
  {
   "cell_type": "code",
   "execution_count": 106,
   "id": "e9ddec7e",
   "metadata": {},
   "outputs": [
    {
     "data": {
      "text/html": [
       "<div>\n",
       "<style scoped>\n",
       "    .dataframe tbody tr th:only-of-type {\n",
       "        vertical-align: middle;\n",
       "    }\n",
       "\n",
       "    .dataframe tbody tr th {\n",
       "        vertical-align: top;\n",
       "    }\n",
       "\n",
       "    .dataframe thead th {\n",
       "        text-align: right;\n",
       "    }\n",
       "</style>\n",
       "<table border=\"1\" class=\"dataframe\">\n",
       "  <thead>\n",
       "    <tr style=\"text-align: right;\">\n",
       "      <th></th>\n",
       "      <th>city</th>\n",
       "      <th>country</th>\n",
       "      <th>date.utc</th>\n",
       "      <th>location</th>\n",
       "      <th>parameter</th>\n",
       "      <th>value</th>\n",
       "      <th>unit</th>\n",
       "      <th>weekday</th>\n",
       "      <th>date</th>\n",
       "      <th>date2</th>\n",
       "      <th>hourofday</th>\n",
       "      <th>hourofday2</th>\n",
       "    </tr>\n",
       "  </thead>\n",
       "  <tbody>\n",
       "    <tr>\n",
       "      <th>0</th>\n",
       "      <td>Paris</td>\n",
       "      <td>FR</td>\n",
       "      <td>2019-06-21 00:00:00+00:00</td>\n",
       "      <td>FR04014</td>\n",
       "      <td>no2</td>\n",
       "      <td>20.0</td>\n",
       "      <td>µg/m³</td>\n",
       "      <td>Fri</td>\n",
       "      <td>20190621</td>\n",
       "      <td>2019-06-21</td>\n",
       "      <td>00</td>\n",
       "      <td>0</td>\n",
       "    </tr>\n",
       "    <tr>\n",
       "      <th>1</th>\n",
       "      <td>Paris</td>\n",
       "      <td>FR</td>\n",
       "      <td>2019-06-20 23:00:00+00:00</td>\n",
       "      <td>FR04014</td>\n",
       "      <td>no2</td>\n",
       "      <td>21.8</td>\n",
       "      <td>µg/m³</td>\n",
       "      <td>Thu</td>\n",
       "      <td>20190620</td>\n",
       "      <td>2019-06-20</td>\n",
       "      <td>23</td>\n",
       "      <td>23</td>\n",
       "    </tr>\n",
       "    <tr>\n",
       "      <th>2</th>\n",
       "      <td>Paris</td>\n",
       "      <td>FR</td>\n",
       "      <td>2019-06-20 22:00:00+00:00</td>\n",
       "      <td>FR04014</td>\n",
       "      <td>no2</td>\n",
       "      <td>26.5</td>\n",
       "      <td>µg/m³</td>\n",
       "      <td>Thu</td>\n",
       "      <td>20190620</td>\n",
       "      <td>2019-06-20</td>\n",
       "      <td>22</td>\n",
       "      <td>22</td>\n",
       "    </tr>\n",
       "    <tr>\n",
       "      <th>3</th>\n",
       "      <td>Paris</td>\n",
       "      <td>FR</td>\n",
       "      <td>2019-06-20 21:00:00+00:00</td>\n",
       "      <td>FR04014</td>\n",
       "      <td>no2</td>\n",
       "      <td>24.9</td>\n",
       "      <td>µg/m³</td>\n",
       "      <td>Thu</td>\n",
       "      <td>20190620</td>\n",
       "      <td>2019-06-20</td>\n",
       "      <td>21</td>\n",
       "      <td>21</td>\n",
       "    </tr>\n",
       "    <tr>\n",
       "      <th>4</th>\n",
       "      <td>Paris</td>\n",
       "      <td>FR</td>\n",
       "      <td>2019-06-20 20:00:00+00:00</td>\n",
       "      <td>FR04014</td>\n",
       "      <td>no2</td>\n",
       "      <td>21.4</td>\n",
       "      <td>µg/m³</td>\n",
       "      <td>Thu</td>\n",
       "      <td>20190620</td>\n",
       "      <td>2019-06-20</td>\n",
       "      <td>20</td>\n",
       "      <td>20</td>\n",
       "    </tr>\n",
       "  </tbody>\n",
       "</table>\n",
       "</div>"
      ],
      "text/plain": [
       "    city country                  date.utc location parameter  value   unit  \\\n",
       "0  Paris      FR 2019-06-21 00:00:00+00:00  FR04014       no2   20.0  µg/m³   \n",
       "1  Paris      FR 2019-06-20 23:00:00+00:00  FR04014       no2   21.8  µg/m³   \n",
       "2  Paris      FR 2019-06-20 22:00:00+00:00  FR04014       no2   26.5  µg/m³   \n",
       "3  Paris      FR 2019-06-20 21:00:00+00:00  FR04014       no2   24.9  µg/m³   \n",
       "4  Paris      FR 2019-06-20 20:00:00+00:00  FR04014       no2   21.4  µg/m³   \n",
       "\n",
       "  weekday      date       date2 hourofday  hourofday2  \n",
       "0     Fri  20190621  2019-06-21        00           0  \n",
       "1     Thu  20190620  2019-06-20        23          23  \n",
       "2     Thu  20190620  2019-06-20        22          22  \n",
       "3     Thu  20190620  2019-06-20        21          21  \n",
       "4     Thu  20190620  2019-06-20        20          20  "
      ]
     },
     "execution_count": 106,
     "metadata": {},
     "output_type": "execute_result"
    }
   ],
   "source": [
    "df.head()"
   ]
  },
  {
   "cell_type": "code",
   "execution_count": 107,
   "id": "4faf3b89",
   "metadata": {},
   "outputs": [
    {
     "data": {
      "text/plain": [
       "datetime.date(2022, 1, 21)"
      ]
     },
     "execution_count": 107,
     "metadata": {},
     "output_type": "execute_result"
    }
   ],
   "source": [
    "date.today()"
   ]
  },
  {
   "cell_type": "code",
   "execution_count": 108,
   "id": "6ca31a6a",
   "metadata": {},
   "outputs": [
    {
     "data": {
      "text/plain": [
       "time.struct_time(tm_year=2022, tm_mon=1, tm_mday=21, tm_hour=10, tm_min=29, tm_sec=48, tm_wday=4, tm_yday=21, tm_isdst=0)"
      ]
     },
     "execution_count": 108,
     "metadata": {},
     "output_type": "execute_result"
    }
   ],
   "source": [
    "time.localtime()"
   ]
  },
  {
   "cell_type": "markdown",
   "id": "7532de2b",
   "metadata": {},
   "source": [
    "## exploring and describing data \n",
    "\n",
    "- understanding the data in terms of spread , variation, noisiness \n",
    "- mean , median, mode - what those mean in each column \n",
    "- frequency of values - objects ---- bucketing \n",
    "\n",
    "describe()\n",
    "info() \n",
    "shape\n",
    "unique()\n",
    "value_counts()\n",
    "tail() \n",
    "head()\n",
    "\n",
    "nunique()\n",
    "nsmallest() nlargest()\n",
    "groupby().agg()"
   ]
  },
  {
   "cell_type": "code",
   "execution_count": 109,
   "id": "2ed07c58",
   "metadata": {},
   "outputs": [
    {
     "data": {
      "text/html": [
       "<div>\n",
       "<style scoped>\n",
       "    .dataframe tbody tr th:only-of-type {\n",
       "        vertical-align: middle;\n",
       "    }\n",
       "\n",
       "    .dataframe tbody tr th {\n",
       "        vertical-align: top;\n",
       "    }\n",
       "\n",
       "    .dataframe thead th {\n",
       "        text-align: right;\n",
       "    }\n",
       "</style>\n",
       "<table border=\"1\" class=\"dataframe\">\n",
       "  <thead>\n",
       "    <tr style=\"text-align: right;\">\n",
       "      <th></th>\n",
       "      <th>city</th>\n",
       "      <th>country</th>\n",
       "      <th>location</th>\n",
       "      <th>parameter</th>\n",
       "      <th>unit</th>\n",
       "      <th>weekday</th>\n",
       "      <th>date</th>\n",
       "      <th>date2</th>\n",
       "      <th>hourofday</th>\n",
       "    </tr>\n",
       "  </thead>\n",
       "  <tbody>\n",
       "    <tr>\n",
       "      <th>count</th>\n",
       "      <td>2068</td>\n",
       "      <td>2068</td>\n",
       "      <td>2068</td>\n",
       "      <td>2068</td>\n",
       "      <td>2068</td>\n",
       "      <td>2068</td>\n",
       "      <td>2068</td>\n",
       "      <td>2068</td>\n",
       "      <td>2068</td>\n",
       "    </tr>\n",
       "    <tr>\n",
       "      <th>unique</th>\n",
       "      <td>3</td>\n",
       "      <td>3</td>\n",
       "      <td>3</td>\n",
       "      <td>1</td>\n",
       "      <td>1</td>\n",
       "      <td>7</td>\n",
       "      <td>46</td>\n",
       "      <td>46</td>\n",
       "      <td>24</td>\n",
       "    </tr>\n",
       "    <tr>\n",
       "      <th>top</th>\n",
       "      <td>Paris</td>\n",
       "      <td>FR</td>\n",
       "      <td>FR04014</td>\n",
       "      <td>no2</td>\n",
       "      <td>µg/m³</td>\n",
       "      <td>Sun</td>\n",
       "      <td>20190519</td>\n",
       "      <td>2019-05-19</td>\n",
       "      <td>01</td>\n",
       "    </tr>\n",
       "    <tr>\n",
       "      <th>freq</th>\n",
       "      <td>1004</td>\n",
       "      <td>1004</td>\n",
       "      <td>1004</td>\n",
       "      <td>2068</td>\n",
       "      <td>2068</td>\n",
       "      <td>315</td>\n",
       "      <td>72</td>\n",
       "      <td>72</td>\n",
       "      <td>109</td>\n",
       "    </tr>\n",
       "  </tbody>\n",
       "</table>\n",
       "</div>"
      ],
      "text/plain": [
       "         city country location parameter   unit weekday      date       date2  \\\n",
       "count    2068    2068     2068      2068   2068    2068      2068        2068   \n",
       "unique      3       3        3         1      1       7        46          46   \n",
       "top     Paris      FR  FR04014       no2  µg/m³     Sun  20190519  2019-05-19   \n",
       "freq     1004    1004     1004      2068   2068     315        72          72   \n",
       "\n",
       "       hourofday  \n",
       "count       2068  \n",
       "unique        24  \n",
       "top           01  \n",
       "freq         109  "
      ]
     },
     "execution_count": 109,
     "metadata": {},
     "output_type": "execute_result"
    }
   ],
   "source": [
    "df.describe(include=[object])"
   ]
  },
  {
   "cell_type": "code",
   "execution_count": 110,
   "id": "85f9059a",
   "metadata": {},
   "outputs": [
    {
     "name": "stdout",
     "output_type": "stream",
     "text": [
      "<class 'pandas.core.frame.DataFrame'>\n",
      "RangeIndex: 2068 entries, 0 to 2067\n",
      "Data columns (total 12 columns):\n",
      " #   Column      Non-Null Count  Dtype              \n",
      "---  ------      --------------  -----              \n",
      " 0   city        2068 non-null   object             \n",
      " 1   country     2068 non-null   object             \n",
      " 2   date.utc    2068 non-null   datetime64[ns, UTC]\n",
      " 3   location    2068 non-null   object             \n",
      " 4   parameter   2068 non-null   object             \n",
      " 5   value       2068 non-null   float64            \n",
      " 6   unit        2068 non-null   object             \n",
      " 7   weekday     2068 non-null   object             \n",
      " 8   date        2068 non-null   object             \n",
      " 9   date2       2068 non-null   object             \n",
      " 10  hourofday   2068 non-null   object             \n",
      " 11  hourofday2  2068 non-null   int64              \n",
      "dtypes: datetime64[ns, UTC](1), float64(1), int64(1), object(9)\n",
      "memory usage: 194.0+ KB\n"
     ]
    }
   ],
   "source": [
    "df.info()"
   ]
  },
  {
   "cell_type": "code",
   "execution_count": 111,
   "id": "502db1f5",
   "metadata": {},
   "outputs": [
    {
     "data": {
      "text/html": [
       "<div>\n",
       "<style scoped>\n",
       "    .dataframe tbody tr th:only-of-type {\n",
       "        vertical-align: middle;\n",
       "    }\n",
       "\n",
       "    .dataframe tbody tr th {\n",
       "        vertical-align: top;\n",
       "    }\n",
       "\n",
       "    .dataframe thead th {\n",
       "        text-align: right;\n",
       "    }\n",
       "</style>\n",
       "<table border=\"1\" class=\"dataframe\">\n",
       "  <thead>\n",
       "    <tr style=\"text-align: right;\">\n",
       "      <th></th>\n",
       "      <th>value</th>\n",
       "      <th>hourofday2</th>\n",
       "    </tr>\n",
       "  </thead>\n",
       "  <tbody>\n",
       "    <tr>\n",
       "      <th>count</th>\n",
       "      <td>2068.000000</td>\n",
       "      <td>2068.000000</td>\n",
       "    </tr>\n",
       "    <tr>\n",
       "      <th>mean</th>\n",
       "      <td>26.261847</td>\n",
       "      <td>11.308511</td>\n",
       "    </tr>\n",
       "    <tr>\n",
       "      <th>std</th>\n",
       "      <td>13.479451</td>\n",
       "      <td>6.959805</td>\n",
       "    </tr>\n",
       "    <tr>\n",
       "      <th>min</th>\n",
       "      <td>0.000000</td>\n",
       "      <td>0.000000</td>\n",
       "    </tr>\n",
       "    <tr>\n",
       "      <th>25%</th>\n",
       "      <td>17.000000</td>\n",
       "      <td>5.000000</td>\n",
       "    </tr>\n",
       "    <tr>\n",
       "      <th>50%</th>\n",
       "      <td>25.000000</td>\n",
       "      <td>11.000000</td>\n",
       "    </tr>\n",
       "    <tr>\n",
       "      <th>75%</th>\n",
       "      <td>33.000000</td>\n",
       "      <td>17.000000</td>\n",
       "    </tr>\n",
       "    <tr>\n",
       "      <th>max</th>\n",
       "      <td>97.000000</td>\n",
       "      <td>23.000000</td>\n",
       "    </tr>\n",
       "  </tbody>\n",
       "</table>\n",
       "</div>"
      ],
      "text/plain": [
       "             value   hourofday2\n",
       "count  2068.000000  2068.000000\n",
       "mean     26.261847    11.308511\n",
       "std      13.479451     6.959805\n",
       "min       0.000000     0.000000\n",
       "25%      17.000000     5.000000\n",
       "50%      25.000000    11.000000\n",
       "75%      33.000000    17.000000\n",
       "max      97.000000    23.000000"
      ]
     },
     "execution_count": 111,
     "metadata": {},
     "output_type": "execute_result"
    }
   ],
   "source": [
    "df.describe()"
   ]
  },
  {
   "cell_type": "code",
   "execution_count": 112,
   "id": "c6ce6f29",
   "metadata": {},
   "outputs": [],
   "source": [
    "### group by \n",
    "city_summary= df.groupby('city')['value'].mean().sort_values()"
   ]
  },
  {
   "cell_type": "code",
   "execution_count": 113,
   "id": "8d0ab4f1",
   "metadata": {},
   "outputs": [
    {
     "data": {
      "text/plain": [
       "city\n",
       "London       24.777090\n",
       "Antwerpen    25.778947\n",
       "Paris        27.740538\n",
       "Name: value, dtype: float64"
      ]
     },
     "execution_count": 113,
     "metadata": {},
     "output_type": "execute_result"
    }
   ],
   "source": [
    "city_summary"
   ]
  },
  {
   "cell_type": "code",
   "execution_count": 114,
   "id": "c0840580",
   "metadata": {},
   "outputs": [],
   "source": [
    "#hour of day summary \n",
    "hour_summary=df.groupby('hourofday')['value'].mean().sort_values()"
   ]
  },
  {
   "cell_type": "code",
   "execution_count": 115,
   "id": "1a7db516",
   "metadata": {},
   "outputs": [
    {
     "data": {
      "text/plain": [
       "hourofday\n",
       "13    21.008235\n",
       "12    21.029762\n",
       "11    21.275294\n",
       "14    21.737647\n",
       "10    22.602326\n",
       "04    22.979518\n",
       "03    23.242683\n",
       "02    23.558511\n",
       "15    23.840000\n",
       "16    24.972619\n",
       "09    26.071591\n",
       "01    26.125688\n",
       "17    26.691667\n",
       "05    27.070732\n",
       "18    27.089412\n",
       "00    27.955294\n",
       "19    28.143529\n",
       "08    29.138636\n",
       "20    29.372941\n",
       "06    30.635632\n",
       "21    30.973256\n",
       "23    31.189412\n",
       "07    31.346591\n",
       "22    32.451282\n",
       "Name: value, dtype: float64"
      ]
     },
     "execution_count": 115,
     "metadata": {},
     "output_type": "execute_result"
    }
   ],
   "source": [
    "hour_summary"
   ]
  },
  {
   "cell_type": "code",
   "execution_count": 116,
   "id": "01839d8c",
   "metadata": {},
   "outputs": [],
   "source": [
    "hour_summary_2=df.groupby(['city','hourofday'])['value'].mean().sort_values()"
   ]
  },
  {
   "cell_type": "code",
   "execution_count": 117,
   "id": "0f99cd5e",
   "metadata": {},
   "outputs": [
    {
     "data": {
      "text/plain": [
       "city       hourofday\n",
       "London     01           24.757576\n",
       "Antwerpen  04           24.833333\n",
       "Paris      03           25.234211\n",
       "Antwerpen  12           25.250000\n",
       "           18           25.500000\n",
       "           21           25.750000\n",
       "           01           25.838235\n",
       "London     14           25.900000\n",
       "Paris      02           25.964286\n",
       "Antwerpen  22           26.500000\n",
       "Paris      19           26.635714\n",
       "           04           27.257895\n",
       "           01           27.433333\n",
       "Antwerpen  20           27.500000\n",
       "           09           27.666667\n",
       "London     23           28.414634\n",
       "           15           28.682927\n",
       "           21           28.853659\n",
       "           16           28.951220\n",
       "           22           28.969697\n",
       "           20           29.121951\n",
       "Antwerpen  15           29.250000\n",
       "           05           29.500000\n",
       "London     19           29.560976\n",
       "Paris      20           29.707143\n",
       "London     17           30.073171\n",
       "Paris      09           30.076744\n",
       "London     18           30.121951\n",
       "Antwerpen  19           30.750000\n",
       "Paris      00           31.683333\n",
       "           21           33.237209\n",
       "Antwerpen  06           33.333333\n",
       "Paris      23           34.288095\n",
       "Antwerpen  08           34.833333\n",
       "Paris      22           35.400000\n",
       "           05           35.534211\n",
       "           08           36.458140\n",
       "Antwerpen  07           37.666667\n",
       "Paris      06           40.102381\n",
       "           07           40.569767\n",
       "Name: value, dtype: float64"
      ]
     },
     "execution_count": 117,
     "metadata": {},
     "output_type": "execute_result"
    }
   ],
   "source": [
    "hour_summary_2.tail(40)"
   ]
  },
  {
   "cell_type": "code",
   "execution_count": 118,
   "id": "c461d9b5",
   "metadata": {},
   "outputs": [
    {
     "data": {
      "text/html": [
       "<div>\n",
       "<style scoped>\n",
       "    .dataframe tbody tr th:only-of-type {\n",
       "        vertical-align: middle;\n",
       "    }\n",
       "\n",
       "    .dataframe tbody tr th {\n",
       "        vertical-align: top;\n",
       "    }\n",
       "\n",
       "    .dataframe thead th {\n",
       "        text-align: right;\n",
       "    }\n",
       "</style>\n",
       "<table border=\"1\" class=\"dataframe\">\n",
       "  <thead>\n",
       "    <tr style=\"text-align: right;\">\n",
       "      <th></th>\n",
       "      <th>city</th>\n",
       "      <th>country</th>\n",
       "      <th>date.utc</th>\n",
       "      <th>location</th>\n",
       "      <th>parameter</th>\n",
       "      <th>value</th>\n",
       "      <th>unit</th>\n",
       "      <th>weekday</th>\n",
       "      <th>date</th>\n",
       "      <th>date2</th>\n",
       "      <th>hourofday</th>\n",
       "      <th>hourofday2</th>\n",
       "    </tr>\n",
       "  </thead>\n",
       "  <tbody>\n",
       "    <tr>\n",
       "      <th>2</th>\n",
       "      <td>Paris</td>\n",
       "      <td>FR</td>\n",
       "      <td>2019-06-20 22:00:00+00:00</td>\n",
       "      <td>FR04014</td>\n",
       "      <td>no2</td>\n",
       "      <td>26.5</td>\n",
       "      <td>µg/m³</td>\n",
       "      <td>Thu</td>\n",
       "      <td>20190620</td>\n",
       "      <td>2019-06-20</td>\n",
       "      <td>22</td>\n",
       "      <td>22</td>\n",
       "    </tr>\n",
       "    <tr>\n",
       "      <th>14</th>\n",
       "      <td>Paris</td>\n",
       "      <td>FR</td>\n",
       "      <td>2019-06-18 22:00:00+00:00</td>\n",
       "      <td>FR04014</td>\n",
       "      <td>no2</td>\n",
       "      <td>39.3</td>\n",
       "      <td>µg/m³</td>\n",
       "      <td>Tue</td>\n",
       "      <td>20190618</td>\n",
       "      <td>2019-06-18</td>\n",
       "      <td>22</td>\n",
       "      <td>22</td>\n",
       "    </tr>\n",
       "    <tr>\n",
       "      <th>28</th>\n",
       "      <td>Paris</td>\n",
       "      <td>FR</td>\n",
       "      <td>2019-06-17 22:00:00+00:00</td>\n",
       "      <td>FR04014</td>\n",
       "      <td>no2</td>\n",
       "      <td>51.0</td>\n",
       "      <td>µg/m³</td>\n",
       "      <td>Mon</td>\n",
       "      <td>20190617</td>\n",
       "      <td>2019-06-17</td>\n",
       "      <td>22</td>\n",
       "      <td>22</td>\n",
       "    </tr>\n",
       "    <tr>\n",
       "      <th>52</th>\n",
       "      <td>Paris</td>\n",
       "      <td>FR</td>\n",
       "      <td>2019-06-16 22:00:00+00:00</td>\n",
       "      <td>FR04014</td>\n",
       "      <td>no2</td>\n",
       "      <td>56.6</td>\n",
       "      <td>µg/m³</td>\n",
       "      <td>Sun</td>\n",
       "      <td>20190616</td>\n",
       "      <td>2019-06-16</td>\n",
       "      <td>22</td>\n",
       "      <td>22</td>\n",
       "    </tr>\n",
       "    <tr>\n",
       "      <th>76</th>\n",
       "      <td>Paris</td>\n",
       "      <td>FR</td>\n",
       "      <td>2019-06-15 22:00:00+00:00</td>\n",
       "      <td>FR04014</td>\n",
       "      <td>no2</td>\n",
       "      <td>20.1</td>\n",
       "      <td>µg/m³</td>\n",
       "      <td>Sat</td>\n",
       "      <td>20190615</td>\n",
       "      <td>2019-06-15</td>\n",
       "      <td>22</td>\n",
       "      <td>22</td>\n",
       "    </tr>\n",
       "    <tr>\n",
       "      <th>...</th>\n",
       "      <td>...</td>\n",
       "      <td>...</td>\n",
       "      <td>...</td>\n",
       "      <td>...</td>\n",
       "      <td>...</td>\n",
       "      <td>...</td>\n",
       "      <td>...</td>\n",
       "      <td>...</td>\n",
       "      <td>...</td>\n",
       "      <td>...</td>\n",
       "      <td>...</td>\n",
       "      <td>...</td>\n",
       "    </tr>\n",
       "    <tr>\n",
       "      <th>1911</th>\n",
       "      <td>London</td>\n",
       "      <td>GB</td>\n",
       "      <td>2019-05-13 22:00:00+00:00</td>\n",
       "      <td>London Westminster</td>\n",
       "      <td>no2</td>\n",
       "      <td>31.0</td>\n",
       "      <td>µg/m³</td>\n",
       "      <td>Mon</td>\n",
       "      <td>20190513</td>\n",
       "      <td>2019-05-13</td>\n",
       "      <td>22</td>\n",
       "      <td>22</td>\n",
       "    </tr>\n",
       "    <tr>\n",
       "      <th>1935</th>\n",
       "      <td>London</td>\n",
       "      <td>GB</td>\n",
       "      <td>2019-05-12 22:00:00+00:00</td>\n",
       "      <td>London Westminster</td>\n",
       "      <td>no2</td>\n",
       "      <td>22.0</td>\n",
       "      <td>µg/m³</td>\n",
       "      <td>Sun</td>\n",
       "      <td>20190512</td>\n",
       "      <td>2019-05-12</td>\n",
       "      <td>22</td>\n",
       "      <td>22</td>\n",
       "    </tr>\n",
       "    <tr>\n",
       "      <th>1959</th>\n",
       "      <td>London</td>\n",
       "      <td>GB</td>\n",
       "      <td>2019-05-11 22:00:00+00:00</td>\n",
       "      <td>London Westminster</td>\n",
       "      <td>no2</td>\n",
       "      <td>37.0</td>\n",
       "      <td>µg/m³</td>\n",
       "      <td>Sat</td>\n",
       "      <td>20190511</td>\n",
       "      <td>2019-05-11</td>\n",
       "      <td>22</td>\n",
       "      <td>22</td>\n",
       "    </tr>\n",
       "    <tr>\n",
       "      <th>1978</th>\n",
       "      <td>London</td>\n",
       "      <td>GB</td>\n",
       "      <td>2019-05-10 22:00:00+00:00</td>\n",
       "      <td>London Westminster</td>\n",
       "      <td>no2</td>\n",
       "      <td>31.0</td>\n",
       "      <td>µg/m³</td>\n",
       "      <td>Fri</td>\n",
       "      <td>20190510</td>\n",
       "      <td>2019-05-10</td>\n",
       "      <td>22</td>\n",
       "      <td>22</td>\n",
       "    </tr>\n",
       "    <tr>\n",
       "      <th>2002</th>\n",
       "      <td>London</td>\n",
       "      <td>GB</td>\n",
       "      <td>2019-05-09 22:00:00+00:00</td>\n",
       "      <td>London Westminster</td>\n",
       "      <td>no2</td>\n",
       "      <td>59.0</td>\n",
       "      <td>µg/m³</td>\n",
       "      <td>Thu</td>\n",
       "      <td>20190509</td>\n",
       "      <td>2019-05-09</td>\n",
       "      <td>22</td>\n",
       "      <td>22</td>\n",
       "    </tr>\n",
       "  </tbody>\n",
       "</table>\n",
       "<p>78 rows × 12 columns</p>\n",
       "</div>"
      ],
      "text/plain": [
       "        city country                  date.utc            location parameter  \\\n",
       "2      Paris      FR 2019-06-20 22:00:00+00:00             FR04014       no2   \n",
       "14     Paris      FR 2019-06-18 22:00:00+00:00             FR04014       no2   \n",
       "28     Paris      FR 2019-06-17 22:00:00+00:00             FR04014       no2   \n",
       "52     Paris      FR 2019-06-16 22:00:00+00:00             FR04014       no2   \n",
       "76     Paris      FR 2019-06-15 22:00:00+00:00             FR04014       no2   \n",
       "...      ...     ...                       ...                 ...       ...   \n",
       "1911  London      GB 2019-05-13 22:00:00+00:00  London Westminster       no2   \n",
       "1935  London      GB 2019-05-12 22:00:00+00:00  London Westminster       no2   \n",
       "1959  London      GB 2019-05-11 22:00:00+00:00  London Westminster       no2   \n",
       "1978  London      GB 2019-05-10 22:00:00+00:00  London Westminster       no2   \n",
       "2002  London      GB 2019-05-09 22:00:00+00:00  London Westminster       no2   \n",
       "\n",
       "      value   unit weekday      date       date2 hourofday  hourofday2  \n",
       "2      26.5  µg/m³     Thu  20190620  2019-06-20        22          22  \n",
       "14     39.3  µg/m³     Tue  20190618  2019-06-18        22          22  \n",
       "28     51.0  µg/m³     Mon  20190617  2019-06-17        22          22  \n",
       "52     56.6  µg/m³     Sun  20190616  2019-06-16        22          22  \n",
       "76     20.1  µg/m³     Sat  20190615  2019-06-15        22          22  \n",
       "...     ...    ...     ...       ...         ...       ...         ...  \n",
       "1911   31.0  µg/m³     Mon  20190513  2019-05-13        22          22  \n",
       "1935   22.0  µg/m³     Sun  20190512  2019-05-12        22          22  \n",
       "1959   37.0  µg/m³     Sat  20190511  2019-05-11        22          22  \n",
       "1978   31.0  µg/m³     Fri  20190510  2019-05-10        22          22  \n",
       "2002   59.0  µg/m³     Thu  20190509  2019-05-09        22          22  \n",
       "\n",
       "[78 rows x 12 columns]"
      ]
     },
     "execution_count": 118,
     "metadata": {},
     "output_type": "execute_result"
    }
   ],
   "source": [
    "df.query('hourofday==\"22\"')"
   ]
  },
  {
   "cell_type": "markdown",
   "id": "43c12049",
   "metadata": {},
   "source": [
    "### Visual descriptive analysis - EDA \n",
    "\n",
    "- matplot lib \n",
    "- seaborn \n",
    "\n",
    "\n",
    " others:\n",
    "- plotly \n",
    "- maps - other libraries "
   ]
  },
  {
   "cell_type": "code",
   "execution_count": 119,
   "id": "c1a423ef",
   "metadata": {},
   "outputs": [],
   "source": [
    "import seaborn as sns \n",
    "import matplotlib.pyplot as plt \n",
    "%matplotlib inline  \n",
    "# or use plt.show() "
   ]
  },
  {
   "cell_type": "code",
   "execution_count": 120,
   "id": "9c2da03b",
   "metadata": {},
   "outputs": [
    {
     "data": {
      "text/plain": [
       "<AxesSubplot:>"
      ]
     },
     "execution_count": 120,
     "metadata": {},
     "output_type": "execute_result"
    },
    {
     "data": {
      "image/png": "[encoded data removed]",
      "text/plain": [
       "<Figure size 432x288 with 1 Axes>"
      ]
     },
     "metadata": {
      "needs_background": "light"
     },
     "output_type": "display_data"
    }
   ],
   "source": [
    "#default python plotting \n",
    "df['city'].value_counts().plot(kind='bar',color='grey')"
   ]
  },
  {
   "cell_type": "code",
   "execution_count": 121,
   "id": "c76b8d65",
   "metadata": {},
   "outputs": [
    {
     "data": {
      "text/plain": [
       "<AxesSubplot:>"
      ]
     },
     "execution_count": 121,
     "metadata": {},
     "output_type": "execute_result"
    },
    {
     "data": {
      "image/png": "[encoded data removed]",
      "text/plain": [
       "<Figure size 432x288 with 1 Axes>"
      ]
     },
     "metadata": {
      "needs_background": "light"
     },
     "output_type": "display_data"
    }
   ],
   "source": [
    "df['hourofday'].value_counts().plot(kind='bar',color='blue')"
   ]
  },
  {
   "cell_type": "code",
   "execution_count": 122,
   "id": "5c11efe0",
   "metadata": {},
   "outputs": [
    {
     "data": {
      "text/plain": [
       "<BarContainer object of 1 artists>"
      ]
     },
     "execution_count": 122,
     "metadata": {},
     "output_type": "execute_result"
    },
    {
     "data": {
      "image/png": "[encoded data removed]",
      "text/plain": [
       "<Figure size 432x288 with 1 Axes>"
      ]
     },
     "metadata": {
      "needs_background": "light"
     },
     "output_type": "display_data"
    }
   ],
   "source": [
    "plt.barh(y='city',width='value')"
   ]
  },
  {
   "cell_type": "code",
   "execution_count": 123,
   "id": "0b1fd3ee",
   "metadata": {},
   "outputs": [
    {
     "data": {
      "text/plain": [
       "<matplotlib.collections.PathCollection at 0x7fb4720462b0>"
      ]
     },
     "execution_count": 123,
     "metadata": {},
     "output_type": "execute_result"
    },
    {
     "data": {
      "image/png": "[encoded data removed]",
      "text/plain": [
       "<Figure size 432x288 with 1 Axes>"
      ]
     },
     "metadata": {
      "needs_background": "light"
     },
     "output_type": "display_data"
    }
   ],
   "source": [
    "plt.scatter(x=df['hourofday'],y=df['value'])"
   ]
  },
  {
   "cell_type": "code",
   "execution_count": 124,
   "id": "aa01e832",
   "metadata": {},
   "outputs": [
    {
     "data": {
      "image/png": "[encoded data removed]",
      "text/plain": [
       "<Figure size 1080x360 with 1 Axes>"
      ]
     },
     "metadata": {
      "needs_background": "light"
     },
     "output_type": "display_data"
    }
   ],
   "source": [
    "ax=sns.catplot(data=df,x='hourofday',y='value',hue='city',palette='dark',hue_order=['Antwerpen','London','Paris'])\n",
    "ax.fig.set_figwidth(15)"
   ]
  },
  {
   "cell_type": "code",
   "execution_count": 125,
   "id": "1e8c0820",
   "metadata": {},
   "outputs": [
    {
     "name": "stdout",
     "output_type": "stream",
     "text": [
      "<class 'pandas.core.frame.DataFrame'>\n",
      "RangeIndex: 2068 entries, 0 to 2067\n",
      "Data columns (total 12 columns):\n",
      " #   Column      Non-Null Count  Dtype              \n",
      "---  ------      --------------  -----              \n",
      " 0   city        2068 non-null   object             \n",
      " 1   country     2068 non-null   object             \n",
      " 2   date.utc    2068 non-null   datetime64[ns, UTC]\n",
      " 3   location    2068 non-null   object             \n",
      " 4   parameter   2068 non-null   object             \n",
      " 5   value       2068 non-null   float64            \n",
      " 6   unit        2068 non-null   object             \n",
      " 7   weekday     2068 non-null   object             \n",
      " 8   date        2068 non-null   object             \n",
      " 9   date2       2068 non-null   object             \n",
      " 10  hourofday   2068 non-null   object             \n",
      " 11  hourofday2  2068 non-null   int64              \n",
      "dtypes: datetime64[ns, UTC](1), float64(1), int64(1), object(9)\n",
      "memory usage: 194.0+ KB\n"
     ]
    }
   ],
   "source": [
    "df.info()"
   ]
  },
  {
   "cell_type": "code",
   "execution_count": 126,
   "id": "1adc3777",
   "metadata": {},
   "outputs": [],
   "source": [
    "#convert hour of day into numeric field to resolve column order of hours \n",
    "df['hourofday']=pd.to_numeric(df['hourofday'],errors='coerce')"
   ]
  },
  {
   "cell_type": "code",
   "execution_count": 127,
   "id": "d536cd79",
   "metadata": {},
   "outputs": [],
   "source": [
    "paris=df.query('city==\"Paris\"')"
   ]
  },
  {
   "cell_type": "code",
   "execution_count": 128,
   "id": "445bad5d",
   "metadata": {},
   "outputs": [
    {
     "data": {
      "text/plain": [
       "Text(0, 0.5, 'no2 level')"
      ]
     },
     "execution_count": 128,
     "metadata": {},
     "output_type": "execute_result"
    },
    {
     "data": {
      "image/png": "[encoded data removed]",
      "text/plain": [
       "<Figure size 720x720 with 1 Axes>"
      ]
     },
     "metadata": {
      "needs_background": "light"
     },
     "output_type": "display_data"
    }
   ],
   "source": [
    "plt.figure(figsize=(10,10))\n",
    "plt.plot(paris['date2'],paris['value'])\n",
    "plt.title('air pollution paris over time')\n",
    "plt.xlabel('date')\n",
    "plt.ylabel('no2 level')"
   ]
  },
  {
   "cell_type": "markdown",
   "id": "aa4f84f8",
   "metadata": {},
   "source": [
    "## import data with state fixed "
   ]
  },
  {
   "cell_type": "code",
   "execution_count": 229,
   "id": "f1afa9dd",
   "metadata": {},
   "outputs": [],
   "source": [
    "df=pd.read_csv('merged_clean_h4a.csv')"
   ]
  },
  {
   "cell_type": "code",
   "execution_count": 230,
   "id": "fc3b61d2",
   "metadata": {},
   "outputs": [
    {
     "data": {
      "text/html": [
       "<div>\n",
       "<style scoped>\n",
       "    .dataframe tbody tr th:only-of-type {\n",
       "        vertical-align: middle;\n",
       "    }\n",
       "\n",
       "    .dataframe tbody tr th {\n",
       "        vertical-align: top;\n",
       "    }\n",
       "\n",
       "    .dataframe thead th {\n",
       "        text-align: right;\n",
       "    }\n",
       "</style>\n",
       "<table border=\"1\" class=\"dataframe\">\n",
       "  <thead>\n",
       "    <tr style=\"text-align: right;\">\n",
       "      <th></th>\n",
       "      <th>controln</th>\n",
       "      <th>state</th>\n",
       "      <th>gender</th>\n",
       "      <th>medianhv</th>\n",
       "      <th>ic1</th>\n",
       "      <th>ic4</th>\n",
       "      <th>hvp1</th>\n",
       "      <th>percapita</th>\n",
       "      <th>pobc1</th>\n",
       "      <th>pobc2</th>\n",
       "      <th>ic2</th>\n",
       "      <th>ic3</th>\n",
       "      <th>avggift</th>\n",
       "      <th>tcode</th>\n",
       "      <th>dob</th>\n",
       "      <th>domain</th>\n",
       "      <th>target_d</th>\n",
       "    </tr>\n",
       "  </thead>\n",
       "  <tbody>\n",
       "    <tr>\n",
       "      <th>0</th>\n",
       "      <td>44060</td>\n",
       "      <td>FL</td>\n",
       "      <td>Male</td>\n",
       "      <td>801.0</td>\n",
       "      <td>392</td>\n",
       "      <td>520.0</td>\n",
       "      <td>7</td>\n",
       "      <td>21975.0</td>\n",
       "      <td>6</td>\n",
       "      <td>16</td>\n",
       "      <td>430.0</td>\n",
       "      <td>466</td>\n",
       "      <td>28.000000</td>\n",
       "      <td>1</td>\n",
       "      <td>1901</td>\n",
       "      <td>C2</td>\n",
       "      <td>100.0</td>\n",
       "    </tr>\n",
       "    <tr>\n",
       "      <th>1</th>\n",
       "      <td>96093</td>\n",
       "      <td>IL</td>\n",
       "      <td>Male</td>\n",
       "      <td>537.0</td>\n",
       "      <td>365</td>\n",
       "      <td>473.0</td>\n",
       "      <td>0</td>\n",
       "      <td>19387.0</td>\n",
       "      <td>1</td>\n",
       "      <td>89</td>\n",
       "      <td>415.0</td>\n",
       "      <td>410</td>\n",
       "      <td>5.666667</td>\n",
       "      <td>0</td>\n",
       "      <td>0</td>\n",
       "      <td>T2</td>\n",
       "      <td>7.0</td>\n",
       "    </tr>\n",
       "    <tr>\n",
       "      <th>2</th>\n",
       "      <td>43333</td>\n",
       "      <td>FL</td>\n",
       "      <td>Female</td>\n",
       "      <td>725.0</td>\n",
       "      <td>301</td>\n",
       "      <td>436.0</td>\n",
       "      <td>3</td>\n",
       "      <td>18837.0</td>\n",
       "      <td>11</td>\n",
       "      <td>17</td>\n",
       "      <td>340.0</td>\n",
       "      <td>361</td>\n",
       "      <td>4.111111</td>\n",
       "      <td>0</td>\n",
       "      <td>2501</td>\n",
       "      <td>C2</td>\n",
       "      <td>5.0</td>\n",
       "    </tr>\n",
       "    <tr>\n",
       "      <th>3</th>\n",
       "      <td>21885</td>\n",
       "      <td>NC</td>\n",
       "      <td>Male</td>\n",
       "      <td>801.0</td>\n",
       "      <td>401</td>\n",
       "      <td>413.0</td>\n",
       "      <td>7</td>\n",
       "      <td>14014.0</td>\n",
       "      <td>1</td>\n",
       "      <td>74</td>\n",
       "      <td>407.0</td>\n",
       "      <td>399</td>\n",
       "      <td>27.277778</td>\n",
       "      <td>0</td>\n",
       "      <td>2208</td>\n",
       "      <td>T2</td>\n",
       "      <td>38.0</td>\n",
       "    </tr>\n",
       "    <tr>\n",
       "      <th>4</th>\n",
       "      <td>190108</td>\n",
       "      <td>FL</td>\n",
       "      <td>Female</td>\n",
       "      <td>995.0</td>\n",
       "      <td>252</td>\n",
       "      <td>348.0</td>\n",
       "      <td>0</td>\n",
       "      <td>17991.0</td>\n",
       "      <td>5</td>\n",
       "      <td>6</td>\n",
       "      <td>280.0</td>\n",
       "      <td>316</td>\n",
       "      <td>6.000000</td>\n",
       "      <td>28</td>\n",
       "      <td>0</td>\n",
       "      <td>C2</td>\n",
       "      <td>5.0</td>\n",
       "    </tr>\n",
       "  </tbody>\n",
       "</table>\n",
       "</div>"
      ],
      "text/plain": [
       "   controln state  gender  medianhv  ic1    ic4  hvp1  percapita  pobc1  \\\n",
       "0     44060    FL    Male     801.0  392  520.0     7    21975.0      6   \n",
       "1     96093    IL    Male     537.0  365  473.0     0    19387.0      1   \n",
       "2     43333    FL  Female     725.0  301  436.0     3    18837.0     11   \n",
       "3     21885    NC    Male     801.0  401  413.0     7    14014.0      1   \n",
       "4    190108    FL  Female     995.0  252  348.0     0    17991.0      5   \n",
       "\n",
       "   pobc2    ic2  ic3    avggift  tcode   dob domain  target_d  \n",
       "0     16  430.0  466  28.000000      1  1901     C2     100.0  \n",
       "1     89  415.0  410   5.666667      0     0     T2       7.0  \n",
       "2     17  340.0  361   4.111111      0  2501     C2       5.0  \n",
       "3     74  407.0  399  27.277778      0  2208     T2      38.0  \n",
       "4      6  280.0  316   6.000000     28     0     C2       5.0  "
      ]
     },
     "execution_count": 230,
     "metadata": {},
     "output_type": "execute_result"
    }
   ],
   "source": [
    "df.head()"
   ]
  },
  {
   "cell_type": "code",
   "execution_count": 231,
   "id": "a1300f0c",
   "metadata": {},
   "outputs": [
    {
     "name": "stdout",
     "output_type": "stream",
     "text": [
      "<class 'pandas.core.frame.DataFrame'>\n",
      "RangeIndex: 3993 entries, 0 to 3992\n",
      "Data columns (total 17 columns):\n",
      " #   Column     Non-Null Count  Dtype  \n",
      "---  ------     --------------  -----  \n",
      " 0   controln   3993 non-null   int64  \n",
      " 1   state      3993 non-null   object \n",
      " 2   gender     3993 non-null   object \n",
      " 3   medianhv   3993 non-null   float64\n",
      " 4   ic1        3993 non-null   int64  \n",
      " 5   ic4        3993 non-null   float64\n",
      " 6   hvp1       3993 non-null   int64  \n",
      " 7   percapita  3993 non-null   float64\n",
      " 8   pobc1      3993 non-null   int64  \n",
      " 9   pobc2      3993 non-null   int64  \n",
      " 10  ic2        3993 non-null   float64\n",
      " 11  ic3        3993 non-null   int64  \n",
      " 12  avggift    3993 non-null   float64\n",
      " 13  tcode      3993 non-null   int64  \n",
      " 14  dob        3993 non-null   int64  \n",
      " 15  domain     3993 non-null   object \n",
      " 16  target_d   3993 non-null   float64\n",
      "dtypes: float64(6), int64(8), object(3)\n",
      "memory usage: 530.4+ KB\n"
     ]
    }
   ],
   "source": [
    "df.info()"
   ]
  },
  {
   "cell_type": "code",
   "execution_count": 232,
   "id": "6807cde7",
   "metadata": {},
   "outputs": [],
   "source": [
    "# new tools for linear regression\n",
    "\n",
    "from sklearn import linear_model\n",
    "from sklearn.model_selection import train_test_split\n",
    "from sklearn.metrics import mean_squared_error, r2_score"
   ]
  },
  {
   "cell_type": "markdown",
   "id": "5b9f80e3",
   "metadata": {},
   "source": [
    "## Clarify the objective and split off the target variable "
   ]
  },
  {
   "cell_type": "code",
   "execution_count": 233,
   "id": "93ec5e08",
   "metadata": {},
   "outputs": [],
   "source": [
    "# we will be predicting Target_D : y= Target_D\n",
    "# X will be everything else - but we might drop / process some columns \n",
    "y=df['target_d']\n",
    "X=df.drop(['target_d'],axis=1)"
   ]
  },
  {
   "cell_type": "code",
   "execution_count": 234,
   "id": "b25730f3",
   "metadata": {},
   "outputs": [
    {
     "data": {
      "text/html": [
       "<div>\n",
       "<style scoped>\n",
       "    .dataframe tbody tr th:only-of-type {\n",
       "        vertical-align: middle;\n",
       "    }\n",
       "\n",
       "    .dataframe tbody tr th {\n",
       "        vertical-align: top;\n",
       "    }\n",
       "\n",
       "    .dataframe thead th {\n",
       "        text-align: right;\n",
       "    }\n",
       "</style>\n",
       "<table border=\"1\" class=\"dataframe\">\n",
       "  <thead>\n",
       "    <tr style=\"text-align: right;\">\n",
       "      <th></th>\n",
       "      <th>controln</th>\n",
       "      <th>state</th>\n",
       "      <th>gender</th>\n",
       "      <th>medianhv</th>\n",
       "      <th>ic1</th>\n",
       "      <th>ic4</th>\n",
       "      <th>hvp1</th>\n",
       "      <th>percapita</th>\n",
       "      <th>pobc1</th>\n",
       "      <th>pobc2</th>\n",
       "      <th>ic2</th>\n",
       "      <th>ic3</th>\n",
       "      <th>avggift</th>\n",
       "      <th>tcode</th>\n",
       "      <th>dob</th>\n",
       "      <th>domain</th>\n",
       "    </tr>\n",
       "  </thead>\n",
       "  <tbody>\n",
       "    <tr>\n",
       "      <th>0</th>\n",
       "      <td>44060</td>\n",
       "      <td>FL</td>\n",
       "      <td>Male</td>\n",
       "      <td>801.0</td>\n",
       "      <td>392</td>\n",
       "      <td>520.0</td>\n",
       "      <td>7</td>\n",
       "      <td>21975.0</td>\n",
       "      <td>6</td>\n",
       "      <td>16</td>\n",
       "      <td>430.0</td>\n",
       "      <td>466</td>\n",
       "      <td>28.000000</td>\n",
       "      <td>1</td>\n",
       "      <td>1901</td>\n",
       "      <td>C2</td>\n",
       "    </tr>\n",
       "    <tr>\n",
       "      <th>1</th>\n",
       "      <td>96093</td>\n",
       "      <td>IL</td>\n",
       "      <td>Male</td>\n",
       "      <td>537.0</td>\n",
       "      <td>365</td>\n",
       "      <td>473.0</td>\n",
       "      <td>0</td>\n",
       "      <td>19387.0</td>\n",
       "      <td>1</td>\n",
       "      <td>89</td>\n",
       "      <td>415.0</td>\n",
       "      <td>410</td>\n",
       "      <td>5.666667</td>\n",
       "      <td>0</td>\n",
       "      <td>0</td>\n",
       "      <td>T2</td>\n",
       "    </tr>\n",
       "    <tr>\n",
       "      <th>2</th>\n",
       "      <td>43333</td>\n",
       "      <td>FL</td>\n",
       "      <td>Female</td>\n",
       "      <td>725.0</td>\n",
       "      <td>301</td>\n",
       "      <td>436.0</td>\n",
       "      <td>3</td>\n",
       "      <td>18837.0</td>\n",
       "      <td>11</td>\n",
       "      <td>17</td>\n",
       "      <td>340.0</td>\n",
       "      <td>361</td>\n",
       "      <td>4.111111</td>\n",
       "      <td>0</td>\n",
       "      <td>2501</td>\n",
       "      <td>C2</td>\n",
       "    </tr>\n",
       "    <tr>\n",
       "      <th>3</th>\n",
       "      <td>21885</td>\n",
       "      <td>NC</td>\n",
       "      <td>Male</td>\n",
       "      <td>801.0</td>\n",
       "      <td>401</td>\n",
       "      <td>413.0</td>\n",
       "      <td>7</td>\n",
       "      <td>14014.0</td>\n",
       "      <td>1</td>\n",
       "      <td>74</td>\n",
       "      <td>407.0</td>\n",
       "      <td>399</td>\n",
       "      <td>27.277778</td>\n",
       "      <td>0</td>\n",
       "      <td>2208</td>\n",
       "      <td>T2</td>\n",
       "    </tr>\n",
       "    <tr>\n",
       "      <th>4</th>\n",
       "      <td>190108</td>\n",
       "      <td>FL</td>\n",
       "      <td>Female</td>\n",
       "      <td>995.0</td>\n",
       "      <td>252</td>\n",
       "      <td>348.0</td>\n",
       "      <td>0</td>\n",
       "      <td>17991.0</td>\n",
       "      <td>5</td>\n",
       "      <td>6</td>\n",
       "      <td>280.0</td>\n",
       "      <td>316</td>\n",
       "      <td>6.000000</td>\n",
       "      <td>28</td>\n",
       "      <td>0</td>\n",
       "      <td>C2</td>\n",
       "    </tr>\n",
       "  </tbody>\n",
       "</table>\n",
       "</div>"
      ],
      "text/plain": [
       "   controln state  gender  medianhv  ic1    ic4  hvp1  percapita  pobc1  \\\n",
       "0     44060    FL    Male     801.0  392  520.0     7    21975.0      6   \n",
       "1     96093    IL    Male     537.0  365  473.0     0    19387.0      1   \n",
       "2     43333    FL  Female     725.0  301  436.0     3    18837.0     11   \n",
       "3     21885    NC    Male     801.0  401  413.0     7    14014.0      1   \n",
       "4    190108    FL  Female     995.0  252  348.0     0    17991.0      5   \n",
       "\n",
       "   pobc2    ic2  ic3    avggift  tcode   dob domain  \n",
       "0     16  430.0  466  28.000000      1  1901     C2  \n",
       "1     89  415.0  410   5.666667      0     0     T2  \n",
       "2     17  340.0  361   4.111111      0  2501     C2  \n",
       "3     74  407.0  399  27.277778      0  2208     T2  \n",
       "4      6  280.0  316   6.000000     28     0     C2  "
      ]
     },
     "execution_count": 234,
     "metadata": {},
     "output_type": "execute_result"
    }
   ],
   "source": [
    "X.head()"
   ]
  },
  {
   "cell_type": "markdown",
   "id": "779545fd",
   "metadata": {},
   "source": [
    "## Drop any unusable features \n",
    "- based on the correlation matrix - ie highly correlated \n",
    "- anything that seems not useful "
   ]
  },
  {
   "cell_type": "code",
   "execution_count": 235,
   "id": "6c384dad",
   "metadata": {},
   "outputs": [
    {
     "data": {
      "text/plain": [
       "Index(['controln', 'state', 'gender', 'medianhv', 'ic1', 'ic4', 'hvp1',\n",
       "       'percapita', 'pobc1', 'pobc2', 'ic2', 'ic3', 'avggift', 'tcode', 'dob',\n",
       "       'domain'],\n",
       "      dtype='object')"
      ]
     },
     "execution_count": 235,
     "metadata": {},
     "output_type": "execute_result"
    }
   ],
   "source": [
    "X.columns"
   ]
  },
  {
   "cell_type": "code",
   "execution_count": 236,
   "id": "36625558",
   "metadata": {},
   "outputs": [],
   "source": [
    "X=X.drop(['controln','ic2','ic3','ic4','tcode'],axis=1)"
   ]
  },
  {
   "cell_type": "markdown",
   "id": "85c2f09b",
   "metadata": {},
   "source": [
    "## Pre processing - getting X ready for the model "
   ]
  },
  {
   "cell_type": "markdown",
   "id": "838c335e",
   "metadata": {},
   "source": [
    "- power transformation - scaling a feature \n",
    "- managing outliers - remove outliers, flag them ?\n",
    "- making strings into numbers (encoding) : REQUIRED for linear regression \n",
    "- numerical scaling - scales all the features to have the same range "
   ]
  },
  {
   "cell_type": "code",
   "execution_count": 237,
   "id": "e663a15b",
   "metadata": {},
   "outputs": [],
   "source": [
    "# separate the numerical and categorical features \n",
    "\n",
    "X_num=X.select_dtypes(include=np.number)\n",
    "X_cat=X.select_dtypes(include=object)"
   ]
  },
  {
   "cell_type": "markdown",
   "id": "4161c437",
   "metadata": {},
   "source": [
    "can turn warnings off \n",
    "- import warnings \n",
    "- warnings.filterwarnings('ignore')"
   ]
  },
  {
   "cell_type": "code",
   "execution_count": 238,
   "id": "f9857f41",
   "metadata": {},
   "outputs": [
    {
     "data": {
      "text/html": [
       "<div>\n",
       "<style scoped>\n",
       "    .dataframe tbody tr th:only-of-type {\n",
       "        vertical-align: middle;\n",
       "    }\n",
       "\n",
       "    .dataframe tbody tr th {\n",
       "        vertical-align: top;\n",
       "    }\n",
       "\n",
       "    .dataframe thead th {\n",
       "        text-align: right;\n",
       "    }\n",
       "</style>\n",
       "<table border=\"1\" class=\"dataframe\">\n",
       "  <thead>\n",
       "    <tr style=\"text-align: right;\">\n",
       "      <th></th>\n",
       "      <th>state</th>\n",
       "      <th>gender</th>\n",
       "      <th>domain</th>\n",
       "    </tr>\n",
       "  </thead>\n",
       "  <tbody>\n",
       "    <tr>\n",
       "      <th>0</th>\n",
       "      <td>FL</td>\n",
       "      <td>Male</td>\n",
       "      <td>C2</td>\n",
       "    </tr>\n",
       "  </tbody>\n",
       "</table>\n",
       "</div>"
      ],
      "text/plain": [
       "  state gender domain\n",
       "0    FL   Male     C2"
      ]
     },
     "execution_count": 238,
     "metadata": {},
     "output_type": "execute_result"
    }
   ],
   "source": [
    "X_cat.head(1)"
   ]
  },
  {
   "cell_type": "code",
   "execution_count": 239,
   "id": "9580fee6",
   "metadata": {},
   "outputs": [
    {
     "data": {
      "text/html": [
       "<div>\n",
       "<style scoped>\n",
       "    .dataframe tbody tr th:only-of-type {\n",
       "        vertical-align: middle;\n",
       "    }\n",
       "\n",
       "    .dataframe tbody tr th {\n",
       "        vertical-align: top;\n",
       "    }\n",
       "\n",
       "    .dataframe thead th {\n",
       "        text-align: right;\n",
       "    }\n",
       "</style>\n",
       "<table border=\"1\" class=\"dataframe\">\n",
       "  <thead>\n",
       "    <tr style=\"text-align: right;\">\n",
       "      <th></th>\n",
       "      <th>medianhv</th>\n",
       "      <th>ic1</th>\n",
       "      <th>hvp1</th>\n",
       "      <th>percapita</th>\n",
       "      <th>pobc1</th>\n",
       "      <th>pobc2</th>\n",
       "      <th>avggift</th>\n",
       "      <th>dob</th>\n",
       "    </tr>\n",
       "  </thead>\n",
       "  <tbody>\n",
       "    <tr>\n",
       "      <th>0</th>\n",
       "      <td>801.0</td>\n",
       "      <td>392</td>\n",
       "      <td>7</td>\n",
       "      <td>21975.0</td>\n",
       "      <td>6</td>\n",
       "      <td>16</td>\n",
       "      <td>28.0</td>\n",
       "      <td>1901</td>\n",
       "    </tr>\n",
       "  </tbody>\n",
       "</table>\n",
       "</div>"
      ],
      "text/plain": [
       "   medianhv  ic1  hvp1  percapita  pobc1  pobc2  avggift   dob\n",
       "0     801.0  392     7    21975.0      6     16     28.0  1901"
      ]
     },
     "execution_count": 239,
     "metadata": {},
     "output_type": "execute_result"
    }
   ],
   "source": [
    "X_num.head(1)"
   ]
  },
  {
   "cell_type": "markdown",
   "id": "deb64401",
   "metadata": {},
   "source": [
    "### turn categories into numbers - encoding "
   ]
  },
  {
   "cell_type": "code",
   "execution_count": 240,
   "id": "609edecf",
   "metadata": {},
   "outputs": [
    {
     "data": {
      "text/plain": [
       "array([[0., 0., 0., ..., 0., 0., 0.],\n",
       "       [0., 0., 0., ..., 0., 0., 0.],\n",
       "       [0., 0., 0., ..., 0., 0., 0.],\n",
       "       ...,\n",
       "       [0., 0., 0., ..., 0., 0., 0.],\n",
       "       [0., 0., 0., ..., 0., 0., 0.],\n",
       "       [0., 0., 0., ..., 0., 0., 0.]])"
      ]
     },
     "execution_count": 240,
     "metadata": {},
     "output_type": "execute_result"
    }
   ],
   "source": [
    "#### One hot encoder \n",
    "from sklearn.preprocessing import OneHotEncoder\n",
    "encoder=OneHotEncoder(handle_unknown='error', drop='first').fit(X_cat)\n",
    "X_encoded=encoder.transform(X_cat).toarray()\n",
    "X_encoded"
   ]
  },
  {
   "cell_type": "code",
   "execution_count": 241,
   "id": "392c9514",
   "metadata": {},
   "outputs": [
    {
     "data": {
      "text/plain": [
       "(3993, 65)"
      ]
     },
     "execution_count": 241,
     "metadata": {},
     "output_type": "execute_result"
    }
   ],
   "source": [
    "X_encoded.shape"
   ]
  },
  {
   "cell_type": "code",
   "execution_count": 242,
   "id": "54fb302f",
   "metadata": {},
   "outputs": [],
   "source": [
    "#### get dummies \n",
    "X_dummies=pd.get_dummies(X_cat, drop_first=True)"
   ]
  },
  {
   "cell_type": "code",
   "execution_count": 243,
   "id": "d4aec993",
   "metadata": {},
   "outputs": [
    {
     "data": {
      "text/plain": [
       "(3993, 65)"
      ]
     },
     "execution_count": 243,
     "metadata": {},
     "output_type": "execute_result"
    }
   ],
   "source": [
    "X_dummies.shape"
   ]
  },
  {
   "cell_type": "code",
   "execution_count": 244,
   "id": "240465ce",
   "metadata": {},
   "outputs": [],
   "source": [
    "#### ordinal encoding \n",
    "from sklearn.preprocessing import OrdinalEncoder\n",
    "oe=OrdinalEncoder()\n",
    "oe.fit(X_cat)\n",
    "X_ordinal=oe.transform(X_cat)"
   ]
  },
  {
   "cell_type": "code",
   "execution_count": 245,
   "id": "469c069b",
   "metadata": {},
   "outputs": [
    {
     "data": {
      "text/html": [
       "<div>\n",
       "<style scoped>\n",
       "    .dataframe tbody tr th:only-of-type {\n",
       "        vertical-align: middle;\n",
       "    }\n",
       "\n",
       "    .dataframe tbody tr th {\n",
       "        vertical-align: top;\n",
       "    }\n",
       "\n",
       "    .dataframe thead th {\n",
       "        text-align: right;\n",
       "    }\n",
       "</style>\n",
       "<table border=\"1\" class=\"dataframe\">\n",
       "  <thead>\n",
       "    <tr style=\"text-align: right;\">\n",
       "      <th></th>\n",
       "      <th>state</th>\n",
       "      <th>gender</th>\n",
       "      <th>domain</th>\n",
       "    </tr>\n",
       "  </thead>\n",
       "  <tbody>\n",
       "    <tr>\n",
       "      <th>0</th>\n",
       "      <td>FL</td>\n",
       "      <td>Male</td>\n",
       "      <td>C2</td>\n",
       "    </tr>\n",
       "    <tr>\n",
       "      <th>1</th>\n",
       "      <td>IL</td>\n",
       "      <td>Male</td>\n",
       "      <td>T2</td>\n",
       "    </tr>\n",
       "    <tr>\n",
       "      <th>2</th>\n",
       "      <td>FL</td>\n",
       "      <td>Female</td>\n",
       "      <td>C2</td>\n",
       "    </tr>\n",
       "  </tbody>\n",
       "</table>\n",
       "</div>"
      ],
      "text/plain": [
       "  state  gender domain\n",
       "0    FL    Male     C2\n",
       "1    IL    Male     T2\n",
       "2    FL  Female     C2"
      ]
     },
     "execution_count": 245,
     "metadata": {},
     "output_type": "execute_result"
    }
   ],
   "source": [
    "X_cat.head(3)"
   ]
  },
  {
   "cell_type": "code",
   "execution_count": 246,
   "id": "3c6dc5ce",
   "metadata": {},
   "outputs": [
    {
     "data": {
      "text/plain": [
       "array([[10.,  1.,  2.],\n",
       "       [16.,  1., 11.],\n",
       "       [10.,  0.,  2.],\n",
       "       ...,\n",
       "       [ 7.,  0., 13.],\n",
       "       [ 7.,  1.,  7.],\n",
       "       [22.,  1.,  5.]])"
      ]
     },
     "execution_count": 246,
     "metadata": {},
     "output_type": "execute_result"
    }
   ],
   "source": [
    "X_ordinal"
   ]
  },
  {
   "cell_type": "markdown",
   "id": "6b885880",
   "metadata": {},
   "source": [
    "### numerical fields preprocessing "
   ]
  },
  {
   "cell_type": "code",
   "execution_count": 247,
   "id": "2d06edc2",
   "metadata": {},
   "outputs": [
    {
     "data": {
      "text/plain": [
       "<AxesSubplot:>"
      ]
     },
     "execution_count": 247,
     "metadata": {},
     "output_type": "execute_result"
    },
    {
     "data": {
      "image/png": "[encoded data removed]",
      "text/plain": [
       "<Figure size 432x288 with 1 Axes>"
      ]
     },
     "metadata": {
      "needs_background": "light"
     },
     "output_type": "display_data"
    }
   ],
   "source": [
    "# removing outliers \n",
    "df['medianhv'].hist()"
   ]
  },
  {
   "cell_type": "code",
   "execution_count": 248,
   "id": "fe351b77",
   "metadata": {},
   "outputs": [
    {
     "data": {
      "text/plain": [
       "<AxesSubplot:>"
      ]
     },
     "execution_count": 248,
     "metadata": {},
     "output_type": "execute_result"
    },
    {
     "data": {
      "image/png": "[encoded data removed]",
      "text/plain": [
       "<Figure size 432x288 with 1 Axes>"
      ]
     },
     "metadata": {
      "needs_background": "light"
     },
     "output_type": "display_data"
    }
   ],
   "source": [
    "df['percapita'].hist()"
   ]
  },
  {
   "cell_type": "code",
   "execution_count": 249,
   "id": "5cdba5aa",
   "metadata": {},
   "outputs": [],
   "source": [
    "iqr=np.percentile(df['percapita'],75)-np.percentile(df['percapita'],25)\n",
    "upper_limit=np.percentile(df['percapita'],75)+1.5*iqr\n",
    "lower_limit=np.percentile(df['percapita'],25)-1.5*iqr\n",
    "# example only - i will use a new df variable \n",
    "\n",
    "data_exc_out=df[(df['percapita']>lower_limit)&(df['percapita']<upper_limit)]"
   ]
  },
  {
   "cell_type": "code",
   "execution_count": 250,
   "id": "a8307738",
   "metadata": {},
   "outputs": [
    {
     "data": {
      "text/plain": [
       "7644.0"
      ]
     },
     "execution_count": 250,
     "metadata": {},
     "output_type": "execute_result"
    }
   ],
   "source": [
    "iqr"
   ]
  },
  {
   "cell_type": "code",
   "execution_count": 251,
   "id": "3e9f0bd1",
   "metadata": {},
   "outputs": [
    {
     "data": {
      "text/plain": [
       "<AxesSubplot:>"
      ]
     },
     "execution_count": 251,
     "metadata": {},
     "output_type": "execute_result"
    },
    {
     "data": {
      "image/png": "[encoded data removed]",
      "text/plain": [
       "<Figure size 432x288 with 1 Axes>"
      ]
     },
     "metadata": {
      "needs_background": "light"
     },
     "output_type": "display_data"
    }
   ],
   "source": [
    "data_exc_out['percapita'].hist()"
   ]
  },
  {
   "cell_type": "code",
   "execution_count": 252,
   "id": "83ca3433",
   "metadata": {},
   "outputs": [
    {
     "data": {
      "text/plain": [
       "<AxesSubplot:>"
      ]
     },
     "execution_count": 252,
     "metadata": {},
     "output_type": "execute_result"
    },
    {
     "data": {
      "image/png": "[encoded data removed]",
      "text/plain": [
       "<Figure size 432x288 with 1 Axes>"
      ]
     },
     "metadata": {
      "needs_background": "light"
     },
     "output_type": "display_data"
    }
   ],
   "source": [
    "# power transformation - log transformation \n",
    "df['avggift'].hist()"
   ]
  },
  {
   "cell_type": "code",
   "execution_count": 253,
   "id": "36f8477d",
   "metadata": {},
   "outputs": [],
   "source": [
    "def log_transform_clean(x):\n",
    "    x=np.log(x)\n",
    "    if np.isfinite(x):\n",
    "        return x\n",
    "    else:\n",
    "        return 0\n",
    "df['avg_gift_log']=list(map(log_transform_clean,df['avggift']))"
   ]
  },
  {
   "cell_type": "code",
   "execution_count": 254,
   "id": "5a69f702",
   "metadata": {},
   "outputs": [
    {
     "data": {
      "text/plain": [
       "<AxesSubplot:>"
      ]
     },
     "execution_count": 254,
     "metadata": {},
     "output_type": "execute_result"
    },
    {
     "data": {
      "image/png": "[encoded data removed]",
      "text/plain": [
       "<Figure size 432x288 with 1 Axes>"
      ]
     },
     "metadata": {
      "needs_background": "light"
     },
     "output_type": "display_data"
    }
   ],
   "source": [
    "df['avg_gift_log'].hist()"
   ]
  },
  {
   "cell_type": "code",
   "execution_count": 255,
   "id": "6fe77cbf",
   "metadata": {},
   "outputs": [
    {
     "data": {
      "text/html": [
       "<div>\n",
       "<style scoped>\n",
       "    .dataframe tbody tr th:only-of-type {\n",
       "        vertical-align: middle;\n",
       "    }\n",
       "\n",
       "    .dataframe tbody tr th {\n",
       "        vertical-align: top;\n",
       "    }\n",
       "\n",
       "    .dataframe thead th {\n",
       "        text-align: right;\n",
       "    }\n",
       "</style>\n",
       "<table border=\"1\" class=\"dataframe\">\n",
       "  <thead>\n",
       "    <tr style=\"text-align: right;\">\n",
       "      <th></th>\n",
       "      <th>medianhv</th>\n",
       "      <th>ic1</th>\n",
       "      <th>hvp1</th>\n",
       "      <th>percapita</th>\n",
       "      <th>pobc1</th>\n",
       "      <th>pobc2</th>\n",
       "      <th>avggift</th>\n",
       "      <th>dob</th>\n",
       "    </tr>\n",
       "  </thead>\n",
       "  <tbody>\n",
       "    <tr>\n",
       "      <th>0</th>\n",
       "      <td>801.0</td>\n",
       "      <td>392</td>\n",
       "      <td>7</td>\n",
       "      <td>21975.0</td>\n",
       "      <td>6</td>\n",
       "      <td>16</td>\n",
       "      <td>28.000000</td>\n",
       "      <td>1901</td>\n",
       "    </tr>\n",
       "    <tr>\n",
       "      <th>1</th>\n",
       "      <td>537.0</td>\n",
       "      <td>365</td>\n",
       "      <td>0</td>\n",
       "      <td>19387.0</td>\n",
       "      <td>1</td>\n",
       "      <td>89</td>\n",
       "      <td>5.666667</td>\n",
       "      <td>0</td>\n",
       "    </tr>\n",
       "    <tr>\n",
       "      <th>2</th>\n",
       "      <td>725.0</td>\n",
       "      <td>301</td>\n",
       "      <td>3</td>\n",
       "      <td>18837.0</td>\n",
       "      <td>11</td>\n",
       "      <td>17</td>\n",
       "      <td>4.111111</td>\n",
       "      <td>2501</td>\n",
       "    </tr>\n",
       "    <tr>\n",
       "      <th>3</th>\n",
       "      <td>801.0</td>\n",
       "      <td>401</td>\n",
       "      <td>7</td>\n",
       "      <td>14014.0</td>\n",
       "      <td>1</td>\n",
       "      <td>74</td>\n",
       "      <td>27.277778</td>\n",
       "      <td>2208</td>\n",
       "    </tr>\n",
       "    <tr>\n",
       "      <th>4</th>\n",
       "      <td>995.0</td>\n",
       "      <td>252</td>\n",
       "      <td>0</td>\n",
       "      <td>17991.0</td>\n",
       "      <td>5</td>\n",
       "      <td>6</td>\n",
       "      <td>6.000000</td>\n",
       "      <td>0</td>\n",
       "    </tr>\n",
       "  </tbody>\n",
       "</table>\n",
       "</div>"
      ],
      "text/plain": [
       "   medianhv  ic1  hvp1  percapita  pobc1  pobc2    avggift   dob\n",
       "0     801.0  392     7    21975.0      6     16  28.000000  1901\n",
       "1     537.0  365     0    19387.0      1     89   5.666667     0\n",
       "2     725.0  301     3    18837.0     11     17   4.111111  2501\n",
       "3     801.0  401     7    14014.0      1     74  27.277778  2208\n",
       "4     995.0  252     0    17991.0      5      6   6.000000     0"
      ]
     },
     "execution_count": 255,
     "metadata": {},
     "output_type": "execute_result"
    }
   ],
   "source": [
    "X_num.head()"
   ]
  },
  {
   "cell_type": "code",
   "execution_count": 256,
   "id": "8074b56f",
   "metadata": {},
   "outputs": [],
   "source": [
    "# optional if we still see target in X_num \n",
    "#X_num=X_num.drop(['target_d'])"
   ]
  },
  {
   "cell_type": "markdown",
   "id": "292de53f",
   "metadata": {},
   "source": [
    "#### check we have the same number of rows"
   ]
  },
  {
   "cell_type": "code",
   "execution_count": 257,
   "id": "ef57c7dd",
   "metadata": {},
   "outputs": [
    {
     "data": {
      "text/plain": [
       "(3993, 8)"
      ]
     },
     "execution_count": 257,
     "metadata": {},
     "output_type": "execute_result"
    }
   ],
   "source": [
    "X_num.shape"
   ]
  },
  {
   "cell_type": "code",
   "execution_count": 258,
   "id": "84001b97",
   "metadata": {},
   "outputs": [
    {
     "data": {
      "text/plain": [
       "(3993, 3)"
      ]
     },
     "execution_count": 258,
     "metadata": {},
     "output_type": "execute_result"
    }
   ],
   "source": [
    "X_cat.shape"
   ]
  },
  {
   "cell_type": "markdown",
   "id": "5787c2bf",
   "metadata": {},
   "source": [
    "### Bring the data frame back together "
   ]
  },
  {
   "cell_type": "markdown",
   "id": "566da72e",
   "metadata": {},
   "source": [
    "- numerical data - pre processed ?\n",
    "- cat - turned into numbers \n",
    "- merge them using concat()\n"
   ]
  },
  {
   "cell_type": "code",
   "execution_count": 260,
   "id": "0c2cd28b",
   "metadata": {},
   "outputs": [],
   "source": [
    "X_final=pd.concat((X_num,X_dummies),axis=1)"
   ]
  },
  {
   "cell_type": "code",
   "execution_count": 261,
   "id": "7d137ffc",
   "metadata": {},
   "outputs": [
    {
     "data": {
      "text/plain": [
       "(3993, 73)"
      ]
     },
     "execution_count": 261,
     "metadata": {},
     "output_type": "execute_result"
    }
   ],
   "source": [
    "X_final.shape"
   ]
  },
  {
   "cell_type": "markdown",
   "id": "4a7c9b5e",
   "metadata": {},
   "source": [
    "## Train and test split "
   ]
  },
  {
   "cell_type": "code",
   "execution_count": 276,
   "id": "f9353e6d",
   "metadata": {},
   "outputs": [],
   "source": [
    "X_train,X_test,y_train,y_test=train_test_split(X_final,y,test_size=0.3, random_state=40)"
   ]
  },
  {
   "cell_type": "markdown",
   "id": "4fc42c63",
   "metadata": {},
   "source": [
    "## Apply the model "
   ]
  },
  {
   "cell_type": "code",
   "execution_count": 277,
   "id": "b65d5006",
   "metadata": {},
   "outputs": [],
   "source": [
    "lm=linear_model.LinearRegression() #configure model \n",
    "model=lm.fit(X_train,y_train)"
   ]
  },
  {
   "cell_type": "markdown",
   "id": "f9719892",
   "metadata": {},
   "source": [
    "## Make predictions using the model "
   ]
  },
  {
   "cell_type": "code",
   "execution_count": 278,
   "id": "62f038d9",
   "metadata": {},
   "outputs": [],
   "source": [
    "preds=lm.predict(X_test)"
   ]
  },
  {
   "cell_type": "code",
   "execution_count": 266,
   "id": "cf592b7d",
   "metadata": {},
   "outputs": [
    {
     "data": {
      "text/plain": [
       "array([16.93476687, 18.70265668, 16.4559557 , ...,  6.19599294,\n",
       "        7.21649417, 13.43434895])"
      ]
     },
     "execution_count": 266,
     "metadata": {},
     "output_type": "execute_result"
    }
   ],
   "source": [
    "preds"
   ]
  },
  {
   "cell_type": "markdown",
   "id": "58d2991b",
   "metadata": {},
   "source": [
    "## Evaluate the model - r2 , mse"
   ]
  },
  {
   "cell_type": "code",
   "execution_count": 279,
   "id": "98365bf0",
   "metadata": {},
   "outputs": [
    {
     "data": {
      "text/plain": [
       "-0.5428199893295431"
      ]
     },
     "execution_count": 279,
     "metadata": {},
     "output_type": "execute_result"
    }
   ],
   "source": [
    "r2_score(y_test,preds) # true, predictions"
   ]
  },
  {
   "cell_type": "code",
   "execution_count": 280,
   "id": "464823c9",
   "metadata": {},
   "outputs": [
    {
     "data": {
      "text/plain": [
       "285.1134229397946"
      ]
     },
     "execution_count": 280,
     "metadata": {},
     "output_type": "execute_result"
    }
   ],
   "source": [
    "mean_squared_error(y_test, preds)"
   ]
  },
  {
   "cell_type": "code",
   "execution_count": null,
   "id": "c03d9395",
   "metadata": {},
   "outputs": [],
   "source": [
    "# conclusion - this is a baseline"
   ]
  },
  {
   "cell_type": "code",
   "execution_count": null,
   "id": "1ff6bbfb",
   "metadata": {},
   "outputs": [],
   "source": []
  },
  {
   "cell_type": "markdown",
   "id": "f1f5f88e",
   "metadata": {},
   "source": [
    "## Scaling numerical columns - apply to X_num \n",
    "- MinMaxScaler\n",
    "- Normalizer\n",
    "- Robust Scaler (outliers)\n",
    "- Standard Scaler \n"
   ]
  },
  {
   "cell_type": "code",
   "execution_count": 281,
   "id": "63c54862",
   "metadata": {},
   "outputs": [],
   "source": [
    "from sklearn.preprocessing import MinMaxScaler\n",
    "scaler = MinMaxScaler() # optionally range 1-10 \n",
    "scaled=scaler.fit(X_num)\n",
    "scaled_X_num=scaled.transform(X_num)"
   ]
  },
  {
   "cell_type": "code",
   "execution_count": 282,
   "id": "b57f5b5d",
   "metadata": {},
   "outputs": [
    {
     "data": {
      "text/plain": [
       "array([[0.13390171, 0.26133333, 0.07070707, ..., 0.16161616, 0.05748689,\n",
       "        0.20418904],\n",
       "       [0.08976931, 0.24333333, 0.        , ..., 0.8989899 , 0.00760666,\n",
       "        0.        ],\n",
       "       [0.12119692, 0.20066667, 0.03030303, ..., 0.17171717, 0.00413241,\n",
       "        0.26863588],\n",
       "       ...,\n",
       "       [0.45252424, 0.338     , 0.80808081, ..., 0.54545455, 0.02201455,\n",
       "        0.42975295],\n",
       "       [0.44567034, 0.35666667, 0.63636364, ..., 0.45454545, 0.02249628,\n",
       "        0.47271751],\n",
       "       [0.07422267, 0.15      , 0.03030303, ..., 0.86868687, 0.03323808,\n",
       "        0.04350161]])"
      ]
     },
     "execution_count": 282,
     "metadata": {},
     "output_type": "execute_result"
    }
   ],
   "source": [
    "scaled_X_num"
   ]
  },
  {
   "cell_type": "code",
   "execution_count": null,
   "id": "ac543992",
   "metadata": {},
   "outputs": [],
   "source": []
  },
  {
   "cell_type": "code",
   "execution_count": null,
   "id": "d9497d35",
   "metadata": {},
   "outputs": [],
   "source": []
  }
 ],
 "metadata": {
  "kernelspec": {
   "display_name": "Python 3 (ipykernel)",
   "language": "python",
   "name": "python3"
  },
  "language_info": {
   "codemirror_mode": {
    "name": "ipython",
    "version": 3
   },
   "file_extension": ".py",
   "mimetype": "text/x-python",
   "name": "python",
   "nbconvert_exporter": "python",
   "pygments_lexer": "ipython3",
   "version": "3.9.7"
  },
  "toc": {
   "base_numbering": 1,
   "nav_menu": {},
   "number_sections": true,
   "sideBar": true,
   "skip_h1_title": false,
   "title_cell": "Table of Contents",
   "title_sidebar": "Contents",
   "toc_cell": false,
   "toc_position": {},
   "toc_section_display": true,
   "toc_window_display": false
  }
 },
 "nbformat": 4,
 "nbformat_minor": 5
}
